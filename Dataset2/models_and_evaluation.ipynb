{
 "cells": [
  {
   "cell_type": "code",
   "execution_count": 1,
   "id": "c8c11093",
   "metadata": {
    "_cell_guid": "b1076dfc-b9ad-4769-8c92-a6c4dae69d19",
    "_uuid": "8f2839f25d086af736a60e9eeb907d3b93b6e0e5",
    "execution": {
     "iopub.execute_input": "2025-05-24T18:46:22.404949Z",
     "iopub.status.busy": "2025-05-24T18:46:22.404023Z",
     "iopub.status.idle": "2025-05-24T18:46:24.816212Z",
     "shell.execute_reply": "2025-05-24T18:46:24.815011Z"
    },
    "papermill": {
     "duration": 2.425134,
     "end_time": "2025-05-24T18:46:24.817922",
     "exception": false,
     "start_time": "2025-05-24T18:46:22.392788",
     "status": "completed"
    },
    "tags": []
   },
   "outputs": [
    {
     "name": "stdout",
     "output_type": "stream",
     "text": [
      "/kaggle/input/apache-logs-cean-data/apache_logs_clean_data.csv\n"
     ]
    }
   ],
   "source": [
    "# This Python 3 environment comes with many helpful analytics libraries installed\n",
    "# It is defined by the kaggle/python Docker image: https://github.com/kaggle/docker-python\n",
    "# For example, here's several helpful packages to load\n",
    "\n",
    "import numpy as np # linear algebra\n",
    "import pandas as pd # data processing, CSV file I/O (e.g. pd.read_csv)\n",
    "\n",
    "# Input data files are available in the read-only \"../input/\" directory\n",
    "# For example, running this (by clicking run or pressing Shift+Enter) will list all files under the input directory\n",
    "\n",
    "import os\n",
    "for dirname, _, filenames in os.walk('/kaggle/input'):\n",
    "    for filename in filenames:\n",
    "        print(os.path.join(dirname, filename))\n",
    "\n",
    "# You can write up to 20GB to the current directory (/kaggle/working/) that gets preserved as output when you create a version using \"Save & Run All\" \n",
    "# You can also write temporary files to /kaggle/temp/, but they won't be saved outside of the current session"
   ]
  },
  {
   "cell_type": "code",
   "execution_count": 2,
   "id": "af19e6c3",
   "metadata": {
    "execution": {
     "iopub.execute_input": "2025-05-24T18:46:24.829736Z",
     "iopub.status.busy": "2025-05-24T18:46:24.829315Z",
     "iopub.status.idle": "2025-05-24T18:46:25.043856Z",
     "shell.execute_reply": "2025-05-24T18:46:25.042845Z"
    },
    "papermill": {
     "duration": 0.221921,
     "end_time": "2025-05-24T18:46:25.045384",
     "exception": false,
     "start_time": "2025-05-24T18:46:24.823463",
     "status": "completed"
    },
    "tags": []
   },
   "outputs": [
    {
     "name": "stdout",
     "output_type": "stream",
     "text": [
      "Unnamed: 0            int64\n",
      "status              float64\n",
      "size                 object\n",
      "referer              object\n",
      "Label                object\n",
      "request method       object\n",
      "request path         object\n",
      "request version      object\n",
      "os                   object\n",
      "hour                  int64\n",
      "ip_numeric            int64\n",
      "datetime_numeric    float64\n",
      "dtype: object\n"
     ]
    },
    {
     "data": {
      "text/plain": [
       "(36554, 12)"
      ]
     },
     "execution_count": 2,
     "metadata": {},
     "output_type": "execute_result"
    }
   ],
   "source": [
    "data = pd.read_csv(\"/kaggle/input/apache-logs-cean-data/apache_logs_clean_data.csv\")\n",
    "print(data.dtypes)\n",
    "data.shape\n"
   ]
  },
  {
   "cell_type": "code",
   "execution_count": 3,
   "id": "b2204969",
   "metadata": {
    "execution": {
     "iopub.execute_input": "2025-05-24T18:46:25.056528Z",
     "iopub.status.busy": "2025-05-24T18:46:25.056198Z",
     "iopub.status.idle": "2025-05-24T18:46:27.368053Z",
     "shell.execute_reply": "2025-05-24T18:46:27.367008Z"
    },
    "papermill": {
     "duration": 2.319428,
     "end_time": "2025-05-24T18:46:27.369755",
     "exception": false,
     "start_time": "2025-05-24T18:46:25.050327",
     "status": "completed"
    },
    "tags": []
   },
   "outputs": [],
   "source": [
    "import pandas as pd\n",
    "from sklearn.model_selection import train_test_split\n",
    "from sklearn.preprocessing import OrdinalEncoder, LabelEncoder\n",
    "from sklearn.compose import ColumnTransformer\n",
    "from sklearn.pipeline import Pipeline\n",
    "from xgboost import XGBClassifier"
   ]
  },
  {
   "cell_type": "code",
   "execution_count": 4,
   "id": "c79b5d79",
   "metadata": {
    "execution": {
     "iopub.execute_input": "2025-05-24T18:46:27.381080Z",
     "iopub.status.busy": "2025-05-24T18:46:27.380615Z",
     "iopub.status.idle": "2025-05-24T18:46:27.408343Z",
     "shell.execute_reply": "2025-05-24T18:46:27.407377Z"
    },
    "papermill": {
     "duration": 0.035387,
     "end_time": "2025-05-24T18:46:27.410141",
     "exception": false,
     "start_time": "2025-05-24T18:46:27.374754",
     "status": "completed"
    },
    "tags": []
   },
   "outputs": [],
   "source": [
    "X = data.drop(\"Label\", axis=1)\n",
    "target_le = LabelEncoder()\n",
    "y = target_le.fit_transform(data[\"Label\"])"
   ]
  },
  {
   "cell_type": "code",
   "execution_count": 5,
   "id": "c10d162f",
   "metadata": {
    "execution": {
     "iopub.execute_input": "2025-05-24T18:46:27.421430Z",
     "iopub.status.busy": "2025-05-24T18:46:27.421089Z",
     "iopub.status.idle": "2025-05-24T18:46:27.458014Z",
     "shell.execute_reply": "2025-05-24T18:46:27.457054Z"
    },
    "papermill": {
     "duration": 0.044587,
     "end_time": "2025-05-24T18:46:27.459858",
     "exception": false,
     "start_time": "2025-05-24T18:46:27.415271",
     "status": "completed"
    },
    "tags": []
   },
   "outputs": [],
   "source": [
    "X_train, X_test, y_train, y_test = train_test_split(X, y, test_size=0.2, random_state=42, stratify=y)"
   ]
  },
  {
   "cell_type": "code",
   "execution_count": 6,
   "id": "61d3e3b0",
   "metadata": {
    "execution": {
     "iopub.execute_input": "2025-05-24T18:46:27.470819Z",
     "iopub.status.busy": "2025-05-24T18:46:27.470542Z",
     "iopub.status.idle": "2025-05-24T18:46:27.478288Z",
     "shell.execute_reply": "2025-05-24T18:46:27.477363Z"
    },
    "papermill": {
     "duration": 0.015187,
     "end_time": "2025-05-24T18:46:27.479956",
     "exception": false,
     "start_time": "2025-05-24T18:46:27.464769",
     "status": "completed"
    },
    "tags": []
   },
   "outputs": [],
   "source": [
    "categorical_cols = X.select_dtypes(include=\"object\").columns.tolist()"
   ]
  },
  {
   "cell_type": "code",
   "execution_count": 7,
   "id": "7ff03bc4",
   "metadata": {
    "execution": {
     "iopub.execute_input": "2025-05-24T18:46:27.491967Z",
     "iopub.status.busy": "2025-05-24T18:46:27.491662Z",
     "iopub.status.idle": "2025-05-24T18:46:28.057515Z",
     "shell.execute_reply": "2025-05-24T18:46:28.056355Z"
    },
    "papermill": {
     "duration": 0.574573,
     "end_time": "2025-05-24T18:46:28.059559",
     "exception": false,
     "start_time": "2025-05-24T18:46:27.484986",
     "status": "completed"
    },
    "tags": []
   },
   "outputs": [],
   "source": [
    "from sklearn.ensemble import RandomForestClassifier\n",
    "from sklearn.svm import SVC\n",
    "from sklearn.metrics import classification_report, confusion_matrix\n",
    "from sklearn.pipeline import Pipeline\n",
    "from sklearn.compose import ColumnTransformer\n",
    "from sklearn.preprocessing import OrdinalEncoder, StandardScaler\n",
    "\n",
    "# Identify column types\n",
    "numeric_cols = X_train.select_dtypes(include=[\"int64\", \"float64\"]).columns.tolist()\n",
    "categorical_cols = X_train.select_dtypes(include=[\"object\"]).columns.tolist()\n",
    "\n",
    "# Preprocessing\n",
    "preprocessor = ColumnTransformer([\n",
    "    (\"num\", StandardScaler(), numeric_cols),\n",
    "    (\"cat\", OrdinalEncoder(handle_unknown=\"use_encoded_value\", unknown_value=-1), categorical_cols)\n",
    "])\n"
   ]
  },
  {
   "cell_type": "markdown",
   "id": "2cff09a7",
   "metadata": {
    "papermill": {
     "duration": 0.004493,
     "end_time": "2025-05-24T18:46:28.070033",
     "exception": false,
     "start_time": "2025-05-24T18:46:28.065540",
     "status": "completed"
    },
    "tags": []
   },
   "source": [
    "# XGBoost"
   ]
  },
  {
   "cell_type": "code",
   "execution_count": 8,
   "id": "6079ca55",
   "metadata": {
    "execution": {
     "iopub.execute_input": "2025-05-24T18:46:28.081410Z",
     "iopub.status.busy": "2025-05-24T18:46:28.080912Z",
     "iopub.status.idle": "2025-05-24T18:46:28.099319Z",
     "shell.execute_reply": "2025-05-24T18:46:28.098066Z"
    },
    "papermill": {
     "duration": 0.026085,
     "end_time": "2025-05-24T18:46:28.100956",
     "exception": false,
     "start_time": "2025-05-24T18:46:28.074871",
     "status": "completed"
    },
    "tags": []
   },
   "outputs": [],
   "source": [
    "from collections import Counter\n",
    "class_counts = Counter(y_train)\n",
    "total = len(y_train)\n",
    "class_weights = {cls: total/count for cls, count in class_counts.items()}\n",
    "\n",
    "# Create sample weights array\n",
    "sample_weights = np.array([class_weights[label] for label in y_train])\n",
    "\n",
    "model = XGBClassifier(\n",
    "    objective='multi:softprob',\n",
    "    num_class=len(class_counts),\n",
    "    eval_metric='mlogloss',\n",
    "    use_label_encoder=False,\n",
    "    random_state=42\n",
    ")\n",
    "\n",
    "xgb_pipeline = Pipeline(steps=[\n",
    "    ('preprocessor', preprocessor),\n",
    "    ('classifier', model)\n",
    "])"
   ]
  },
  {
   "cell_type": "code",
   "execution_count": 9,
   "id": "4f9b11e2",
   "metadata": {
    "execution": {
     "iopub.execute_input": "2025-05-24T18:46:28.113281Z",
     "iopub.status.busy": "2025-05-24T18:46:28.112052Z",
     "iopub.status.idle": "2025-05-24T18:46:29.010479Z",
     "shell.execute_reply": "2025-05-24T18:46:29.009457Z"
    },
    "papermill": {
     "duration": 0.906398,
     "end_time": "2025-05-24T18:46:29.012311",
     "exception": false,
     "start_time": "2025-05-24T18:46:28.105913",
     "status": "completed"
    },
    "tags": []
   },
   "outputs": [
    {
     "data": {
      "text/html": [
       "<style>#sk-container-id-1 {color: black;background-color: white;}#sk-container-id-1 pre{padding: 0;}#sk-container-id-1 div.sk-toggleable {background-color: white;}#sk-container-id-1 label.sk-toggleable__label {cursor: pointer;display: block;width: 100%;margin-bottom: 0;padding: 0.3em;box-sizing: border-box;text-align: center;}#sk-container-id-1 label.sk-toggleable__label-arrow:before {content: \"▸\";float: left;margin-right: 0.25em;color: #696969;}#sk-container-id-1 label.sk-toggleable__label-arrow:hover:before {color: black;}#sk-container-id-1 div.sk-estimator:hover label.sk-toggleable__label-arrow:before {color: black;}#sk-container-id-1 div.sk-toggleable__content {max-height: 0;max-width: 0;overflow: hidden;text-align: left;background-color: #f0f8ff;}#sk-container-id-1 div.sk-toggleable__content pre {margin: 0.2em;color: black;border-radius: 0.25em;background-color: #f0f8ff;}#sk-container-id-1 input.sk-toggleable__control:checked~div.sk-toggleable__content {max-height: 200px;max-width: 100%;overflow: auto;}#sk-container-id-1 input.sk-toggleable__control:checked~label.sk-toggleable__label-arrow:before {content: \"▾\";}#sk-container-id-1 div.sk-estimator input.sk-toggleable__control:checked~label.sk-toggleable__label {background-color: #d4ebff;}#sk-container-id-1 div.sk-label input.sk-toggleable__control:checked~label.sk-toggleable__label {background-color: #d4ebff;}#sk-container-id-1 input.sk-hidden--visually {border: 0;clip: rect(1px 1px 1px 1px);clip: rect(1px, 1px, 1px, 1px);height: 1px;margin: -1px;overflow: hidden;padding: 0;position: absolute;width: 1px;}#sk-container-id-1 div.sk-estimator {font-family: monospace;background-color: #f0f8ff;border: 1px dotted black;border-radius: 0.25em;box-sizing: border-box;margin-bottom: 0.5em;}#sk-container-id-1 div.sk-estimator:hover {background-color: #d4ebff;}#sk-container-id-1 div.sk-parallel-item::after {content: \"\";width: 100%;border-bottom: 1px solid gray;flex-grow: 1;}#sk-container-id-1 div.sk-label:hover label.sk-toggleable__label {background-color: #d4ebff;}#sk-container-id-1 div.sk-serial::before {content: \"\";position: absolute;border-left: 1px solid gray;box-sizing: border-box;top: 0;bottom: 0;left: 50%;z-index: 0;}#sk-container-id-1 div.sk-serial {display: flex;flex-direction: column;align-items: center;background-color: white;padding-right: 0.2em;padding-left: 0.2em;position: relative;}#sk-container-id-1 div.sk-item {position: relative;z-index: 1;}#sk-container-id-1 div.sk-parallel {display: flex;align-items: stretch;justify-content: center;background-color: white;position: relative;}#sk-container-id-1 div.sk-item::before, #sk-container-id-1 div.sk-parallel-item::before {content: \"\";position: absolute;border-left: 1px solid gray;box-sizing: border-box;top: 0;bottom: 0;left: 50%;z-index: -1;}#sk-container-id-1 div.sk-parallel-item {display: flex;flex-direction: column;z-index: 1;position: relative;background-color: white;}#sk-container-id-1 div.sk-parallel-item:first-child::after {align-self: flex-end;width: 50%;}#sk-container-id-1 div.sk-parallel-item:last-child::after {align-self: flex-start;width: 50%;}#sk-container-id-1 div.sk-parallel-item:only-child::after {width: 0;}#sk-container-id-1 div.sk-dashed-wrapped {border: 1px dashed gray;margin: 0 0.4em 0.5em 0.4em;box-sizing: border-box;padding-bottom: 0.4em;background-color: white;}#sk-container-id-1 div.sk-label label {font-family: monospace;font-weight: bold;display: inline-block;line-height: 1.2em;}#sk-container-id-1 div.sk-label-container {text-align: center;}#sk-container-id-1 div.sk-container {/* jupyter's `normalize.less` sets `[hidden] { display: none; }` but bootstrap.min.css set `[hidden] { display: none !important; }` so we also need the `!important` here to be able to override the default hidden behavior on the sphinx rendered scikit-learn.org. See: https://github.com/scikit-learn/scikit-learn/issues/21755 */display: inline-block !important;position: relative;}#sk-container-id-1 div.sk-text-repr-fallback {display: none;}</style><div id=\"sk-container-id-1\" class=\"sk-top-container\"><div class=\"sk-text-repr-fallback\"><pre>Pipeline(steps=[(&#x27;preprocessor&#x27;,\n",
       "                 ColumnTransformer(transformers=[(&#x27;num&#x27;, StandardScaler(),\n",
       "                                                  [&#x27;Unnamed: 0&#x27;, &#x27;status&#x27;,\n",
       "                                                   &#x27;hour&#x27;, &#x27;ip_numeric&#x27;,\n",
       "                                                   &#x27;datetime_numeric&#x27;]),\n",
       "                                                 (&#x27;cat&#x27;,\n",
       "                                                  OrdinalEncoder(handle_unknown=&#x27;use_encoded_value&#x27;,\n",
       "                                                                 unknown_value=-1),\n",
       "                                                  [&#x27;size&#x27;, &#x27;referer&#x27;,\n",
       "                                                   &#x27;request method&#x27;,\n",
       "                                                   &#x27;request path&#x27;,\n",
       "                                                   &#x27;request version&#x27;,\n",
       "                                                   &#x27;os&#x27;])])),\n",
       "                (&#x27;classifier&#x27;,\n",
       "                 XGBClassifier(base_score=None, boost...\n",
       "                               feature_types=None, gamma=None, grow_policy=None,\n",
       "                               importance_type=None,\n",
       "                               interaction_constraints=None, learning_rate=None,\n",
       "                               max_bin=None, max_cat_threshold=None,\n",
       "                               max_cat_to_onehot=None, max_delta_step=None,\n",
       "                               max_depth=None, max_leaves=None,\n",
       "                               min_child_weight=None, missing=nan,\n",
       "                               monotone_constraints=None, multi_strategy=None,\n",
       "                               n_estimators=None, n_jobs=None, num_class=3,\n",
       "                               num_parallel_tree=None, ...))])</pre><b>In a Jupyter environment, please rerun this cell to show the HTML representation or trust the notebook. <br />On GitHub, the HTML representation is unable to render, please try loading this page with nbviewer.org.</b></div><div class=\"sk-container\" hidden><div class=\"sk-item sk-dashed-wrapped\"><div class=\"sk-label-container\"><div class=\"sk-label sk-toggleable\"><input class=\"sk-toggleable__control sk-hidden--visually\" id=\"sk-estimator-id-1\" type=\"checkbox\" ><label for=\"sk-estimator-id-1\" class=\"sk-toggleable__label sk-toggleable__label-arrow\">Pipeline</label><div class=\"sk-toggleable__content\"><pre>Pipeline(steps=[(&#x27;preprocessor&#x27;,\n",
       "                 ColumnTransformer(transformers=[(&#x27;num&#x27;, StandardScaler(),\n",
       "                                                  [&#x27;Unnamed: 0&#x27;, &#x27;status&#x27;,\n",
       "                                                   &#x27;hour&#x27;, &#x27;ip_numeric&#x27;,\n",
       "                                                   &#x27;datetime_numeric&#x27;]),\n",
       "                                                 (&#x27;cat&#x27;,\n",
       "                                                  OrdinalEncoder(handle_unknown=&#x27;use_encoded_value&#x27;,\n",
       "                                                                 unknown_value=-1),\n",
       "                                                  [&#x27;size&#x27;, &#x27;referer&#x27;,\n",
       "                                                   &#x27;request method&#x27;,\n",
       "                                                   &#x27;request path&#x27;,\n",
       "                                                   &#x27;request version&#x27;,\n",
       "                                                   &#x27;os&#x27;])])),\n",
       "                (&#x27;classifier&#x27;,\n",
       "                 XGBClassifier(base_score=None, boost...\n",
       "                               feature_types=None, gamma=None, grow_policy=None,\n",
       "                               importance_type=None,\n",
       "                               interaction_constraints=None, learning_rate=None,\n",
       "                               max_bin=None, max_cat_threshold=None,\n",
       "                               max_cat_to_onehot=None, max_delta_step=None,\n",
       "                               max_depth=None, max_leaves=None,\n",
       "                               min_child_weight=None, missing=nan,\n",
       "                               monotone_constraints=None, multi_strategy=None,\n",
       "                               n_estimators=None, n_jobs=None, num_class=3,\n",
       "                               num_parallel_tree=None, ...))])</pre></div></div></div><div class=\"sk-serial\"><div class=\"sk-item sk-dashed-wrapped\"><div class=\"sk-label-container\"><div class=\"sk-label sk-toggleable\"><input class=\"sk-toggleable__control sk-hidden--visually\" id=\"sk-estimator-id-2\" type=\"checkbox\" ><label for=\"sk-estimator-id-2\" class=\"sk-toggleable__label sk-toggleable__label-arrow\">preprocessor: ColumnTransformer</label><div class=\"sk-toggleable__content\"><pre>ColumnTransformer(transformers=[(&#x27;num&#x27;, StandardScaler(),\n",
       "                                 [&#x27;Unnamed: 0&#x27;, &#x27;status&#x27;, &#x27;hour&#x27;, &#x27;ip_numeric&#x27;,\n",
       "                                  &#x27;datetime_numeric&#x27;]),\n",
       "                                (&#x27;cat&#x27;,\n",
       "                                 OrdinalEncoder(handle_unknown=&#x27;use_encoded_value&#x27;,\n",
       "                                                unknown_value=-1),\n",
       "                                 [&#x27;size&#x27;, &#x27;referer&#x27;, &#x27;request method&#x27;,\n",
       "                                  &#x27;request path&#x27;, &#x27;request version&#x27;, &#x27;os&#x27;])])</pre></div></div></div><div class=\"sk-parallel\"><div class=\"sk-parallel-item\"><div class=\"sk-item\"><div class=\"sk-label-container\"><div class=\"sk-label sk-toggleable\"><input class=\"sk-toggleable__control sk-hidden--visually\" id=\"sk-estimator-id-3\" type=\"checkbox\" ><label for=\"sk-estimator-id-3\" class=\"sk-toggleable__label sk-toggleable__label-arrow\">num</label><div class=\"sk-toggleable__content\"><pre>[&#x27;Unnamed: 0&#x27;, &#x27;status&#x27;, &#x27;hour&#x27;, &#x27;ip_numeric&#x27;, &#x27;datetime_numeric&#x27;]</pre></div></div></div><div class=\"sk-serial\"><div class=\"sk-item\"><div class=\"sk-estimator sk-toggleable\"><input class=\"sk-toggleable__control sk-hidden--visually\" id=\"sk-estimator-id-4\" type=\"checkbox\" ><label for=\"sk-estimator-id-4\" class=\"sk-toggleable__label sk-toggleable__label-arrow\">StandardScaler</label><div class=\"sk-toggleable__content\"><pre>StandardScaler()</pre></div></div></div></div></div></div><div class=\"sk-parallel-item\"><div class=\"sk-item\"><div class=\"sk-label-container\"><div class=\"sk-label sk-toggleable\"><input class=\"sk-toggleable__control sk-hidden--visually\" id=\"sk-estimator-id-5\" type=\"checkbox\" ><label for=\"sk-estimator-id-5\" class=\"sk-toggleable__label sk-toggleable__label-arrow\">cat</label><div class=\"sk-toggleable__content\"><pre>[&#x27;size&#x27;, &#x27;referer&#x27;, &#x27;request method&#x27;, &#x27;request path&#x27;, &#x27;request version&#x27;, &#x27;os&#x27;]</pre></div></div></div><div class=\"sk-serial\"><div class=\"sk-item\"><div class=\"sk-estimator sk-toggleable\"><input class=\"sk-toggleable__control sk-hidden--visually\" id=\"sk-estimator-id-6\" type=\"checkbox\" ><label for=\"sk-estimator-id-6\" class=\"sk-toggleable__label sk-toggleable__label-arrow\">OrdinalEncoder</label><div class=\"sk-toggleable__content\"><pre>OrdinalEncoder(handle_unknown=&#x27;use_encoded_value&#x27;, unknown_value=-1)</pre></div></div></div></div></div></div></div></div><div class=\"sk-item\"><div class=\"sk-estimator sk-toggleable\"><input class=\"sk-toggleable__control sk-hidden--visually\" id=\"sk-estimator-id-7\" type=\"checkbox\" ><label for=\"sk-estimator-id-7\" class=\"sk-toggleable__label sk-toggleable__label-arrow\">XGBClassifier</label><div class=\"sk-toggleable__content\"><pre>XGBClassifier(base_score=None, booster=None, callbacks=None,\n",
       "              colsample_bylevel=None, colsample_bynode=None,\n",
       "              colsample_bytree=None, device=None, early_stopping_rounds=None,\n",
       "              enable_categorical=False, eval_metric=&#x27;mlogloss&#x27;,\n",
       "              feature_types=None, gamma=None, grow_policy=None,\n",
       "              importance_type=None, interaction_constraints=None,\n",
       "              learning_rate=None, max_bin=None, max_cat_threshold=None,\n",
       "              max_cat_to_onehot=None, max_delta_step=None, max_depth=None,\n",
       "              max_leaves=None, min_child_weight=None, missing=nan,\n",
       "              monotone_constraints=None, multi_strategy=None, n_estimators=None,\n",
       "              n_jobs=None, num_class=3, num_parallel_tree=None, ...)</pre></div></div></div></div></div></div></div>"
      ],
      "text/plain": [
       "Pipeline(steps=[('preprocessor',\n",
       "                 ColumnTransformer(transformers=[('num', StandardScaler(),\n",
       "                                                  ['Unnamed: 0', 'status',\n",
       "                                                   'hour', 'ip_numeric',\n",
       "                                                   'datetime_numeric']),\n",
       "                                                 ('cat',\n",
       "                                                  OrdinalEncoder(handle_unknown='use_encoded_value',\n",
       "                                                                 unknown_value=-1),\n",
       "                                                  ['size', 'referer',\n",
       "                                                   'request method',\n",
       "                                                   'request path',\n",
       "                                                   'request version',\n",
       "                                                   'os'])])),\n",
       "                ('classifier',\n",
       "                 XGBClassifier(base_score=None, boost...\n",
       "                               feature_types=None, gamma=None, grow_policy=None,\n",
       "                               importance_type=None,\n",
       "                               interaction_constraints=None, learning_rate=None,\n",
       "                               max_bin=None, max_cat_threshold=None,\n",
       "                               max_cat_to_onehot=None, max_delta_step=None,\n",
       "                               max_depth=None, max_leaves=None,\n",
       "                               min_child_weight=None, missing=nan,\n",
       "                               monotone_constraints=None, multi_strategy=None,\n",
       "                               n_estimators=None, n_jobs=None, num_class=3,\n",
       "                               num_parallel_tree=None, ...))])"
      ]
     },
     "execution_count": 9,
     "metadata": {},
     "output_type": "execute_result"
    }
   ],
   "source": [
    "xgb_pipeline.fit(X_train, y_train)"
   ]
  },
  {
   "cell_type": "code",
   "execution_count": 10,
   "id": "ad2fc511",
   "metadata": {
    "execution": {
     "iopub.execute_input": "2025-05-24T18:46:29.026258Z",
     "iopub.status.busy": "2025-05-24T18:46:29.025144Z",
     "iopub.status.idle": "2025-05-24T18:46:29.290512Z",
     "shell.execute_reply": "2025-05-24T18:46:29.289398Z"
    },
    "papermill": {
     "duration": 0.274451,
     "end_time": "2025-05-24T18:46:29.292215",
     "exception": false,
     "start_time": "2025-05-24T18:46:29.017764",
     "status": "completed"
    },
    "tags": []
   },
   "outputs": [
    {
     "name": "stdout",
     "output_type": "stream",
     "text": [
      "XGBoost Classification Report:\n",
      "\n",
      "              precision    recall  f1-score   support\n",
      "\n",
      "      Attack       1.00      1.00      1.00       989\n",
      "        Safe       1.00      1.00      1.00      5788\n",
      "  Suspicious       1.00      0.99      1.00       534\n",
      "\n",
      "    accuracy                           1.00      7311\n",
      "   macro avg       1.00      1.00      1.00      7311\n",
      "weighted avg       1.00      1.00      1.00      7311\n",
      "\n"
     ]
    }
   ],
   "source": [
    "from sklearn.metrics import classification_report, confusion_matrix\n",
    "\n",
    "# Decode predictions and true labels for XGBoost\n",
    "y_pred_xgb = xgb_pipeline.predict(X_test)\n",
    "y_pred_text_xgb = target_le.inverse_transform(y_pred_xgb)\n",
    "y_test_text_xgb = target_le.inverse_transform(y_test)\n",
    "\n",
    "print(\"XGBoost Classification Report:\\n\")\n",
    "print(classification_report(y_test_text_xgb, y_pred_text_xgb))\n"
   ]
  },
  {
   "cell_type": "code",
   "execution_count": 11,
   "id": "6822eba3",
   "metadata": {
    "execution": {
     "iopub.execute_input": "2025-05-24T18:46:29.304614Z",
     "iopub.status.busy": "2025-05-24T18:46:29.304332Z",
     "iopub.status.idle": "2025-05-24T18:46:30.308938Z",
     "shell.execute_reply": "2025-05-24T18:46:30.307700Z"
    },
    "papermill": {
     "duration": 1.013297,
     "end_time": "2025-05-24T18:46:30.311207",
     "exception": false,
     "start_time": "2025-05-24T18:46:29.297910",
     "status": "completed"
    },
    "tags": []
   },
   "outputs": [
    {
     "data": {
      "image/png": "[encoded data removed]",
      "text/plain": [
       "<Figure size 800x600 with 2 Axes>"
      ]
     },
     "metadata": {},
     "output_type": "display_data"
    }
   ],
   "source": [
    "import matplotlib.pyplot as plt\n",
    "import seaborn as sns\n",
    "from sklearn.metrics import confusion_matrix\n",
    "\n",
    "# Decode if needed for XGBoost\n",
    "y_test_text = target_le.inverse_transform(y_test)\n",
    "y_pred_text_xgb = target_le.inverse_transform(y_pred_xgb)\n",
    "\n",
    "cm_xgb = confusion_matrix(y_test_text, y_pred_text_xgb, labels=target_le.classes_)\n",
    "\n",
    "plt.figure(figsize=(8,6))\n",
    "sns.heatmap(cm_xgb, annot=True, fmt='d', xticklabels=target_le.classes_, yticklabels=target_le.classes_)\n",
    "plt.xlabel('Predicted')\n",
    "plt.ylabel('True')\n",
    "plt.title('XGBoost Confusion Matrix')\n",
    "plt.show()\n"
   ]
  },
  {
   "cell_type": "markdown",
   "id": "1829efab",
   "metadata": {
    "papermill": {
     "duration": 0.00609,
     "end_time": "2025-05-24T18:46:30.324170",
     "exception": false,
     "start_time": "2025-05-24T18:46:30.318080",
     "status": "completed"
    },
    "tags": []
   },
   "source": [
    "# Random Forest"
   ]
  },
  {
   "cell_type": "code",
   "execution_count": 12,
   "id": "338a6109",
   "metadata": {
    "execution": {
     "iopub.execute_input": "2025-05-24T18:46:30.337991Z",
     "iopub.status.busy": "2025-05-24T18:46:30.337448Z",
     "iopub.status.idle": "2025-05-24T18:46:30.342532Z",
     "shell.execute_reply": "2025-05-24T18:46:30.341569Z"
    },
    "papermill": {
     "duration": 0.013591,
     "end_time": "2025-05-24T18:46:30.344257",
     "exception": false,
     "start_time": "2025-05-24T18:46:30.330666",
     "status": "completed"
    },
    "tags": []
   },
   "outputs": [],
   "source": [
    "rf_pipeline = Pipeline([\n",
    "    (\"preprocessor\", preprocessor),\n",
    "    (\"classifier\", RandomForestClassifier(class_weight=\"balanced\", random_state=42))\n",
    "])"
   ]
  },
  {
   "cell_type": "code",
   "execution_count": 13,
   "id": "ba1c62f0",
   "metadata": {
    "execution": {
     "iopub.execute_input": "2025-05-24T18:46:30.357971Z",
     "iopub.status.busy": "2025-05-24T18:46:30.357578Z",
     "iopub.status.idle": "2025-05-24T18:46:33.702666Z",
     "shell.execute_reply": "2025-05-24T18:46:33.701628Z"
    },
    "papermill": {
     "duration": 3.353699,
     "end_time": "2025-05-24T18:46:33.704313",
     "exception": false,
     "start_time": "2025-05-24T18:46:30.350614",
     "status": "completed"
    },
    "tags": []
   },
   "outputs": [
    {
     "data": {
      "text/html": [
       "<style>#sk-container-id-2 {color: black;background-color: white;}#sk-container-id-2 pre{padding: 0;}#sk-container-id-2 div.sk-toggleable {background-color: white;}#sk-container-id-2 label.sk-toggleable__label {cursor: pointer;display: block;width: 100%;margin-bottom: 0;padding: 0.3em;box-sizing: border-box;text-align: center;}#sk-container-id-2 label.sk-toggleable__label-arrow:before {content: \"▸\";float: left;margin-right: 0.25em;color: #696969;}#sk-container-id-2 label.sk-toggleable__label-arrow:hover:before {color: black;}#sk-container-id-2 div.sk-estimator:hover label.sk-toggleable__label-arrow:before {color: black;}#sk-container-id-2 div.sk-toggleable__content {max-height: 0;max-width: 0;overflow: hidden;text-align: left;background-color: #f0f8ff;}#sk-container-id-2 div.sk-toggleable__content pre {margin: 0.2em;color: black;border-radius: 0.25em;background-color: #f0f8ff;}#sk-container-id-2 input.sk-toggleable__control:checked~div.sk-toggleable__content {max-height: 200px;max-width: 100%;overflow: auto;}#sk-container-id-2 input.sk-toggleable__control:checked~label.sk-toggleable__label-arrow:before {content: \"▾\";}#sk-container-id-2 div.sk-estimator input.sk-toggleable__control:checked~label.sk-toggleable__label {background-color: #d4ebff;}#sk-container-id-2 div.sk-label input.sk-toggleable__control:checked~label.sk-toggleable__label {background-color: #d4ebff;}#sk-container-id-2 input.sk-hidden--visually {border: 0;clip: rect(1px 1px 1px 1px);clip: rect(1px, 1px, 1px, 1px);height: 1px;margin: -1px;overflow: hidden;padding: 0;position: absolute;width: 1px;}#sk-container-id-2 div.sk-estimator {font-family: monospace;background-color: #f0f8ff;border: 1px dotted black;border-radius: 0.25em;box-sizing: border-box;margin-bottom: 0.5em;}#sk-container-id-2 div.sk-estimator:hover {background-color: #d4ebff;}#sk-container-id-2 div.sk-parallel-item::after {content: \"\";width: 100%;border-bottom: 1px solid gray;flex-grow: 1;}#sk-container-id-2 div.sk-label:hover label.sk-toggleable__label {background-color: #d4ebff;}#sk-container-id-2 div.sk-serial::before {content: \"\";position: absolute;border-left: 1px solid gray;box-sizing: border-box;top: 0;bottom: 0;left: 50%;z-index: 0;}#sk-container-id-2 div.sk-serial {display: flex;flex-direction: column;align-items: center;background-color: white;padding-right: 0.2em;padding-left: 0.2em;position: relative;}#sk-container-id-2 div.sk-item {position: relative;z-index: 1;}#sk-container-id-2 div.sk-parallel {display: flex;align-items: stretch;justify-content: center;background-color: white;position: relative;}#sk-container-id-2 div.sk-item::before, #sk-container-id-2 div.sk-parallel-item::before {content: \"\";position: absolute;border-left: 1px solid gray;box-sizing: border-box;top: 0;bottom: 0;left: 50%;z-index: -1;}#sk-container-id-2 div.sk-parallel-item {display: flex;flex-direction: column;z-index: 1;position: relative;background-color: white;}#sk-container-id-2 div.sk-parallel-item:first-child::after {align-self: flex-end;width: 50%;}#sk-container-id-2 div.sk-parallel-item:last-child::after {align-self: flex-start;width: 50%;}#sk-container-id-2 div.sk-parallel-item:only-child::after {width: 0;}#sk-container-id-2 div.sk-dashed-wrapped {border: 1px dashed gray;margin: 0 0.4em 0.5em 0.4em;box-sizing: border-box;padding-bottom: 0.4em;background-color: white;}#sk-container-id-2 div.sk-label label {font-family: monospace;font-weight: bold;display: inline-block;line-height: 1.2em;}#sk-container-id-2 div.sk-label-container {text-align: center;}#sk-container-id-2 div.sk-container {/* jupyter's `normalize.less` sets `[hidden] { display: none; }` but bootstrap.min.css set `[hidden] { display: none !important; }` so we also need the `!important` here to be able to override the default hidden behavior on the sphinx rendered scikit-learn.org. See: https://github.com/scikit-learn/scikit-learn/issues/21755 */display: inline-block !important;position: relative;}#sk-container-id-2 div.sk-text-repr-fallback {display: none;}</style><div id=\"sk-container-id-2\" class=\"sk-top-container\"><div class=\"sk-text-repr-fallback\"><pre>Pipeline(steps=[(&#x27;preprocessor&#x27;,\n",
       "                 ColumnTransformer(transformers=[(&#x27;num&#x27;, StandardScaler(),\n",
       "                                                  [&#x27;Unnamed: 0&#x27;, &#x27;status&#x27;,\n",
       "                                                   &#x27;hour&#x27;, &#x27;ip_numeric&#x27;,\n",
       "                                                   &#x27;datetime_numeric&#x27;]),\n",
       "                                                 (&#x27;cat&#x27;,\n",
       "                                                  OrdinalEncoder(handle_unknown=&#x27;use_encoded_value&#x27;,\n",
       "                                                                 unknown_value=-1),\n",
       "                                                  [&#x27;size&#x27;, &#x27;referer&#x27;,\n",
       "                                                   &#x27;request method&#x27;,\n",
       "                                                   &#x27;request path&#x27;,\n",
       "                                                   &#x27;request version&#x27;,\n",
       "                                                   &#x27;os&#x27;])])),\n",
       "                (&#x27;classifier&#x27;,\n",
       "                 RandomForestClassifier(class_weight=&#x27;balanced&#x27;,\n",
       "                                        random_state=42))])</pre><b>In a Jupyter environment, please rerun this cell to show the HTML representation or trust the notebook. <br />On GitHub, the HTML representation is unable to render, please try loading this page with nbviewer.org.</b></div><div class=\"sk-container\" hidden><div class=\"sk-item sk-dashed-wrapped\"><div class=\"sk-label-container\"><div class=\"sk-label sk-toggleable\"><input class=\"sk-toggleable__control sk-hidden--visually\" id=\"sk-estimator-id-8\" type=\"checkbox\" ><label for=\"sk-estimator-id-8\" class=\"sk-toggleable__label sk-toggleable__label-arrow\">Pipeline</label><div class=\"sk-toggleable__content\"><pre>Pipeline(steps=[(&#x27;preprocessor&#x27;,\n",
       "                 ColumnTransformer(transformers=[(&#x27;num&#x27;, StandardScaler(),\n",
       "                                                  [&#x27;Unnamed: 0&#x27;, &#x27;status&#x27;,\n",
       "                                                   &#x27;hour&#x27;, &#x27;ip_numeric&#x27;,\n",
       "                                                   &#x27;datetime_numeric&#x27;]),\n",
       "                                                 (&#x27;cat&#x27;,\n",
       "                                                  OrdinalEncoder(handle_unknown=&#x27;use_encoded_value&#x27;,\n",
       "                                                                 unknown_value=-1),\n",
       "                                                  [&#x27;size&#x27;, &#x27;referer&#x27;,\n",
       "                                                   &#x27;request method&#x27;,\n",
       "                                                   &#x27;request path&#x27;,\n",
       "                                                   &#x27;request version&#x27;,\n",
       "                                                   &#x27;os&#x27;])])),\n",
       "                (&#x27;classifier&#x27;,\n",
       "                 RandomForestClassifier(class_weight=&#x27;balanced&#x27;,\n",
       "                                        random_state=42))])</pre></div></div></div><div class=\"sk-serial\"><div class=\"sk-item sk-dashed-wrapped\"><div class=\"sk-label-container\"><div class=\"sk-label sk-toggleable\"><input class=\"sk-toggleable__control sk-hidden--visually\" id=\"sk-estimator-id-9\" type=\"checkbox\" ><label for=\"sk-estimator-id-9\" class=\"sk-toggleable__label sk-toggleable__label-arrow\">preprocessor: ColumnTransformer</label><div class=\"sk-toggleable__content\"><pre>ColumnTransformer(transformers=[(&#x27;num&#x27;, StandardScaler(),\n",
       "                                 [&#x27;Unnamed: 0&#x27;, &#x27;status&#x27;, &#x27;hour&#x27;, &#x27;ip_numeric&#x27;,\n",
       "                                  &#x27;datetime_numeric&#x27;]),\n",
       "                                (&#x27;cat&#x27;,\n",
       "                                 OrdinalEncoder(handle_unknown=&#x27;use_encoded_value&#x27;,\n",
       "                                                unknown_value=-1),\n",
       "                                 [&#x27;size&#x27;, &#x27;referer&#x27;, &#x27;request method&#x27;,\n",
       "                                  &#x27;request path&#x27;, &#x27;request version&#x27;, &#x27;os&#x27;])])</pre></div></div></div><div class=\"sk-parallel\"><div class=\"sk-parallel-item\"><div class=\"sk-item\"><div class=\"sk-label-container\"><div class=\"sk-label sk-toggleable\"><input class=\"sk-toggleable__control sk-hidden--visually\" id=\"sk-estimator-id-10\" type=\"checkbox\" ><label for=\"sk-estimator-id-10\" class=\"sk-toggleable__label sk-toggleable__label-arrow\">num</label><div class=\"sk-toggleable__content\"><pre>[&#x27;Unnamed: 0&#x27;, &#x27;status&#x27;, &#x27;hour&#x27;, &#x27;ip_numeric&#x27;, &#x27;datetime_numeric&#x27;]</pre></div></div></div><div class=\"sk-serial\"><div class=\"sk-item\"><div class=\"sk-estimator sk-toggleable\"><input class=\"sk-toggleable__control sk-hidden--visually\" id=\"sk-estimator-id-11\" type=\"checkbox\" ><label for=\"sk-estimator-id-11\" class=\"sk-toggleable__label sk-toggleable__label-arrow\">StandardScaler</label><div class=\"sk-toggleable__content\"><pre>StandardScaler()</pre></div></div></div></div></div></div><div class=\"sk-parallel-item\"><div class=\"sk-item\"><div class=\"sk-label-container\"><div class=\"sk-label sk-toggleable\"><input class=\"sk-toggleable__control sk-hidden--visually\" id=\"sk-estimator-id-12\" type=\"checkbox\" ><label for=\"sk-estimator-id-12\" class=\"sk-toggleable__label sk-toggleable__label-arrow\">cat</label><div class=\"sk-toggleable__content\"><pre>[&#x27;size&#x27;, &#x27;referer&#x27;, &#x27;request method&#x27;, &#x27;request path&#x27;, &#x27;request version&#x27;, &#x27;os&#x27;]</pre></div></div></div><div class=\"sk-serial\"><div class=\"sk-item\"><div class=\"sk-estimator sk-toggleable\"><input class=\"sk-toggleable__control sk-hidden--visually\" id=\"sk-estimator-id-13\" type=\"checkbox\" ><label for=\"sk-estimator-id-13\" class=\"sk-toggleable__label sk-toggleable__label-arrow\">OrdinalEncoder</label><div class=\"sk-toggleable__content\"><pre>OrdinalEncoder(handle_unknown=&#x27;use_encoded_value&#x27;, unknown_value=-1)</pre></div></div></div></div></div></div></div></div><div class=\"sk-item\"><div class=\"sk-estimator sk-toggleable\"><input class=\"sk-toggleable__control sk-hidden--visually\" id=\"sk-estimator-id-14\" type=\"checkbox\" ><label for=\"sk-estimator-id-14\" class=\"sk-toggleable__label sk-toggleable__label-arrow\">RandomForestClassifier</label><div class=\"sk-toggleable__content\"><pre>RandomForestClassifier(class_weight=&#x27;balanced&#x27;, random_state=42)</pre></div></div></div></div></div></div></div>"
      ],
      "text/plain": [
       "Pipeline(steps=[('preprocessor',\n",
       "                 ColumnTransformer(transformers=[('num', StandardScaler(),\n",
       "                                                  ['Unnamed: 0', 'status',\n",
       "                                                   'hour', 'ip_numeric',\n",
       "                                                   'datetime_numeric']),\n",
       "                                                 ('cat',\n",
       "                                                  OrdinalEncoder(handle_unknown='use_encoded_value',\n",
       "                                                                 unknown_value=-1),\n",
       "                                                  ['size', 'referer',\n",
       "                                                   'request method',\n",
       "                                                   'request path',\n",
       "                                                   'request version',\n",
       "                                                   'os'])])),\n",
       "                ('classifier',\n",
       "                 RandomForestClassifier(class_weight='balanced',\n",
       "                                        random_state=42))])"
      ]
     },
     "execution_count": 13,
     "metadata": {},
     "output_type": "execute_result"
    }
   ],
   "source": [
    "rf_pipeline.fit(X_train, y_train)"
   ]
  },
  {
   "cell_type": "code",
   "execution_count": 14,
   "id": "6a656c6c",
   "metadata": {
    "execution": {
     "iopub.execute_input": "2025-05-24T18:46:33.718354Z",
     "iopub.status.busy": "2025-05-24T18:46:33.717860Z",
     "iopub.status.idle": "2025-05-24T18:46:33.836468Z",
     "shell.execute_reply": "2025-05-24T18:46:33.835219Z"
    },
    "papermill": {
     "duration": 0.128333,
     "end_time": "2025-05-24T18:46:33.839007",
     "exception": false,
     "start_time": "2025-05-24T18:46:33.710674",
     "status": "completed"
    },
    "tags": []
   },
   "outputs": [],
   "source": [
    "rf_preds = rf_pipeline.predict(X_test)\n",
    "rf_preds_text = target_le.inverse_transform(rf_preds)\n",
    "labels = target_le.classes_  # This gets the original class names\n"
   ]
  },
  {
   "cell_type": "code",
   "execution_count": 15,
   "id": "b6ea97b5",
   "metadata": {
    "execution": {
     "iopub.execute_input": "2025-05-24T18:46:33.854380Z",
     "iopub.status.busy": "2025-05-24T18:46:33.853962Z",
     "iopub.status.idle": "2025-05-24T18:46:33.875349Z",
     "shell.execute_reply": "2025-05-24T18:46:33.874258Z"
    },
    "papermill": {
     "duration": 0.030612,
     "end_time": "2025-05-24T18:46:33.876957",
     "exception": false,
     "start_time": "2025-05-24T18:46:33.846345",
     "status": "completed"
    },
    "tags": []
   },
   "outputs": [
    {
     "name": "stdout",
     "output_type": "stream",
     "text": [
      "Random Forest Classification Report:\n",
      "\n",
      "              precision    recall  f1-score   support\n",
      "\n",
      "      Attack       0.99      0.99      0.99       989\n",
      "        Safe       1.00      1.00      1.00      5788\n",
      "  Suspicious       1.00      0.99      0.99       534\n",
      "\n",
      "    accuracy                           1.00      7311\n",
      "   macro avg       1.00      0.99      0.99      7311\n",
      "weighted avg       1.00      1.00      1.00      7311\n",
      "\n"
     ]
    }
   ],
   "source": [
    "print(\"Random Forest Classification Report:\\n\")\n",
    "print(classification_report(y_test, rf_preds, target_names=target_le.classes_))"
   ]
  },
  {
   "cell_type": "code",
   "execution_count": 16,
   "id": "7052a8ad",
   "metadata": {
    "execution": {
     "iopub.execute_input": "2025-05-24T18:46:33.895824Z",
     "iopub.status.busy": "2025-05-24T18:46:33.895392Z",
     "iopub.status.idle": "2025-05-24T18:46:34.165289Z",
     "shell.execute_reply": "2025-05-24T18:46:34.164265Z"
    },
    "papermill": {
     "duration": 0.280427,
     "end_time": "2025-05-24T18:46:34.167139",
     "exception": false,
     "start_time": "2025-05-24T18:46:33.886712",
     "status": "completed"
    },
    "tags": []
   },
   "outputs": [
    {
     "data": {
      "image/png": "[encoded data removed]",
      "text/plain": [
       "<Figure size 800x600 with 2 Axes>"
      ]
     },
     "metadata": {},
     "output_type": "display_data"
    }
   ],
   "source": [
    "cm_rf = confusion_matrix(y_test_text, rf_preds_text, labels=labels)\n",
    "\n",
    "plt.figure(figsize=(8,6))\n",
    "sns.heatmap(cm_rf, annot=True, fmt='d', cmap='Blues', xticklabels=labels, yticklabels=labels)\n",
    "plt.title(\"Random Forest Confusion Matrix\")\n",
    "plt.xlabel(\"Predicted\")\n",
    "plt.ylabel(\"True\")\n",
    "plt.show()\n"
   ]
  },
  {
   "cell_type": "markdown",
   "id": "5700e715",
   "metadata": {
    "papermill": {
     "duration": 0.006384,
     "end_time": "2025-05-24T18:46:34.181421",
     "exception": false,
     "start_time": "2025-05-24T18:46:34.175037",
     "status": "completed"
    },
    "tags": []
   },
   "source": [
    "# Support Vector Machine"
   ]
  },
  {
   "cell_type": "code",
   "execution_count": 17,
   "id": "0b493dae",
   "metadata": {
    "execution": {
     "iopub.execute_input": "2025-05-24T18:46:34.196206Z",
     "iopub.status.busy": "2025-05-24T18:46:34.195639Z",
     "iopub.status.idle": "2025-05-24T18:46:34.201394Z",
     "shell.execute_reply": "2025-05-24T18:46:34.200222Z"
    },
    "papermill": {
     "duration": 0.014936,
     "end_time": "2025-05-24T18:46:34.203079",
     "exception": false,
     "start_time": "2025-05-24T18:46:34.188143",
     "status": "completed"
    },
    "tags": []
   },
   "outputs": [],
   "source": [
    "from sklearn.svm import LinearSVC\n",
    "\n",
    "svm_pipeline = Pipeline([\n",
    "    (\"preprocessor\", preprocessor),\n",
    "    (\"classifier\", LinearSVC(class_weight='balanced', max_iter=20000, dual=False))\n",
    "])"
   ]
  },
  {
   "cell_type": "code",
   "execution_count": 18,
   "id": "b8d93594",
   "metadata": {
    "execution": {
     "iopub.execute_input": "2025-05-24T18:46:34.217739Z",
     "iopub.status.busy": "2025-05-24T18:46:34.217453Z",
     "iopub.status.idle": "2025-05-24T18:46:34.749573Z",
     "shell.execute_reply": "2025-05-24T18:46:34.748702Z"
    },
    "papermill": {
     "duration": 0.5415,
     "end_time": "2025-05-24T18:46:34.751389",
     "exception": false,
     "start_time": "2025-05-24T18:46:34.209889",
     "status": "completed"
    },
    "tags": []
   },
   "outputs": [
    {
     "data": {
      "text/html": [
       "<style>#sk-container-id-3 {color: black;background-color: white;}#sk-container-id-3 pre{padding: 0;}#sk-container-id-3 div.sk-toggleable {background-color: white;}#sk-container-id-3 label.sk-toggleable__label {cursor: pointer;display: block;width: 100%;margin-bottom: 0;padding: 0.3em;box-sizing: border-box;text-align: center;}#sk-container-id-3 label.sk-toggleable__label-arrow:before {content: \"▸\";float: left;margin-right: 0.25em;color: #696969;}#sk-container-id-3 label.sk-toggleable__label-arrow:hover:before {color: black;}#sk-container-id-3 div.sk-estimator:hover label.sk-toggleable__label-arrow:before {color: black;}#sk-container-id-3 div.sk-toggleable__content {max-height: 0;max-width: 0;overflow: hidden;text-align: left;background-color: #f0f8ff;}#sk-container-id-3 div.sk-toggleable__content pre {margin: 0.2em;color: black;border-radius: 0.25em;background-color: #f0f8ff;}#sk-container-id-3 input.sk-toggleable__control:checked~div.sk-toggleable__content {max-height: 200px;max-width: 100%;overflow: auto;}#sk-container-id-3 input.sk-toggleable__control:checked~label.sk-toggleable__label-arrow:before {content: \"▾\";}#sk-container-id-3 div.sk-estimator input.sk-toggleable__control:checked~label.sk-toggleable__label {background-color: #d4ebff;}#sk-container-id-3 div.sk-label input.sk-toggleable__control:checked~label.sk-toggleable__label {background-color: #d4ebff;}#sk-container-id-3 input.sk-hidden--visually {border: 0;clip: rect(1px 1px 1px 1px);clip: rect(1px, 1px, 1px, 1px);height: 1px;margin: -1px;overflow: hidden;padding: 0;position: absolute;width: 1px;}#sk-container-id-3 div.sk-estimator {font-family: monospace;background-color: #f0f8ff;border: 1px dotted black;border-radius: 0.25em;box-sizing: border-box;margin-bottom: 0.5em;}#sk-container-id-3 div.sk-estimator:hover {background-color: #d4ebff;}#sk-container-id-3 div.sk-parallel-item::after {content: \"\";width: 100%;border-bottom: 1px solid gray;flex-grow: 1;}#sk-container-id-3 div.sk-label:hover label.sk-toggleable__label {background-color: #d4ebff;}#sk-container-id-3 div.sk-serial::before {content: \"\";position: absolute;border-left: 1px solid gray;box-sizing: border-box;top: 0;bottom: 0;left: 50%;z-index: 0;}#sk-container-id-3 div.sk-serial {display: flex;flex-direction: column;align-items: center;background-color: white;padding-right: 0.2em;padding-left: 0.2em;position: relative;}#sk-container-id-3 div.sk-item {position: relative;z-index: 1;}#sk-container-id-3 div.sk-parallel {display: flex;align-items: stretch;justify-content: center;background-color: white;position: relative;}#sk-container-id-3 div.sk-item::before, #sk-container-id-3 div.sk-parallel-item::before {content: \"\";position: absolute;border-left: 1px solid gray;box-sizing: border-box;top: 0;bottom: 0;left: 50%;z-index: -1;}#sk-container-id-3 div.sk-parallel-item {display: flex;flex-direction: column;z-index: 1;position: relative;background-color: white;}#sk-container-id-3 div.sk-parallel-item:first-child::after {align-self: flex-end;width: 50%;}#sk-container-id-3 div.sk-parallel-item:last-child::after {align-self: flex-start;width: 50%;}#sk-container-id-3 div.sk-parallel-item:only-child::after {width: 0;}#sk-container-id-3 div.sk-dashed-wrapped {border: 1px dashed gray;margin: 0 0.4em 0.5em 0.4em;box-sizing: border-box;padding-bottom: 0.4em;background-color: white;}#sk-container-id-3 div.sk-label label {font-family: monospace;font-weight: bold;display: inline-block;line-height: 1.2em;}#sk-container-id-3 div.sk-label-container {text-align: center;}#sk-container-id-3 div.sk-container {/* jupyter's `normalize.less` sets `[hidden] { display: none; }` but bootstrap.min.css set `[hidden] { display: none !important; }` so we also need the `!important` here to be able to override the default hidden behavior on the sphinx rendered scikit-learn.org. See: https://github.com/scikit-learn/scikit-learn/issues/21755 */display: inline-block !important;position: relative;}#sk-container-id-3 div.sk-text-repr-fallback {display: none;}</style><div id=\"sk-container-id-3\" class=\"sk-top-container\"><div class=\"sk-text-repr-fallback\"><pre>Pipeline(steps=[(&#x27;preprocessor&#x27;,\n",
       "                 ColumnTransformer(transformers=[(&#x27;num&#x27;, StandardScaler(),\n",
       "                                                  [&#x27;Unnamed: 0&#x27;, &#x27;status&#x27;,\n",
       "                                                   &#x27;hour&#x27;, &#x27;ip_numeric&#x27;,\n",
       "                                                   &#x27;datetime_numeric&#x27;]),\n",
       "                                                 (&#x27;cat&#x27;,\n",
       "                                                  OrdinalEncoder(handle_unknown=&#x27;use_encoded_value&#x27;,\n",
       "                                                                 unknown_value=-1),\n",
       "                                                  [&#x27;size&#x27;, &#x27;referer&#x27;,\n",
       "                                                   &#x27;request method&#x27;,\n",
       "                                                   &#x27;request path&#x27;,\n",
       "                                                   &#x27;request version&#x27;,\n",
       "                                                   &#x27;os&#x27;])])),\n",
       "                (&#x27;classifier&#x27;,\n",
       "                 LinearSVC(class_weight=&#x27;balanced&#x27;, dual=False,\n",
       "                           max_iter=20000))])</pre><b>In a Jupyter environment, please rerun this cell to show the HTML representation or trust the notebook. <br />On GitHub, the HTML representation is unable to render, please try loading this page with nbviewer.org.</b></div><div class=\"sk-container\" hidden><div class=\"sk-item sk-dashed-wrapped\"><div class=\"sk-label-container\"><div class=\"sk-label sk-toggleable\"><input class=\"sk-toggleable__control sk-hidden--visually\" id=\"sk-estimator-id-15\" type=\"checkbox\" ><label for=\"sk-estimator-id-15\" class=\"sk-toggleable__label sk-toggleable__label-arrow\">Pipeline</label><div class=\"sk-toggleable__content\"><pre>Pipeline(steps=[(&#x27;preprocessor&#x27;,\n",
       "                 ColumnTransformer(transformers=[(&#x27;num&#x27;, StandardScaler(),\n",
       "                                                  [&#x27;Unnamed: 0&#x27;, &#x27;status&#x27;,\n",
       "                                                   &#x27;hour&#x27;, &#x27;ip_numeric&#x27;,\n",
       "                                                   &#x27;datetime_numeric&#x27;]),\n",
       "                                                 (&#x27;cat&#x27;,\n",
       "                                                  OrdinalEncoder(handle_unknown=&#x27;use_encoded_value&#x27;,\n",
       "                                                                 unknown_value=-1),\n",
       "                                                  [&#x27;size&#x27;, &#x27;referer&#x27;,\n",
       "                                                   &#x27;request method&#x27;,\n",
       "                                                   &#x27;request path&#x27;,\n",
       "                                                   &#x27;request version&#x27;,\n",
       "                                                   &#x27;os&#x27;])])),\n",
       "                (&#x27;classifier&#x27;,\n",
       "                 LinearSVC(class_weight=&#x27;balanced&#x27;, dual=False,\n",
       "                           max_iter=20000))])</pre></div></div></div><div class=\"sk-serial\"><div class=\"sk-item sk-dashed-wrapped\"><div class=\"sk-label-container\"><div class=\"sk-label sk-toggleable\"><input class=\"sk-toggleable__control sk-hidden--visually\" id=\"sk-estimator-id-16\" type=\"checkbox\" ><label for=\"sk-estimator-id-16\" class=\"sk-toggleable__label sk-toggleable__label-arrow\">preprocessor: ColumnTransformer</label><div class=\"sk-toggleable__content\"><pre>ColumnTransformer(transformers=[(&#x27;num&#x27;, StandardScaler(),\n",
       "                                 [&#x27;Unnamed: 0&#x27;, &#x27;status&#x27;, &#x27;hour&#x27;, &#x27;ip_numeric&#x27;,\n",
       "                                  &#x27;datetime_numeric&#x27;]),\n",
       "                                (&#x27;cat&#x27;,\n",
       "                                 OrdinalEncoder(handle_unknown=&#x27;use_encoded_value&#x27;,\n",
       "                                                unknown_value=-1),\n",
       "                                 [&#x27;size&#x27;, &#x27;referer&#x27;, &#x27;request method&#x27;,\n",
       "                                  &#x27;request path&#x27;, &#x27;request version&#x27;, &#x27;os&#x27;])])</pre></div></div></div><div class=\"sk-parallel\"><div class=\"sk-parallel-item\"><div class=\"sk-item\"><div class=\"sk-label-container\"><div class=\"sk-label sk-toggleable\"><input class=\"sk-toggleable__control sk-hidden--visually\" id=\"sk-estimator-id-17\" type=\"checkbox\" ><label for=\"sk-estimator-id-17\" class=\"sk-toggleable__label sk-toggleable__label-arrow\">num</label><div class=\"sk-toggleable__content\"><pre>[&#x27;Unnamed: 0&#x27;, &#x27;status&#x27;, &#x27;hour&#x27;, &#x27;ip_numeric&#x27;, &#x27;datetime_numeric&#x27;]</pre></div></div></div><div class=\"sk-serial\"><div class=\"sk-item\"><div class=\"sk-estimator sk-toggleable\"><input class=\"sk-toggleable__control sk-hidden--visually\" id=\"sk-estimator-id-18\" type=\"checkbox\" ><label for=\"sk-estimator-id-18\" class=\"sk-toggleable__label sk-toggleable__label-arrow\">StandardScaler</label><div class=\"sk-toggleable__content\"><pre>StandardScaler()</pre></div></div></div></div></div></div><div class=\"sk-parallel-item\"><div class=\"sk-item\"><div class=\"sk-label-container\"><div class=\"sk-label sk-toggleable\"><input class=\"sk-toggleable__control sk-hidden--visually\" id=\"sk-estimator-id-19\" type=\"checkbox\" ><label for=\"sk-estimator-id-19\" class=\"sk-toggleable__label sk-toggleable__label-arrow\">cat</label><div class=\"sk-toggleable__content\"><pre>[&#x27;size&#x27;, &#x27;referer&#x27;, &#x27;request method&#x27;, &#x27;request path&#x27;, &#x27;request version&#x27;, &#x27;os&#x27;]</pre></div></div></div><div class=\"sk-serial\"><div class=\"sk-item\"><div class=\"sk-estimator sk-toggleable\"><input class=\"sk-toggleable__control sk-hidden--visually\" id=\"sk-estimator-id-20\" type=\"checkbox\" ><label for=\"sk-estimator-id-20\" class=\"sk-toggleable__label sk-toggleable__label-arrow\">OrdinalEncoder</label><div class=\"sk-toggleable__content\"><pre>OrdinalEncoder(handle_unknown=&#x27;use_encoded_value&#x27;, unknown_value=-1)</pre></div></div></div></div></div></div></div></div><div class=\"sk-item\"><div class=\"sk-estimator sk-toggleable\"><input class=\"sk-toggleable__control sk-hidden--visually\" id=\"sk-estimator-id-21\" type=\"checkbox\" ><label for=\"sk-estimator-id-21\" class=\"sk-toggleable__label sk-toggleable__label-arrow\">LinearSVC</label><div class=\"sk-toggleable__content\"><pre>LinearSVC(class_weight=&#x27;balanced&#x27;, dual=False, max_iter=20000)</pre></div></div></div></div></div></div></div>"
      ],
      "text/plain": [
       "Pipeline(steps=[('preprocessor',\n",
       "                 ColumnTransformer(transformers=[('num', StandardScaler(),\n",
       "                                                  ['Unnamed: 0', 'status',\n",
       "                                                   'hour', 'ip_numeric',\n",
       "                                                   'datetime_numeric']),\n",
       "                                                 ('cat',\n",
       "                                                  OrdinalEncoder(handle_unknown='use_encoded_value',\n",
       "                                                                 unknown_value=-1),\n",
       "                                                  ['size', 'referer',\n",
       "                                                   'request method',\n",
       "                                                   'request path',\n",
       "                                                   'request version',\n",
       "                                                   'os'])])),\n",
       "                ('classifier',\n",
       "                 LinearSVC(class_weight='balanced', dual=False,\n",
       "                           max_iter=20000))])"
      ]
     },
     "execution_count": 18,
     "metadata": {},
     "output_type": "execute_result"
    }
   ],
   "source": [
    "svm_pipeline.fit(X_train, y_train)"
   ]
  },
  {
   "cell_type": "code",
   "execution_count": 19,
   "id": "499f5388",
   "metadata": {
    "execution": {
     "iopub.execute_input": "2025-05-24T18:46:34.767281Z",
     "iopub.status.busy": "2025-05-24T18:46:34.766929Z",
     "iopub.status.idle": "2025-05-24T18:46:34.811837Z",
     "shell.execute_reply": "2025-05-24T18:46:34.810981Z"
    },
    "papermill": {
     "duration": 0.055685,
     "end_time": "2025-05-24T18:46:34.814308",
     "exception": false,
     "start_time": "2025-05-24T18:46:34.758623",
     "status": "completed"
    },
    "tags": []
   },
   "outputs": [],
   "source": [
    "svm_preds = svm_pipeline.predict(X_test)\n",
    "svm_preds_text = target_le.inverse_transform(svm_preds)"
   ]
  },
  {
   "cell_type": "code",
   "execution_count": 20,
   "id": "944ea719",
   "metadata": {
    "execution": {
     "iopub.execute_input": "2025-05-24T18:46:34.831515Z",
     "iopub.status.busy": "2025-05-24T18:46:34.831213Z",
     "iopub.status.idle": "2025-05-24T18:46:34.852895Z",
     "shell.execute_reply": "2025-05-24T18:46:34.851736Z"
    },
    "papermill": {
     "duration": 0.032919,
     "end_time": "2025-05-24T18:46:34.854422",
     "exception": false,
     "start_time": "2025-05-24T18:46:34.821503",
     "status": "completed"
    },
    "tags": []
   },
   "outputs": [
    {
     "name": "stdout",
     "output_type": "stream",
     "text": [
      "\n",
      "SVM Classification Report:\n",
      "\n",
      "              precision    recall  f1-score   support\n",
      "\n",
      "      Attack       0.87      0.98      0.92       989\n",
      "        Safe       0.99      0.92      0.96      5788\n",
      "  Suspicious       0.57      0.86      0.69       534\n",
      "\n",
      "    accuracy                           0.93      7311\n",
      "   macro avg       0.81      0.92      0.86      7311\n",
      "weighted avg       0.95      0.93      0.93      7311\n",
      "\n"
     ]
    }
   ],
   "source": [
    "print(\"\\nSVM Classification Report:\\n\")\n",
    "print(classification_report(y_test, svm_preds, target_names=target_le.classes_))"
   ]
  },
  {
   "cell_type": "code",
   "execution_count": 21,
   "id": "b8cf8c1e",
   "metadata": {
    "execution": {
     "iopub.execute_input": "2025-05-24T18:46:34.870907Z",
     "iopub.status.busy": "2025-05-24T18:46:34.870541Z",
     "iopub.status.idle": "2025-05-24T18:46:35.293009Z",
     "shell.execute_reply": "2025-05-24T18:46:35.292022Z"
    },
    "papermill": {
     "duration": 0.433101,
     "end_time": "2025-05-24T18:46:35.294863",
     "exception": false,
     "start_time": "2025-05-24T18:46:34.861762",
     "status": "completed"
    },
    "tags": []
   },
   "outputs": [],
   "source": [
    "from sklearn.metrics import accuracy_score, f1_score, precision_score, recall_score\n",
    "import matplotlib.pyplot as plt\n",
    "import numpy as np\n",
    "\n",
    "models = ['XGBoost', 'Random Forest', 'SVM']\n",
    "metrics = ['Accuracy', 'Macro F1', 'Macro Precision', 'Macro Recall']\n",
    "\n",
    "scores = [\n",
    "    [accuracy_score(y_test_text, y_pred_text_xgb),\n",
    "     f1_score(y_test_text, y_pred_text_xgb, average='macro'),\n",
    "     precision_score(y_test_text, y_pred_text_xgb, average='macro'),\n",
    "     recall_score(y_test_text, y_pred_text_xgb, average='macro')],\n",
    "\n",
    "    \n",
    "    [accuracy_score(y_test_text, rf_preds_text),\n",
    "     f1_score(y_test_text, rf_preds_text, average='macro'),\n",
    "     precision_score(y_test_text, rf_preds_text, average='macro'),\n",
    "     recall_score(y_test_text, rf_preds_text, average='macro')],\n",
    "\n",
    "    \n",
    "    [accuracy_score(y_test_text, svm_preds_text),\n",
    "     f1_score(y_test_text, svm_preds_text, average='macro'),\n",
    "     precision_score(y_test_text, svm_preds_text, average='macro'),\n",
    "     recall_score(y_test_text, svm_preds_text, average='macro')]\n",
    "]\n"
   ]
  },
  {
   "cell_type": "code",
   "execution_count": 22,
   "id": "0a13211e",
   "metadata": {
    "execution": {
     "iopub.execute_input": "2025-05-24T18:46:35.311407Z",
     "iopub.status.busy": "2025-05-24T18:46:35.310201Z",
     "iopub.status.idle": "2025-05-24T18:46:35.539285Z",
     "shell.execute_reply": "2025-05-24T18:46:35.538284Z"
    },
    "papermill": {
     "duration": 0.238989,
     "end_time": "2025-05-24T18:46:35.540986",
     "exception": false,
     "start_time": "2025-05-24T18:46:35.301997",
     "status": "completed"
    },
    "tags": []
   },
   "outputs": [
    {
     "data": {
      "image/png": "[encoded data removed]",
      "text/plain": [
       "<Figure size 800x600 with 2 Axes>"
      ]
     },
     "metadata": {},
     "output_type": "display_data"
    }
   ],
   "source": [
    "svm_preds_text = target_le.inverse_transform(svm_preds)\n",
    "cm_svm = confusion_matrix(y_test_text, svm_preds_text, labels=labels)\n",
    "\n",
    "plt.figure(figsize=(8,6))\n",
    "sns.heatmap(cm_svm, annot=True, fmt='d', cmap='Greens', xticklabels=labels, yticklabels=labels)\n",
    "plt.title(\"SVM Confusion Matrix\")\n",
    "plt.xlabel(\"Predicted\")\n",
    "plt.ylabel(\"True\")\n",
    "plt.show()\n"
   ]
  },
  {
   "cell_type": "code",
   "execution_count": 23,
   "id": "df518ec0",
   "metadata": {
    "execution": {
     "iopub.execute_input": "2025-05-24T18:46:35.559068Z",
     "iopub.status.busy": "2025-05-24T18:46:35.558291Z",
     "iopub.status.idle": "2025-05-24T18:46:35.811004Z",
     "shell.execute_reply": "2025-05-24T18:46:35.810006Z"
    },
    "papermill": {
     "duration": 0.263794,
     "end_time": "2025-05-24T18:46:35.812769",
     "exception": false,
     "start_time": "2025-05-24T18:46:35.548975",
     "status": "completed"
    },
    "tags": []
   },
   "outputs": [
    {
     "data": {
      "image/png": "[encoded data removed]",
      "text/plain": [
       "<Figure size 1000x600 with 1 Axes>"
      ]
     },
     "metadata": {},
     "output_type": "display_data"
    }
   ],
   "source": [
    "x = np.arange(len(metrics))\n",
    "bar_width = 0.25\n",
    "\n",
    "fig, ax = plt.subplots(figsize=(10, 6))\n",
    "\n",
    "for i in range(len(models)):\n",
    "    ax.bar(x + i * bar_width, scores[i], width=bar_width, label=models[i])\n",
    "\n",
    "ax.set_xticks(x + bar_width)\n",
    "ax.set_xticklabels(metrics)\n",
    "ax.set_ylabel('Score')\n",
    "ax.set_title('Model Performance Comparison')\n",
    "ax.legend()\n",
    "plt.ylim(0, 1.1)\n",
    "plt.grid(axis='y', linestyle='--', alpha=0.6)\n",
    "plt.tight_layout()\n",
    "plt.show()"
   ]
  }
 ],
 "metadata": {
  "kaggle": {
   "accelerator": "none",
   "dataSources": [
    {
     "datasetId": 7497134,
     "sourceId": 11924616,
     "sourceType": "datasetVersion"
    }
   ],
   "dockerImageVersionId": 31040,
   "isGpuEnabled": false,
   "isInternetEnabled": true,
   "language": "python",
   "sourceType": "notebook"
  },
  "kernelspec": {
   "display_name": "Python 3",
   "language": "python",
   "name": "python3"
  },
  "language_info": {
   "codemirror_mode": {
    "name": "ipython",
    "version": 3
   },
   "file_extension": ".py",
   "mimetype": "text/x-python",
   "name": "python",
   "nbconvert_exporter": "python",
   "pygments_lexer": "ipython3",
   "version": "3.11.11"
  },
  "papermill": {
   "default_parameters": {},
   "duration": 19.700811,
   "end_time": "2025-05-24T18:46:36.643126",
   "environment_variables": {},
   "exception": null,
   "input_path": "__notebook__.ipynb",
   "output_path": "__notebook__.ipynb",
   "parameters": {},
   "start_time": "2025-05-24T18:46:16.942315",
   "version": "2.6.0"
  }
 },
 "nbformat": 4,
 "nbformat_minor": 5
}

{
 "cells": [
  {
   "cell_type": "code",
   "execution_count": 1,
   "id": "d08cd567",
   "metadata": {
    "_cell_guid": "b1076dfc-b9ad-4769-8c92-a6c4dae69d19",
    "_uuid": "8f2839f25d086af736a60e9eeb907d3b93b6e0e5",
    "execution": {
     "iopub.execute_input": "2025-05-23T17:37:01.633623Z",
     "iopub.status.busy": "2025-05-23T17:37:01.633173Z",
     "iopub.status.idle": "2025-05-23T17:37:04.228347Z",
     "shell.execute_reply": "2025-05-23T17:37:04.227173Z"
    },
    "papermill": {
     "duration": 2.605467,
     "end_time": "2025-05-23T17:37:04.230282",
     "exception": false,
     "start_time": "2025-05-23T17:37:01.624815",
     "status": "completed"
    },
    "tags": []
   },
   "outputs": [
    {
     "name": "stdout",
     "output_type": "stream",
     "text": [
      "/kaggle/input/apache-access-logs/dataset-access-log-apache-web-app.xlsx\n"
     ]
    }
   ],
   "source": [
    "# This Python 3 environment comes with many helpful analytics libraries installed\n",
    "# It is defined by the kaggle/python Docker image: https://github.com/kaggle/docker-python\n",
    "# For example, here's several helpful packages to load\n",
    "\n",
    "import numpy as np # linear algebra\n",
    "import pandas as pd # data processing, CSV file I/O (e.g. pd.read_csv)\n",
    "\n",
    "# Input data files are available in the read-only \"../input/\" directory\n",
    "# For example, running this (by clicking run or pressing Shift+Enter) will list all files under the input directory\n",
    "\n",
    "import os\n",
    "for dirname, _, filenames in os.walk('/kaggle/input'):\n",
    "    for filename in filenames:\n",
    "        print(os.path.join(dirname, filename))\n",
    "\n",
    "# You can write up to 20GB to the current directory (/kaggle/working/) that gets preserved as output when you create a version using \"Save & Run All\" \n",
    "# You can also write temporary files to /kaggle/temp/, but they won't be saved outside of the current session"
   ]
  },
  {
   "cell_type": "code",
   "execution_count": 2,
   "id": "3269ccb6",
   "metadata": {
    "execution": {
     "iopub.execute_input": "2025-05-23T17:37:04.244204Z",
     "iopub.status.busy": "2025-05-23T17:37:04.243751Z",
     "iopub.status.idle": "2025-05-23T17:37:10.738718Z",
     "shell.execute_reply": "2025-05-23T17:37:10.736751Z"
    },
    "papermill": {
     "duration": 6.503438,
     "end_time": "2025-05-23T17:37:10.740465",
     "exception": false,
     "start_time": "2025-05-23T17:37:04.237027",
     "status": "completed"
    },
    "tags": []
   },
   "outputs": [],
   "source": [
    "data = pd.read_excel(\"/kaggle/input/apache-access-logs/dataset-access-log-apache-web-app.xlsx\")"
   ]
  },
  {
   "cell_type": "code",
   "execution_count": 3,
   "id": "b2ea3605",
   "metadata": {
    "execution": {
     "iopub.execute_input": "2025-05-23T17:37:10.755355Z",
     "iopub.status.busy": "2025-05-23T17:37:10.754735Z",
     "iopub.status.idle": "2025-05-23T17:37:10.811407Z",
     "shell.execute_reply": "2025-05-23T17:37:10.809946Z"
    },
    "papermill": {
     "duration": 0.067623,
     "end_time": "2025-05-23T17:37:10.814369",
     "exception": false,
     "start_time": "2025-05-23T17:37:10.746746",
     "status": "completed"
    },
    "tags": []
   },
   "outputs": [
    {
     "data": {
      "text/html": [
       "<div>\n",
       "<style scoped>\n",
       "    .dataframe tbody tr th:only-of-type {\n",
       "        vertical-align: middle;\n",
       "    }\n",
       "\n",
       "    .dataframe tbody tr th {\n",
       "        vertical-align: top;\n",
       "    }\n",
       "\n",
       "    .dataframe thead th {\n",
       "        text-align: right;\n",
       "    }\n",
       "</style>\n",
       "<table border=\"1\" class=\"dataframe\">\n",
       "  <thead>\n",
       "    <tr style=\"text-align: right;\">\n",
       "      <th></th>\n",
       "      <th>ip</th>\n",
       "      <th>datetime</th>\n",
       "      <th>gmt</th>\n",
       "      <th>request</th>\n",
       "      <th>status</th>\n",
       "      <th>size</th>\n",
       "      <th>referer</th>\n",
       "      <th>browser</th>\n",
       "      <th>country</th>\n",
       "      <th>detected</th>\n",
       "    </tr>\n",
       "  </thead>\n",
       "  <tbody>\n",
       "    <tr>\n",
       "      <th>0</th>\n",
       "      <td>114.125.221.132</td>\n",
       "      <td>2019-07-01 10:54:15</td>\n",
       "      <td>+0700]</td>\n",
       "      <td>GET /bkd_baru/assets/images/scan_sertifikat/D0...</td>\n",
       "      <td>200.0</td>\n",
       "      <td>12133</td>\n",
       "      <td>http://universitas.com/bkd_baru/assets/images/...</td>\n",
       "      <td>Mozilla/5.0 (Linux; Android 5.1.1; SM-J111F Bu...</td>\n",
       "      <td>Indonesia</td>\n",
       "      <td>BAHAYA</td>\n",
       "    </tr>\n",
       "    <tr>\n",
       "      <th>1</th>\n",
       "      <td>114.125.221.132</td>\n",
       "      <td>2019-07-01 10:54:23</td>\n",
       "      <td>+0700]</td>\n",
       "      <td>GET /bkd_baru/assets/images/scan_sertifikat/D0...</td>\n",
       "      <td>200.0</td>\n",
       "      <td>15491</td>\n",
       "      <td>http://universitas.com/bkd_baru/assets/images/...</td>\n",
       "      <td>Mozilla/5.0 (Linux; Android 5.1.1; SM-J111F Bu...</td>\n",
       "      <td>Indonesia</td>\n",
       "      <td>BAHAYA</td>\n",
       "    </tr>\n",
       "    <tr>\n",
       "      <th>2</th>\n",
       "      <td>114.125.221.132</td>\n",
       "      <td>2019-07-01 10:54:42</td>\n",
       "      <td>+0700]</td>\n",
       "      <td>POST /bkd_baru/assets/images/scan_sertifikat/D...</td>\n",
       "      <td>200.0</td>\n",
       "      <td>16305</td>\n",
       "      <td>http://universitas.com/bkd_baru/assets/images/...</td>\n",
       "      <td>Mozilla/5.0 (Linux; Android 5.1.1; SM-J111F Bu...</td>\n",
       "      <td>Indonesia</td>\n",
       "      <td>BAHAYA</td>\n",
       "    </tr>\n",
       "    <tr>\n",
       "      <th>3</th>\n",
       "      <td>114.125.221.132</td>\n",
       "      <td>2019-07-01 10:55:08</td>\n",
       "      <td>+0700]</td>\n",
       "      <td>GET /bkd_baru/uwubahon.php HTTP/1.1</td>\n",
       "      <td>404.0</td>\n",
       "      <td>1130</td>\n",
       "      <td>-</td>\n",
       "      <td>Mozilla/5.0 (Linux; Android 5.1.1; SM-J111F Bu...</td>\n",
       "      <td>Indonesia</td>\n",
       "      <td>BAHAYA</td>\n",
       "    </tr>\n",
       "    <tr>\n",
       "      <th>4</th>\n",
       "      <td>114.125.221.132</td>\n",
       "      <td>2019-07-01 10:55:28</td>\n",
       "      <td>+0700]</td>\n",
       "      <td>GET /bkd_baru/awubahon.php HTTP/1.1</td>\n",
       "      <td>200.0</td>\n",
       "      <td>1735</td>\n",
       "      <td>-</td>\n",
       "      <td>Mozilla/5.0 (Linux; Android 5.1.1; SM-J111F Bu...</td>\n",
       "      <td>Indonesia</td>\n",
       "      <td>BAHAYA</td>\n",
       "    </tr>\n",
       "  </tbody>\n",
       "</table>\n",
       "</div>"
      ],
      "text/plain": [
       "                ip            datetime     gmt  \\\n",
       "0  114.125.221.132 2019-07-01 10:54:15  +0700]   \n",
       "1  114.125.221.132 2019-07-01 10:54:23  +0700]   \n",
       "2  114.125.221.132 2019-07-01 10:54:42  +0700]   \n",
       "3  114.125.221.132 2019-07-01 10:55:08  +0700]   \n",
       "4  114.125.221.132 2019-07-01 10:55:28  +0700]   \n",
       "\n",
       "                                             request  status   size  \\\n",
       "0  GET /bkd_baru/assets/images/scan_sertifikat/D0...   200.0  12133   \n",
       "1  GET /bkd_baru/assets/images/scan_sertifikat/D0...   200.0  15491   \n",
       "2  POST /bkd_baru/assets/images/scan_sertifikat/D...   200.0  16305   \n",
       "3                GET /bkd_baru/uwubahon.php HTTP/1.1   404.0   1130   \n",
       "4                GET /bkd_baru/awubahon.php HTTP/1.1   200.0   1735   \n",
       "\n",
       "                                             referer  \\\n",
       "0  http://universitas.com/bkd_baru/assets/images/...   \n",
       "1  http://universitas.com/bkd_baru/assets/images/...   \n",
       "2  http://universitas.com/bkd_baru/assets/images/...   \n",
       "3                                                  -   \n",
       "4                                                  -   \n",
       "\n",
       "                                             browser    country detected  \n",
       "0  Mozilla/5.0 (Linux; Android 5.1.1; SM-J111F Bu...  Indonesia   BAHAYA  \n",
       "1  Mozilla/5.0 (Linux; Android 5.1.1; SM-J111F Bu...  Indonesia   BAHAYA  \n",
       "2  Mozilla/5.0 (Linux; Android 5.1.1; SM-J111F Bu...  Indonesia   BAHAYA  \n",
       "3  Mozilla/5.0 (Linux; Android 5.1.1; SM-J111F Bu...  Indonesia   BAHAYA  \n",
       "4  Mozilla/5.0 (Linux; Android 5.1.1; SM-J111F Bu...  Indonesia   BAHAYA  "
      ]
     },
     "execution_count": 3,
     "metadata": {},
     "output_type": "execute_result"
    }
   ],
   "source": [
    "data.head()"
   ]
  },
  {
   "cell_type": "code",
   "execution_count": 4,
   "id": "e9d6988e",
   "metadata": {
    "execution": {
     "iopub.execute_input": "2025-05-23T17:37:10.829868Z",
     "iopub.status.busy": "2025-05-23T17:37:10.829483Z",
     "iopub.status.idle": "2025-05-23T17:37:10.837124Z",
     "shell.execute_reply": "2025-05-23T17:37:10.836105Z"
    },
    "papermill": {
     "duration": 0.018309,
     "end_time": "2025-05-23T17:37:10.839050",
     "exception": false,
     "start_time": "2025-05-23T17:37:10.820741",
     "status": "completed"
    },
    "tags": []
   },
   "outputs": [
    {
     "data": {
      "text/plain": [
       "(37693, 10)"
      ]
     },
     "execution_count": 4,
     "metadata": {},
     "output_type": "execute_result"
    }
   ],
   "source": [
    "data.shape"
   ]
  },
  {
   "cell_type": "code",
   "execution_count": 5,
   "id": "62e2b5f8",
   "metadata": {
    "execution": {
     "iopub.execute_input": "2025-05-23T17:37:10.854609Z",
     "iopub.status.busy": "2025-05-23T17:37:10.854228Z",
     "iopub.status.idle": "2025-05-23T17:37:10.884456Z",
     "shell.execute_reply": "2025-05-23T17:37:10.883270Z"
    },
    "papermill": {
     "duration": 0.041277,
     "end_time": "2025-05-23T17:37:10.887150",
     "exception": false,
     "start_time": "2025-05-23T17:37:10.845873",
     "status": "completed"
    },
    "tags": []
   },
   "outputs": [
    {
     "data": {
      "text/plain": [
       "ip             0\n",
       "datetime       0\n",
       "gmt            0\n",
       "request        6\n",
       "status       280\n",
       "size         280\n",
       "referer     1126\n",
       "browser     1126\n",
       "country        0\n",
       "detected       0\n",
       "dtype: int64"
      ]
     },
     "execution_count": 5,
     "metadata": {},
     "output_type": "execute_result"
    }
   ],
   "source": [
    "data.isna().sum()"
   ]
  },
  {
   "cell_type": "code",
   "execution_count": 6,
   "id": "d0310752",
   "metadata": {
    "execution": {
     "iopub.execute_input": "2025-05-23T17:37:10.904276Z",
     "iopub.status.busy": "2025-05-23T17:37:10.903866Z",
     "iopub.status.idle": "2025-05-23T17:37:10.937218Z",
     "shell.execute_reply": "2025-05-23T17:37:10.935969Z"
    },
    "papermill": {
     "duration": 0.044559,
     "end_time": "2025-05-23T17:37:10.939259",
     "exception": false,
     "start_time": "2025-05-23T17:37:10.894700",
     "status": "completed"
    },
    "tags": []
   },
   "outputs": [],
   "source": [
    "data.dropna(inplace=True)"
   ]
  },
  {
   "cell_type": "code",
   "execution_count": 7,
   "id": "9d075ded",
   "metadata": {
    "execution": {
     "iopub.execute_input": "2025-05-23T17:37:10.953897Z",
     "iopub.status.busy": "2025-05-23T17:37:10.953514Z",
     "iopub.status.idle": "2025-05-23T17:37:10.962122Z",
     "shell.execute_reply": "2025-05-23T17:37:10.959672Z"
    },
    "papermill": {
     "duration": 0.018288,
     "end_time": "2025-05-23T17:37:10.964394",
     "exception": false,
     "start_time": "2025-05-23T17:37:10.946106",
     "status": "completed"
    },
    "tags": []
   },
   "outputs": [
    {
     "data": {
      "text/plain": [
       "Index(['ip', 'datetime', 'gmt', 'request', 'status', 'size', 'referer',\n",
       "       'browser', 'country', 'detected'],\n",
       "      dtype='object')"
      ]
     },
     "execution_count": 7,
     "metadata": {},
     "output_type": "execute_result"
    }
   ],
   "source": [
    "data.columns"
   ]
  },
  {
   "cell_type": "markdown",
   "id": "4399555a",
   "metadata": {
    "papermill": {
     "duration": 0.00602,
     "end_time": "2025-05-23T17:37:10.977065",
     "exception": false,
     "start_time": "2025-05-23T17:37:10.971045",
     "status": "completed"
    },
    "tags": []
   },
   "source": [
    "# Feature Extraction"
   ]
  },
  {
   "cell_type": "code",
   "execution_count": 8,
   "id": "feb26563",
   "metadata": {
    "execution": {
     "iopub.execute_input": "2025-05-23T17:37:10.991959Z",
     "iopub.status.busy": "2025-05-23T17:37:10.991358Z",
     "iopub.status.idle": "2025-05-23T17:37:11.002391Z",
     "shell.execute_reply": "2025-05-23T17:37:11.000627Z"
    },
    "papermill": {
     "duration": 0.020351,
     "end_time": "2025-05-23T17:37:11.004353",
     "exception": false,
     "start_time": "2025-05-23T17:37:10.984002",
     "status": "completed"
    },
    "tags": []
   },
   "outputs": [
    {
     "name": "stdout",
     "output_type": "stream",
     "text": [
      "GET /bkd_baru/assets/images/scan_sertifikat/D0001_30-06-2019_nyil.php?path=C:/xampp/htdocs/bkd_baru/application HTTP/1.1\n",
      "GET /bkd_baru/assets/images/scan_sertifikat/D0001_30-06-2019_nyil.php?path=C:/xampp/htdocs/bkd_baru HTTP/1.1\n",
      "POST /bkd_baru/assets/images/scan_sertifikat/D0001_30-06-2019_nyil.php?path=C:/xampp/htdocs/bkd_baru HTTP/1.1\n",
      "GET /bkd_baru/uwubahon.php HTTP/1.1\n",
      "GET /bkd_baru/awubahon.php HTTP/1.1\n",
      "POST /bkd_baru/awubahon.php HTTP/1.1\n",
      "GET / HTTP/1.1\n",
      "GET /bkd_baru HTTP/1.1\n",
      "GET /bkd_baru/ HTTP/1.1\n",
      "GET /bkd_baru/bidang_pendidikan/edit/ODM3MA HTTP/1.1\n"
     ]
    }
   ],
   "source": [
    "print(*list(data[\"request\"][:10]), sep=\"\\n\")"
   ]
  },
  {
   "cell_type": "code",
   "execution_count": 9,
   "id": "fbc77219",
   "metadata": {
    "execution": {
     "iopub.execute_input": "2025-05-23T17:37:11.020659Z",
     "iopub.status.busy": "2025-05-23T17:37:11.020224Z",
     "iopub.status.idle": "2025-05-23T17:37:11.056518Z",
     "shell.execute_reply": "2025-05-23T17:37:11.054981Z"
    },
    "papermill": {
     "duration": 0.048508,
     "end_time": "2025-05-23T17:37:11.059483",
     "exception": false,
     "start_time": "2025-05-23T17:37:11.010975",
     "status": "completed"
    },
    "tags": []
   },
   "outputs": [
    {
     "data": {
      "text/plain": [
       "array(['GET', 'POST', '-', '\\\\x03', 'HEAD', 'CONNECT'], dtype=object)"
      ]
     },
     "execution_count": 9,
     "metadata": {},
     "output_type": "execute_result"
    }
   ],
   "source": [
    "data.loc[:, \"request method\"] = data[\"request\"].apply(lambda r: r.split()[0])\n",
    "data[\"request method\"].unique()"
   ]
  },
  {
   "cell_type": "code",
   "execution_count": 10,
   "id": "dde7bd3c",
   "metadata": {
    "execution": {
     "iopub.execute_input": "2025-05-23T17:37:11.075382Z",
     "iopub.status.busy": "2025-05-23T17:37:11.075006Z",
     "iopub.status.idle": "2025-05-23T17:37:11.094411Z",
     "shell.execute_reply": "2025-05-23T17:37:11.093447Z"
    },
    "papermill": {
     "duration": 0.029888,
     "end_time": "2025-05-23T17:37:11.096777",
     "exception": false,
     "start_time": "2025-05-23T17:37:11.066889",
     "status": "completed"
    },
    "tags": []
   },
   "outputs": [
    {
     "data": {
      "text/plain": [
       "request method\n",
       "GET        32874\n",
       "POST        3680\n",
       "-              9\n",
       "\\x03           2\n",
       "HEAD           1\n",
       "CONNECT        1\n",
       "Name: count, dtype: int64"
      ]
     },
     "execution_count": 10,
     "metadata": {},
     "output_type": "execute_result"
    }
   ],
   "source": [
    "data[\"request method\"].value_counts()"
   ]
  },
  {
   "cell_type": "code",
   "execution_count": 11,
   "id": "88e6fc27",
   "metadata": {
    "execution": {
     "iopub.execute_input": "2025-05-23T17:37:11.112706Z",
     "iopub.status.busy": "2025-05-23T17:37:11.112362Z",
     "iopub.status.idle": "2025-05-23T17:37:11.132858Z",
     "shell.execute_reply": "2025-05-23T17:37:11.130784Z"
    },
    "papermill": {
     "duration": 0.031165,
     "end_time": "2025-05-23T17:37:11.135159",
     "exception": false,
     "start_time": "2025-05-23T17:37:11.103994",
     "status": "completed"
    },
    "tags": []
   },
   "outputs": [],
   "source": [
    "data = data[data[\"request method\"].isin([\"GET\", \"POST\"])]\n"
   ]
  },
  {
   "cell_type": "code",
   "execution_count": 12,
   "id": "8a741629",
   "metadata": {
    "execution": {
     "iopub.execute_input": "2025-05-23T17:37:11.150427Z",
     "iopub.status.busy": "2025-05-23T17:37:11.149989Z",
     "iopub.status.idle": "2025-05-23T17:37:11.160186Z",
     "shell.execute_reply": "2025-05-23T17:37:11.158293Z"
    },
    "papermill": {
     "duration": 0.020621,
     "end_time": "2025-05-23T17:37:11.162629",
     "exception": false,
     "start_time": "2025-05-23T17:37:11.142008",
     "status": "completed"
    },
    "tags": []
   },
   "outputs": [
    {
     "data": {
      "text/plain": [
       "(36554, 11)"
      ]
     },
     "execution_count": 12,
     "metadata": {},
     "output_type": "execute_result"
    }
   ],
   "source": [
    "data.shape"
   ]
  },
  {
   "cell_type": "code",
   "execution_count": 13,
   "id": "b5cdca82",
   "metadata": {
    "execution": {
     "iopub.execute_input": "2025-05-23T17:37:11.179338Z",
     "iopub.status.busy": "2025-05-23T17:37:11.179016Z",
     "iopub.status.idle": "2025-05-23T17:37:11.206738Z",
     "shell.execute_reply": "2025-05-23T17:37:11.205812Z"
    },
    "papermill": {
     "duration": 0.03752,
     "end_time": "2025-05-23T17:37:11.208461",
     "exception": false,
     "start_time": "2025-05-23T17:37:11.170941",
     "status": "completed"
    },
    "tags": []
   },
   "outputs": [
    {
     "data": {
      "text/plain": [
       "0        /bkd_baru/assets/images/scan_sertifikat/D0001_...\n",
       "1        /bkd_baru/assets/images/scan_sertifikat/D0001_...\n",
       "2        /bkd_baru/assets/images/scan_sertifikat/D0001_...\n",
       "3                                   /bkd_baru/uwubahon.php\n",
       "4                                   /bkd_baru/awubahon.php\n",
       "                               ...                        \n",
       "37688    /bkd_baru/assets/images/scan_kinerja/D0010__23...\n",
       "37689    /bkd_baru/assets/images/scan_penugasan/D0010__...\n",
       "37690    /bkd_baru/assets/images/scan_kinerja/D0010__24...\n",
       "37691    /bkd_baru/assets/images/scan_kinerja/D0010__24...\n",
       "37692    /bkd_baru/assets/images/scan_kinerja/D0010__18...\n",
       "Name: request path, Length: 36554, dtype: object"
      ]
     },
     "execution_count": 13,
     "metadata": {},
     "output_type": "execute_result"
    }
   ],
   "source": [
    "data.loc[:, \"request path\"] = data[\"request\"].apply(lambda r: r.split()[1])\n",
    "data[\"request path\"]"
   ]
  },
  {
   "cell_type": "code",
   "execution_count": 14,
   "id": "a95b115b",
   "metadata": {
    "execution": {
     "iopub.execute_input": "2025-05-23T17:37:11.223317Z",
     "iopub.status.busy": "2025-05-23T17:37:11.222987Z",
     "iopub.status.idle": "2025-05-23T17:37:11.254854Z",
     "shell.execute_reply": "2025-05-23T17:37:11.253615Z"
    },
    "papermill": {
     "duration": 0.042463,
     "end_time": "2025-05-23T17:37:11.257592",
     "exception": false,
     "start_time": "2025-05-23T17:37:11.215129",
     "status": "completed"
    },
    "tags": []
   },
   "outputs": [
    {
     "data": {
      "text/plain": [
       "array(['HTTP/1.1', 'HTTP/1.0'], dtype=object)"
      ]
     },
     "execution_count": 14,
     "metadata": {},
     "output_type": "execute_result"
    }
   ],
   "source": [
    "data.loc[:, \"request version\"] = data[\"request\"].apply(lambda r: r.split()[2])\n",
    "data[\"request version\"].unique()"
   ]
  },
  {
   "cell_type": "code",
   "execution_count": 15,
   "id": "489733ff",
   "metadata": {
    "execution": {
     "iopub.execute_input": "2025-05-23T17:37:11.273817Z",
     "iopub.status.busy": "2025-05-23T17:37:11.273433Z",
     "iopub.status.idle": "2025-05-23T17:37:11.287501Z",
     "shell.execute_reply": "2025-05-23T17:37:11.285654Z"
    },
    "papermill": {
     "duration": 0.024776,
     "end_time": "2025-05-23T17:37:11.289844",
     "exception": false,
     "start_time": "2025-05-23T17:37:11.265068",
     "status": "completed"
    },
    "tags": []
   },
   "outputs": [
    {
     "name": "stdout",
     "output_type": "stream",
     "text": [
      "Mozilla/5.0 (Linux; Android 5.1.1; SM-J111F Build/LMY47V) AppleWebKit/537.36 (KHTML, like Gecko) Chrome/55.0.2883.91 Mobile Safari/537.36\n",
      "Mozilla/5.0 (Linux; Android 5.1.1; SM-J111F Build/LMY47V) AppleWebKit/537.36 (KHTML, like Gecko) Chrome/55.0.2883.91 Mobile Safari/537.36\n",
      "Mozilla/5.0 (Linux; Android 5.1.1; SM-J111F Build/LMY47V) AppleWebKit/537.36 (KHTML, like Gecko) Chrome/55.0.2883.91 Mobile Safari/537.36\n",
      "Mozilla/5.0 (Linux; Android 5.1.1; SM-J111F Build/LMY47V) AppleWebKit/537.36 (KHTML, like Gecko) Chrome/55.0.2883.91 Mobile Safari/537.36\n",
      "Mozilla/5.0 (Linux; Android 5.1.1; SM-J111F Build/LMY47V) AppleWebKit/537.36 (KHTML, like Gecko) Chrome/55.0.2883.91 Mobile Safari/537.36\n",
      "240\n"
     ]
    }
   ],
   "source": [
    "print(*list(data[\"browser\"].head(),), sep=\"\\n\")\n",
    "print(data[\"browser\"].nunique())"
   ]
  },
  {
   "cell_type": "code",
   "execution_count": 16,
   "id": "a34f990c",
   "metadata": {
    "execution": {
     "iopub.execute_input": "2025-05-23T17:37:11.306788Z",
     "iopub.status.busy": "2025-05-23T17:37:11.306334Z",
     "iopub.status.idle": "2025-05-23T17:37:11.395256Z",
     "shell.execute_reply": "2025-05-23T17:37:11.393892Z"
    },
    "papermill": {
     "duration": 0.099954,
     "end_time": "2025-05-23T17:37:11.397220",
     "exception": false,
     "start_time": "2025-05-23T17:37:11.297266",
     "status": "completed"
    },
    "tags": []
   },
   "outputs": [],
   "source": [
    "import re\n",
    "import pandas as pd\n",
    "\n",
    "def extract_os(ua_string):\n",
    "    os = \"other\"\n",
    "\n",
    "    # Try to extract the content inside the first set of parentheses\n",
    "    os_match = re.search(r'\\(([^)]+)\\)', ua_string)\n",
    "    if os_match:\n",
    "        os_text = os_match.group(1)\n",
    "\n",
    "        # Match common OS names\n",
    "        if 'Android' in os_text:\n",
    "            os = 'Android'\n",
    "        elif any(term in os_text for term in ['iPhone', 'iPad', 'iOS']):\n",
    "            os = 'iOS'\n",
    "        elif any(term in os_text for term in ['Mac OS', 'Macintosh']):\n",
    "            os = 'MacOS'\n",
    "        elif 'Windows' in os_text:\n",
    "            os = 'Windows'\n",
    "        elif 'Linux' in os_text:\n",
    "            os = 'Linux'\n",
    "        else:\n",
    "            os = \"other\"  # fallback to raw content inside parentheses\n",
    "\n",
    "    return os\n",
    "\n",
    "data['os'] = data['browser'].apply(extract_os)\n"
   ]
  },
  {
   "cell_type": "code",
   "execution_count": 17,
   "id": "c0439b86",
   "metadata": {
    "execution": {
     "iopub.execute_input": "2025-05-23T17:37:11.412999Z",
     "iopub.status.busy": "2025-05-23T17:37:11.412616Z",
     "iopub.status.idle": "2025-05-23T17:37:11.426935Z",
     "shell.execute_reply": "2025-05-23T17:37:11.425643Z"
    },
    "papermill": {
     "duration": 0.024226,
     "end_time": "2025-05-23T17:37:11.429186",
     "exception": false,
     "start_time": "2025-05-23T17:37:11.404960",
     "status": "completed"
    },
    "tags": []
   },
   "outputs": [
    {
     "name": "stdout",
     "output_type": "stream",
     "text": [
      "['Android' 'MacOS' 'Windows' 'other' 'Linux' 'iOS']\n",
      "6\n",
      "os\n",
      "Windows    30954\n",
      "Android     5287\n",
      "MacOS        107\n",
      "other         83\n",
      "iOS           62\n",
      "Linux         61\n",
      "Name: count, dtype: int64\n"
     ]
    }
   ],
   "source": [
    "print(data[\"os\"].unique())\n",
    "print(data[\"os\"].nunique())\n",
    "print(data[\"os\"].value_counts())"
   ]
  },
  {
   "cell_type": "code",
   "execution_count": 18,
   "id": "4f1daa9d",
   "metadata": {
    "execution": {
     "iopub.execute_input": "2025-05-23T17:37:11.446141Z",
     "iopub.status.busy": "2025-05-23T17:37:11.445852Z",
     "iopub.status.idle": "2025-05-23T17:37:11.451852Z",
     "shell.execute_reply": "2025-05-23T17:37:11.450424Z"
    },
    "papermill": {
     "duration": 0.017519,
     "end_time": "2025-05-23T17:37:11.453675",
     "exception": false,
     "start_time": "2025-05-23T17:37:11.436156",
     "status": "completed"
    },
    "tags": []
   },
   "outputs": [
    {
     "name": "stdout",
     "output_type": "stream",
     "text": [
      "Index(['ip', 'datetime', 'gmt', 'request', 'status', 'size', 'referer',\n",
      "       'browser', 'country', 'detected', 'request method', 'request path',\n",
      "       'request version', 'os'],\n",
      "      dtype='object')\n"
     ]
    }
   ],
   "source": [
    "print(data.columns)"
   ]
  },
  {
   "cell_type": "code",
   "execution_count": 19,
   "id": "7aec7159",
   "metadata": {
    "execution": {
     "iopub.execute_input": "2025-05-23T17:37:11.470824Z",
     "iopub.status.busy": "2025-05-23T17:37:11.470297Z",
     "iopub.status.idle": "2025-05-23T17:37:11.479023Z",
     "shell.execute_reply": "2025-05-23T17:37:11.476727Z"
    },
    "papermill": {
     "duration": 0.020625,
     "end_time": "2025-05-23T17:37:11.481365",
     "exception": false,
     "start_time": "2025-05-23T17:37:11.460740",
     "status": "completed"
    },
    "tags": []
   },
   "outputs": [
    {
     "name": "stdout",
     "output_type": "stream",
     "text": [
      "0   2019-07-01 10:54:15\n",
      "1   2019-07-01 10:54:23\n",
      "2   2019-07-01 10:54:42\n",
      "3   2019-07-01 10:55:08\n",
      "4   2019-07-01 10:55:28\n",
      "Name: datetime, dtype: datetime64[ns]\n"
     ]
    }
   ],
   "source": [
    "print(data[\"datetime\"].head())"
   ]
  },
  {
   "cell_type": "code",
   "execution_count": 20,
   "id": "3e285b57",
   "metadata": {
    "execution": {
     "iopub.execute_input": "2025-05-23T17:37:11.500840Z",
     "iopub.status.busy": "2025-05-23T17:37:11.500023Z",
     "iopub.status.idle": "2025-05-23T17:37:11.513251Z",
     "shell.execute_reply": "2025-05-23T17:37:11.510804Z"
    },
    "papermill": {
     "duration": 0.024321,
     "end_time": "2025-05-23T17:37:11.514995",
     "exception": false,
     "start_time": "2025-05-23T17:37:11.490674",
     "status": "completed"
    },
    "tags": []
   },
   "outputs": [
    {
     "data": {
      "text/plain": [
       "0    10\n",
       "1    10\n",
       "2    10\n",
       "3    10\n",
       "4    10\n",
       "Name: hour, dtype: int32"
      ]
     },
     "execution_count": 20,
     "metadata": {},
     "output_type": "execute_result"
    }
   ],
   "source": [
    "data['hour'] = data['datetime'].dt.hour\n",
    "data['hour'].head()\n"
   ]
  },
  {
   "cell_type": "code",
   "execution_count": 21,
   "id": "ca4549db",
   "metadata": {
    "execution": {
     "iopub.execute_input": "2025-05-23T17:37:11.535881Z",
     "iopub.status.busy": "2025-05-23T17:37:11.535501Z",
     "iopub.status.idle": "2025-05-23T17:37:11.542895Z",
     "shell.execute_reply": "2025-05-23T17:37:11.541668Z"
    },
    "papermill": {
     "duration": 0.020008,
     "end_time": "2025-05-23T17:37:11.545334",
     "exception": false,
     "start_time": "2025-05-23T17:37:11.525326",
     "status": "completed"
    },
    "tags": []
   },
   "outputs": [
    {
     "data": {
      "text/plain": [
       "Index(['ip', 'datetime', 'gmt', 'request', 'status', 'size', 'referer',\n",
       "       'browser', 'country', 'detected', 'request method', 'request path',\n",
       "       'request version', 'os', 'hour'],\n",
       "      dtype='object')"
      ]
     },
     "execution_count": 21,
     "metadata": {},
     "output_type": "execute_result"
    }
   ],
   "source": [
    "data.columns"
   ]
  },
  {
   "cell_type": "code",
   "execution_count": 22,
   "id": "b09ecb53",
   "metadata": {
    "execution": {
     "iopub.execute_input": "2025-05-23T17:37:11.566371Z",
     "iopub.status.busy": "2025-05-23T17:37:11.566028Z",
     "iopub.status.idle": "2025-05-23T17:37:11.573982Z",
     "shell.execute_reply": "2025-05-23T17:37:11.572651Z"
    },
    "papermill": {
     "duration": 0.021009,
     "end_time": "2025-05-23T17:37:11.576320",
     "exception": false,
     "start_time": "2025-05-23T17:37:11.555311",
     "status": "completed"
    },
    "tags": []
   },
   "outputs": [
    {
     "data": {
      "text/plain": [
       "ip                         object\n",
       "datetime           datetime64[ns]\n",
       "gmt                        object\n",
       "request                    object\n",
       "status                    float64\n",
       "size                       object\n",
       "referer                    object\n",
       "browser                    object\n",
       "country                    object\n",
       "detected                   object\n",
       "request method             object\n",
       "request path               object\n",
       "request version            object\n",
       "os                         object\n",
       "hour                        int32\n",
       "dtype: object"
      ]
     },
     "execution_count": 22,
     "metadata": {},
     "output_type": "execute_result"
    }
   ],
   "source": [
    "data.dtypes\n"
   ]
  },
  {
   "cell_type": "code",
   "execution_count": 23,
   "id": "2648d9cc",
   "metadata": {
    "execution": {
     "iopub.execute_input": "2025-05-23T17:37:11.592954Z",
     "iopub.status.busy": "2025-05-23T17:37:11.592637Z",
     "iopub.status.idle": "2025-05-23T17:37:11.674699Z",
     "shell.execute_reply": "2025-05-23T17:37:11.673363Z"
    },
    "papermill": {
     "duration": 0.092207,
     "end_time": "2025-05-23T17:37:11.676484",
     "exception": false,
     "start_time": "2025-05-23T17:37:11.584277",
     "status": "completed"
    },
    "tags": []
   },
   "outputs": [
    {
     "name": "stdout",
     "output_type": "stream",
     "text": [
      "['ip', 'gmt', 'request', 'size', 'referer', 'browser', 'country', 'detected', 'request method', 'request path', 'request version', 'os']\n",
      "col is: ip\n",
      "sample: \n",
      "17589      36.72.101.126\n",
      "18354      182.0.200.119\n",
      "22907     118.97.191.179\n",
      "36895    207.180.211.248\n",
      "2441      180.178.99.180\n",
      "Name: ip, dtype: object\n",
      "col is: gmt\n",
      "sample: \n",
      "11932    +0700]\n",
      "7866     +0700]\n",
      "2477     +0700]\n",
      "29106    +0700]\n",
      "23545    +0700]\n",
      "Name: gmt, dtype: object\n",
      "col is: request\n",
      "sample: \n",
      "24116             GET /bkd_baru/Bidang_pendidikan HTTP/1.1\n",
      "29304    GET /bkd_baru/assets/images/scan_kinerja/D0218...\n",
      "24221         GET /bkd_baru/hasil_penilaian_dosen HTTP/1.1\n",
      "13754    GET /bkd_baru/assets/js/ace/elements.fileinput...\n",
      "20554             GET /bkd_baru/bidang_penelitian HTTP/1.1\n",
      "Name: request, dtype: object\n",
      "col is: size\n",
      "sample: \n",
      "26446     263024\n",
      "16974          -\n",
      "32555      38132\n",
      "16209    2755087\n",
      "12685          -\n",
      "Name: size, dtype: object\n",
      "col is: referer\n",
      "sample: \n",
      "26708                 http://universitas.com/bkd_baru/home\n",
      "7833                  http://universitas.com/bkd_baru/home\n",
      "182      http://universitas.com/bkd_baru/bidang_pendidi...\n",
      "27540    http://universitas.com/bkd_baru//kinerja_dosen...\n",
      "14880                 http://universitas.com/bkd_baru/home\n",
      "Name: referer, dtype: object\n",
      "col is: browser\n",
      "sample: \n",
      "23710    Mozilla/5.0 (Windows NT 6.1; rv:68.0) Gecko/20...\n",
      "19126    Mozilla/5.0 (Windows NT 6.1; rv:68.0) Gecko/20...\n",
      "29186    Mozilla/5.0 (Windows NT 6.1) AppleWebKit/537.3...\n",
      "12728    Mozilla/5.0 (Windows NT 6.1; rv:60.0) Gecko/20...\n",
      "29314    Mozilla/5.0 (Windows NT 6.3; rv:68.0) Gecko/20...\n",
      "Name: browser, dtype: object\n",
      "col is: country\n",
      "sample: \n",
      "25235        Indonesia\n",
      "1802         Indonesia\n",
      "31257    United States\n",
      "1873         Indonesia\n",
      "37125          Germany\n",
      "Name: country, dtype: object\n",
      "col is: detected\n",
      "sample: \n",
      "15162      AMAN\n",
      "3537     BAHAYA\n",
      "10979      AMAN\n",
      "5244       AMAN\n",
      "31003      AMAN\n",
      "Name: detected, dtype: object\n",
      "col is: request method\n",
      "sample: \n",
      "19293    GET\n",
      "22584    GET\n",
      "26727    GET\n",
      "10674    GET\n",
      "12101    GET\n",
      "Name: request method, dtype: object\n",
      "col is: request path\n",
      "sample: \n",
      "28979    /bkd_baru/assets/images/scan_penugasan/D0222__...\n",
      "7454     /bkd_baru/assets/images/scan_kinerja/D0145__23...\n",
      "35413                             /bkd_baru/login/getlogin\n",
      "13248    /bkd_baru/assets/js/sweetalert/dist/sweetalert...\n",
      "14307    /bkd_baru/assets/images/scan_kinerja/D0019__19...\n",
      "Name: request path, dtype: object\n",
      "col is: request version\n",
      "sample: \n",
      "14397    HTTP/1.1\n",
      "17063    HTTP/1.1\n",
      "786      HTTP/1.1\n",
      "29073    HTTP/1.1\n",
      "4957     HTTP/1.1\n",
      "Name: request version, dtype: object\n",
      "col is: os\n",
      "sample: \n",
      "16118    Windows\n",
      "28997    Windows\n",
      "7733     Windows\n",
      "26141    Windows\n",
      "22300    Windows\n",
      "Name: os, dtype: object\n",
      "ip                   557\n",
      "gmt                    1\n",
      "request             5715\n",
      "size               10551\n",
      "referer             1347\n",
      "browser              240\n",
      "country               23\n",
      "detected               3\n",
      "request method         2\n",
      "request path        5683\n",
      "request version        2\n",
      "os                     6\n",
      "dtype: int64\n"
     ]
    }
   ],
   "source": [
    "object_columns = [col for col in data.columns if data[col].dtype == 'object']\n",
    "print(object_columns)\n",
    "for col in object_columns:\n",
    "\n",
    "    print(f\"col is: {col}\")\n",
    "    print(f\"sample: \\n{data[col].sample(5)}\")\n",
    "\n",
    "print(data[object_columns].nunique())"
   ]
  },
  {
   "cell_type": "code",
   "execution_count": 24,
   "id": "93302fc3",
   "metadata": {
    "execution": {
     "iopub.execute_input": "2025-05-23T17:37:11.693456Z",
     "iopub.status.busy": "2025-05-23T17:37:11.693124Z",
     "iopub.status.idle": "2025-05-23T17:37:11.985292Z",
     "shell.execute_reply": "2025-05-23T17:37:11.984174Z"
    },
    "papermill": {
     "duration": 0.302887,
     "end_time": "2025-05-23T17:37:11.986952",
     "exception": false,
     "start_time": "2025-05-23T17:37:11.684065",
     "status": "completed"
    },
    "tags": []
   },
   "outputs": [
    {
     "name": "stdout",
     "output_type": "stream",
     "text": [
      "['size', 'referer', 'browser', 'country', 'detected', 'request method', 'request path', 'request version', 'os']\n"
     ]
    }
   ],
   "source": [
    "import ipaddress\n",
    "\n",
    "data.drop(columns=[\"request\", \"gmt\"], inplace=True)\n",
    "\n",
    "data['ip_numeric'] = data['ip'].apply(lambda x: int(ipaddress.IPv4Address(x)))\n",
    "data['datetime_numeric'] = data['datetime'].apply(lambda x: x.timestamp())\n",
    "data.drop(columns = [\"ip\", \"datetime\"], inplace=True)\n",
    "\n",
    "object_columns = [col for col in data.columns if data[col].dtype == \"object\"]\n",
    "print(object_columns)"
   ]
  },
  {
   "cell_type": "code",
   "execution_count": 25,
   "id": "cd8ac313",
   "metadata": {
    "execution": {
     "iopub.execute_input": "2025-05-23T17:37:12.004157Z",
     "iopub.status.busy": "2025-05-23T17:37:12.003812Z",
     "iopub.status.idle": "2025-05-23T17:37:12.035479Z",
     "shell.execute_reply": "2025-05-23T17:37:12.034099Z"
    },
    "papermill": {
     "duration": 0.043332,
     "end_time": "2025-05-23T17:37:12.037699",
     "exception": false,
     "start_time": "2025-05-23T17:37:11.994367",
     "status": "completed"
    },
    "tags": []
   },
   "outputs": [
    {
     "name": "stdout",
     "output_type": "stream",
     "text": [
      "['-']\n",
      "The \"-\" value appears 5875 times in the size column.\n"
     ]
    }
   ],
   "source": [
    "non_int_values = data[~data['size'].apply(lambda x: str(x).isdigit())]['size'].unique()\n",
    "print(non_int_values)\n",
    "count_dash = (data['size'] == '-').sum()\n",
    "print(f'The \"-\" value appears {count_dash} times in the size column.')"
   ]
  },
  {
   "cell_type": "code",
   "execution_count": 26,
   "id": "d37a3ffe",
   "metadata": {
    "execution": {
     "iopub.execute_input": "2025-05-23T17:37:12.058433Z",
     "iopub.status.busy": "2025-05-23T17:37:12.058075Z",
     "iopub.status.idle": "2025-05-23T17:37:12.080912Z",
     "shell.execute_reply": "2025-05-23T17:37:12.079160Z"
    },
    "papermill": {
     "duration": 0.035285,
     "end_time": "2025-05-23T17:37:12.082690",
     "exception": false,
     "start_time": "2025-05-23T17:37:12.047405",
     "status": "completed"
    },
    "tags": []
   },
   "outputs": [
    {
     "name": "stdout",
     "output_type": "stream",
     "text": [
      "Index(['status', 'size', 'referer', 'detected', 'request method',\n",
      "       'request path', 'request version', 'os', 'hour', 'ip_numeric',\n",
      "       'datetime_numeric'],\n",
      "      dtype='object')\n"
     ]
    }
   ],
   "source": [
    "\"\"\"The country feature could introduce bias and is not a good predictor for attacks\n",
    "in the real world, especially that trends might change with time.\n",
    "Therefore it will be removed\"\"\"\n",
    "\n",
    "data.drop(columns=[\"country\"], inplace=True)\n",
    "\n",
    "\"\"\"The 'browser' feature has complex info, this might introduce\n",
    "overfitting. We already extracted the OS feature. Therefore, it will\n",
    "be dropped\"\"\"\n",
    "\n",
    "data.drop(columns=[\"browser\"], inplace=True)\n",
    "\n",
    "print(data.columns)"
   ]
  },
  {
   "cell_type": "code",
   "execution_count": 27,
   "id": "6cd303d1",
   "metadata": {
    "execution": {
     "iopub.execute_input": "2025-05-23T17:37:12.099796Z",
     "iopub.status.busy": "2025-05-23T17:37:12.099436Z",
     "iopub.status.idle": "2025-05-23T17:37:12.105043Z",
     "shell.execute_reply": "2025-05-23T17:37:12.103816Z"
    },
    "papermill": {
     "duration": 0.016662,
     "end_time": "2025-05-23T17:37:12.106807",
     "exception": false,
     "start_time": "2025-05-23T17:37:12.090145",
     "status": "completed"
    },
    "tags": []
   },
   "outputs": [
    {
     "name": "stdout",
     "output_type": "stream",
     "text": [
      "Index(['status', 'size', 'referer', 'detected', 'request method',\n",
      "       'request path', 'request version', 'os', 'hour', 'ip_numeric',\n",
      "       'datetime_numeric'],\n",
      "      dtype='object')\n",
      "11\n"
     ]
    }
   ],
   "source": [
    "print(data.columns)\n",
    "print(len(data.columns))"
   ]
  },
  {
   "cell_type": "code",
   "execution_count": 28,
   "id": "a8d79f0a",
   "metadata": {
    "execution": {
     "iopub.execute_input": "2025-05-23T17:37:12.123660Z",
     "iopub.status.busy": "2025-05-23T17:37:12.123280Z",
     "iopub.status.idle": "2025-05-23T17:37:12.148582Z",
     "shell.execute_reply": "2025-05-23T17:37:12.146916Z"
    },
    "papermill": {
     "duration": 0.035919,
     "end_time": "2025-05-23T17:37:12.150437",
     "exception": false,
     "start_time": "2025-05-23T17:37:12.114518",
     "status": "completed"
    },
    "tags": []
   },
   "outputs": [
    {
     "name": "stdout",
     "output_type": "stream",
     "text": [
      "status              0\n",
      "size                0\n",
      "referer             0\n",
      "detected            0\n",
      "request method      0\n",
      "request path        0\n",
      "request version     0\n",
      "os                  0\n",
      "hour                0\n",
      "ip_numeric          0\n",
      "datetime_numeric    0\n",
      "dtype: int64\n"
     ]
    }
   ],
   "source": [
    "print(data.isna().sum())"
   ]
  },
  {
   "cell_type": "code",
   "execution_count": 29,
   "id": "58103cb3",
   "metadata": {
    "execution": {
     "iopub.execute_input": "2025-05-23T17:37:12.168879Z",
     "iopub.status.busy": "2025-05-23T17:37:12.168513Z",
     "iopub.status.idle": "2025-05-23T17:37:12.176822Z",
     "shell.execute_reply": "2025-05-23T17:37:12.175446Z"
    },
    "papermill": {
     "duration": 0.019833,
     "end_time": "2025-05-23T17:37:12.178501",
     "exception": false,
     "start_time": "2025-05-23T17:37:12.158668",
     "status": "completed"
    },
    "tags": []
   },
   "outputs": [
    {
     "name": "stdout",
     "output_type": "stream",
     "text": [
      "['BAHAYA' 'AMAN' 'DICURIGAI']\n"
     ]
    }
   ],
   "source": [
    "data.rename(columns = {\"detected\": \"Label\"}, inplace=True)\n",
    "print(data[\"Label\"].unique())"
   ]
  },
  {
   "cell_type": "code",
   "execution_count": 30,
   "id": "bb24f07e",
   "metadata": {
    "execution": {
     "iopub.execute_input": "2025-05-23T17:37:12.195615Z",
     "iopub.status.busy": "2025-05-23T17:37:12.195266Z",
     "iopub.status.idle": "2025-05-23T17:37:12.204226Z",
     "shell.execute_reply": "2025-05-23T17:37:12.203329Z"
    },
    "papermill": {
     "duration": 0.019667,
     "end_time": "2025-05-23T17:37:12.206122",
     "exception": false,
     "start_time": "2025-05-23T17:37:12.186455",
     "status": "completed"
    },
    "tags": []
   },
   "outputs": [],
   "source": [
    "# Mapping from Indonesian to English\n",
    "label_translation = {\n",
    "    'BAHAYA': 'Attack',\n",
    "    'AMAN': 'Safe',\n",
    "    'DICURIGAI': 'Suspicious'\n",
    "}\n",
    "\n",
    "# Apply the translation\n",
    "data['Label'] = data['Label'].map(label_translation)\n"
   ]
  },
  {
   "cell_type": "code",
   "execution_count": 31,
   "id": "387fbfdf",
   "metadata": {
    "execution": {
     "iopub.execute_input": "2025-05-23T17:37:12.223772Z",
     "iopub.status.busy": "2025-05-23T17:37:12.223349Z",
     "iopub.status.idle": "2025-05-23T17:37:14.765693Z",
     "shell.execute_reply": "2025-05-23T17:37:14.764651Z"
    },
    "papermill": {
     "duration": 2.552652,
     "end_time": "2025-05-23T17:37:14.767377",
     "exception": false,
     "start_time": "2025-05-23T17:37:12.214725",
     "status": "completed"
    },
    "tags": []
   },
   "outputs": [
    {
     "data": {
      "image/png": "[encoded data removed]",
      "text/plain": [
       "<Figure size 640x480 with 1 Axes>"
      ]
     },
     "metadata": {},
     "output_type": "display_data"
    }
   ],
   "source": [
    "import seaborn as sns\n",
    "import matplotlib.pyplot as plt\n",
    "\n",
    "sns.countplot(data=data, x=\"Label\")\n",
    "plt.title(\"Label Distribution\")\n",
    "plt.xticks(rotation=45)\n",
    "plt.show()\n"
   ]
  },
  {
   "cell_type": "code",
   "execution_count": 32,
   "id": "4751079a",
   "metadata": {
    "execution": {
     "iopub.execute_input": "2025-05-23T17:37:14.785534Z",
     "iopub.status.busy": "2025-05-23T17:37:14.785063Z",
     "iopub.status.idle": "2025-05-23T17:37:15.169927Z",
     "shell.execute_reply": "2025-05-23T17:37:15.168702Z"
    },
    "papermill": {
     "duration": 0.395548,
     "end_time": "2025-05-23T17:37:15.171672",
     "exception": false,
     "start_time": "2025-05-23T17:37:14.776124",
     "status": "completed"
    },
    "tags": []
   },
   "outputs": [],
   "source": [
    "data.to_csv(\"apache_logs_clean_data.csv\")"
   ]
  },
  {
   "cell_type": "code",
   "execution_count": null,
   "id": "f955b7d2",
   "metadata": {
    "papermill": {
     "duration": 0.007763,
     "end_time": "2025-05-23T17:37:15.188729",
     "exception": false,
     "start_time": "2025-05-23T17:37:15.180966",
     "status": "completed"
    },
    "tags": []
   },
   "outputs": [],
   "source": []
  }
 ],
 "metadata": {
  "kaggle": {
   "accelerator": "none",
   "dataSources": [
    {
     "datasetId": 7489641,
     "sourceId": 11913236,
     "sourceType": "datasetVersion"
    }
   ],
   "dockerImageVersionId": 31040,
   "isGpuEnabled": false,
   "isInternetEnabled": true,
   "language": "python",
   "sourceType": "notebook"
  },
  "kernelspec": {
   "display_name": "Python 3",
   "language": "python",
   "name": "python3"
  },
  "language_info": {
   "codemirror_mode": {
    "name": "ipython",
    "version": 3
   },
   "file_extension": ".py",
   "mimetype": "text/x-python",
   "name": "python",
   "nbconvert_exporter": "python",
   "pygments_lexer": "ipython3",
   "version": "3.11.11"
  },
  "papermill": {
   "default_parameters": {},
   "duration": 20.058282,
   "end_time": "2025-05-23T17:37:16.121683",
   "environment_variables": {},
   "exception": null,
   "input_path": "__notebook__.ipynb",
   "output_path": "__notebook__.ipynb",
   "parameters": {},
   "start_time": "2025-05-23T17:36:56.063401",
   "version": "2.6.0"
  }
 },
 "nbformat": 4,
 "nbformat_minor": 5
}

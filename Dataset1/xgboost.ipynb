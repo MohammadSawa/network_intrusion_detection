{
 "cells": [
  {
   "cell_type": "code",
   "execution_count": 1,
   "id": "cdb34a97",
   "metadata": {
    "_cell_guid": "b1076dfc-b9ad-4769-8c92-a6c4dae69d19",
    "_uuid": "8f2839f25d086af736a60e9eeb907d3b93b6e0e5",
    "execution": {
     "iopub.execute_input": "2025-05-13T14:55:00.684087Z",
     "iopub.status.busy": "2025-05-13T14:55:00.683696Z",
     "iopub.status.idle": "2025-05-13T14:55:02.638520Z",
     "shell.execute_reply": "2025-05-13T14:55:02.637512Z"
    },
    "papermill": {
     "duration": 1.962253,
     "end_time": "2025-05-13T14:55:02.639992",
     "exception": false,
     "start_time": "2025-05-13T14:55:00.677739",
     "status": "completed"
    },
    "tags": []
   },
   "outputs": [
    {
     "name": "stdout",
     "output_type": "stream",
     "text": [
      "/kaggle/input/cicids2017-cleaned-data/cleaned_data.csv\n",
      "/kaggle/input/cleaned-data-2/cleaned_data2.csv\n"
     ]
    }
   ],
   "source": [
    "# This Python 3 environment comes with many helpful analytics libraries installed\n",
    "# It is defined by the kaggle/python Docker image: https://github.com/kaggle/docker-python\n",
    "# For example, here's several helpful packages to load\n",
    "\n",
    "import numpy as np # linear algebra\n",
    "import pandas as pd # data processing, CSV file I/O (e.g. pd.read_csv)\n",
    "\n",
    "# Input data files are available in the read-only \"../input/\" directory\n",
    "# For example, running this (by clicking run or pressing Shift+Enter) will list all files under the input directory\n",
    "\n",
    "import os\n",
    "for dirname, _, filenames in os.walk('/kaggle/input'):\n",
    "    for filename in filenames:\n",
    "        print(os.path.join(dirname, filename))\n",
    "\n",
    "# You can write up to 20GB to the current directory (/kaggle/working/) that gets preserved as output when you create a version using \"Save & Run All\" \n",
    "# You can also write temporary files to /kaggle/temp/, but they won't be saved outside of the current session"
   ]
  },
  {
   "cell_type": "code",
   "execution_count": 2,
   "id": "b88cbe10",
   "metadata": {
    "execution": {
     "iopub.execute_input": "2025-05-13T14:55:02.649875Z",
     "iopub.status.busy": "2025-05-13T14:55:02.649110Z",
     "iopub.status.idle": "2025-05-13T14:55:22.724317Z",
     "shell.execute_reply": "2025-05-13T14:55:22.723421Z"
    },
    "papermill": {
     "duration": 20.081471,
     "end_time": "2025-05-13T14:55:22.725788",
     "exception": false,
     "start_time": "2025-05-13T14:55:02.644317",
     "status": "completed"
    },
    "tags": []
   },
   "outputs": [
    {
     "data": {
      "text/html": [
       "<div>\n",
       "<style scoped>\n",
       "    .dataframe tbody tr th:only-of-type {\n",
       "        vertical-align: middle;\n",
       "    }\n",
       "\n",
       "    .dataframe tbody tr th {\n",
       "        vertical-align: top;\n",
       "    }\n",
       "\n",
       "    .dataframe thead th {\n",
       "        text-align: right;\n",
       "    }\n",
       "</style>\n",
       "<table border=\"1\" class=\"dataframe\">\n",
       "  <thead>\n",
       "    <tr style=\"text-align: right;\">\n",
       "      <th></th>\n",
       "      <th>Destination Port</th>\n",
       "      <th>Flow Duration</th>\n",
       "      <th>Total Fwd Packets</th>\n",
       "      <th>Total Length of Fwd Packets</th>\n",
       "      <th>Fwd Packet Length Max</th>\n",
       "      <th>Fwd Packet Length Min</th>\n",
       "      <th>Fwd Packet Length Mean</th>\n",
       "      <th>Bwd Packet Length Max</th>\n",
       "      <th>Bwd Packet Length Min</th>\n",
       "      <th>Flow Bytes/s</th>\n",
       "      <th>...</th>\n",
       "      <th>Init_Win_bytes_forward</th>\n",
       "      <th>Init_Win_bytes_backward</th>\n",
       "      <th>act_data_pkt_fwd</th>\n",
       "      <th>min_seg_size_forward</th>\n",
       "      <th>Active Mean</th>\n",
       "      <th>Active Std</th>\n",
       "      <th>Active Max</th>\n",
       "      <th>Active Min</th>\n",
       "      <th>Idle Std</th>\n",
       "      <th>Attack_Type</th>\n",
       "    </tr>\n",
       "  </thead>\n",
       "  <tbody>\n",
       "    <tr>\n",
       "      <th>0</th>\n",
       "      <td>22</td>\n",
       "      <td>1266342</td>\n",
       "      <td>41</td>\n",
       "      <td>2664</td>\n",
       "      <td>456</td>\n",
       "      <td>0</td>\n",
       "      <td>64.975610</td>\n",
       "      <td>976</td>\n",
       "      <td>0</td>\n",
       "      <td>7.595105e+03</td>\n",
       "      <td>...</td>\n",
       "      <td>29200</td>\n",
       "      <td>243</td>\n",
       "      <td>24</td>\n",
       "      <td>32</td>\n",
       "      <td>0.0</td>\n",
       "      <td>0.0</td>\n",
       "      <td>0</td>\n",
       "      <td>0</td>\n",
       "      <td>0.0</td>\n",
       "      <td>BENIGN</td>\n",
       "    </tr>\n",
       "    <tr>\n",
       "      <th>1</th>\n",
       "      <td>22</td>\n",
       "      <td>1319353</td>\n",
       "      <td>41</td>\n",
       "      <td>2664</td>\n",
       "      <td>456</td>\n",
       "      <td>0</td>\n",
       "      <td>64.975610</td>\n",
       "      <td>976</td>\n",
       "      <td>0</td>\n",
       "      <td>7.289937e+03</td>\n",
       "      <td>...</td>\n",
       "      <td>29200</td>\n",
       "      <td>243</td>\n",
       "      <td>24</td>\n",
       "      <td>32</td>\n",
       "      <td>0.0</td>\n",
       "      <td>0.0</td>\n",
       "      <td>0</td>\n",
       "      <td>0</td>\n",
       "      <td>0.0</td>\n",
       "      <td>BENIGN</td>\n",
       "    </tr>\n",
       "    <tr>\n",
       "      <th>2</th>\n",
       "      <td>22</td>\n",
       "      <td>160</td>\n",
       "      <td>1</td>\n",
       "      <td>0</td>\n",
       "      <td>0</td>\n",
       "      <td>0</td>\n",
       "      <td>0.000000</td>\n",
       "      <td>0</td>\n",
       "      <td>0</td>\n",
       "      <td>0.000000e+00</td>\n",
       "      <td>...</td>\n",
       "      <td>290</td>\n",
       "      <td>243</td>\n",
       "      <td>0</td>\n",
       "      <td>32</td>\n",
       "      <td>0.0</td>\n",
       "      <td>0.0</td>\n",
       "      <td>0</td>\n",
       "      <td>0</td>\n",
       "      <td>0.0</td>\n",
       "      <td>BENIGN</td>\n",
       "    </tr>\n",
       "    <tr>\n",
       "      <th>3</th>\n",
       "      <td>22</td>\n",
       "      <td>1303488</td>\n",
       "      <td>41</td>\n",
       "      <td>2728</td>\n",
       "      <td>456</td>\n",
       "      <td>0</td>\n",
       "      <td>66.536585</td>\n",
       "      <td>976</td>\n",
       "      <td>0</td>\n",
       "      <td>7.182268e+03</td>\n",
       "      <td>...</td>\n",
       "      <td>29200</td>\n",
       "      <td>243</td>\n",
       "      <td>24</td>\n",
       "      <td>32</td>\n",
       "      <td>0.0</td>\n",
       "      <td>0.0</td>\n",
       "      <td>0</td>\n",
       "      <td>0</td>\n",
       "      <td>0.0</td>\n",
       "      <td>BENIGN</td>\n",
       "    </tr>\n",
       "    <tr>\n",
       "      <th>4</th>\n",
       "      <td>35396</td>\n",
       "      <td>77</td>\n",
       "      <td>1</td>\n",
       "      <td>0</td>\n",
       "      <td>0</td>\n",
       "      <td>0</td>\n",
       "      <td>0.000000</td>\n",
       "      <td>0</td>\n",
       "      <td>0</td>\n",
       "      <td>0.000000e+00</td>\n",
       "      <td>...</td>\n",
       "      <td>243</td>\n",
       "      <td>290</td>\n",
       "      <td>0</td>\n",
       "      <td>32</td>\n",
       "      <td>0.0</td>\n",
       "      <td>0.0</td>\n",
       "      <td>0</td>\n",
       "      <td>0</td>\n",
       "      <td>0.0</td>\n",
       "      <td>BENIGN</td>\n",
       "    </tr>\n",
       "    <tr>\n",
       "      <th>...</th>\n",
       "      <td>...</td>\n",
       "      <td>...</td>\n",
       "      <td>...</td>\n",
       "      <td>...</td>\n",
       "      <td>...</td>\n",
       "      <td>...</td>\n",
       "      <td>...</td>\n",
       "      <td>...</td>\n",
       "      <td>...</td>\n",
       "      <td>...</td>\n",
       "      <td>...</td>\n",
       "      <td>...</td>\n",
       "      <td>...</td>\n",
       "      <td>...</td>\n",
       "      <td>...</td>\n",
       "      <td>...</td>\n",
       "      <td>...</td>\n",
       "      <td>...</td>\n",
       "      <td>...</td>\n",
       "      <td>...</td>\n",
       "      <td>...</td>\n",
       "    </tr>\n",
       "    <tr>\n",
       "      <th>2520746</th>\n",
       "      <td>53</td>\n",
       "      <td>32215</td>\n",
       "      <td>4</td>\n",
       "      <td>112</td>\n",
       "      <td>28</td>\n",
       "      <td>28</td>\n",
       "      <td>28.000000</td>\n",
       "      <td>76</td>\n",
       "      <td>76</td>\n",
       "      <td>8.194940e+03</td>\n",
       "      <td>...</td>\n",
       "      <td>-1</td>\n",
       "      <td>-1</td>\n",
       "      <td>3</td>\n",
       "      <td>20</td>\n",
       "      <td>0.0</td>\n",
       "      <td>0.0</td>\n",
       "      <td>0</td>\n",
       "      <td>0</td>\n",
       "      <td>0.0</td>\n",
       "      <td>BENIGN</td>\n",
       "    </tr>\n",
       "    <tr>\n",
       "      <th>2520747</th>\n",
       "      <td>53</td>\n",
       "      <td>324</td>\n",
       "      <td>2</td>\n",
       "      <td>84</td>\n",
       "      <td>42</td>\n",
       "      <td>42</td>\n",
       "      <td>42.000000</td>\n",
       "      <td>181</td>\n",
       "      <td>181</td>\n",
       "      <td>1.376543e+06</td>\n",
       "      <td>...</td>\n",
       "      <td>-1</td>\n",
       "      <td>-1</td>\n",
       "      <td>1</td>\n",
       "      <td>20</td>\n",
       "      <td>0.0</td>\n",
       "      <td>0.0</td>\n",
       "      <td>0</td>\n",
       "      <td>0</td>\n",
       "      <td>0.0</td>\n",
       "      <td>BENIGN</td>\n",
       "    </tr>\n",
       "    <tr>\n",
       "      <th>2520748</th>\n",
       "      <td>58030</td>\n",
       "      <td>82</td>\n",
       "      <td>2</td>\n",
       "      <td>31</td>\n",
       "      <td>31</td>\n",
       "      <td>0</td>\n",
       "      <td>15.500000</td>\n",
       "      <td>6</td>\n",
       "      <td>6</td>\n",
       "      <td>4.512195e+05</td>\n",
       "      <td>...</td>\n",
       "      <td>1006</td>\n",
       "      <td>0</td>\n",
       "      <td>0</td>\n",
       "      <td>32</td>\n",
       "      <td>0.0</td>\n",
       "      <td>0.0</td>\n",
       "      <td>0</td>\n",
       "      <td>0</td>\n",
       "      <td>0.0</td>\n",
       "      <td>BENIGN</td>\n",
       "    </tr>\n",
       "    <tr>\n",
       "      <th>2520749</th>\n",
       "      <td>53</td>\n",
       "      <td>1048635</td>\n",
       "      <td>6</td>\n",
       "      <td>192</td>\n",
       "      <td>32</td>\n",
       "      <td>32</td>\n",
       "      <td>32.000000</td>\n",
       "      <td>128</td>\n",
       "      <td>128</td>\n",
       "      <td>4.272221e+02</td>\n",
       "      <td>...</td>\n",
       "      <td>-1</td>\n",
       "      <td>-1</td>\n",
       "      <td>5</td>\n",
       "      <td>20</td>\n",
       "      <td>0.0</td>\n",
       "      <td>0.0</td>\n",
       "      <td>0</td>\n",
       "      <td>0</td>\n",
       "      <td>0.0</td>\n",
       "      <td>BENIGN</td>\n",
       "    </tr>\n",
       "    <tr>\n",
       "      <th>2520750</th>\n",
       "      <td>53</td>\n",
       "      <td>94939</td>\n",
       "      <td>4</td>\n",
       "      <td>188</td>\n",
       "      <td>47</td>\n",
       "      <td>47</td>\n",
       "      <td>47.000000</td>\n",
       "      <td>113</td>\n",
       "      <td>113</td>\n",
       "      <td>4.360695e+03</td>\n",
       "      <td>...</td>\n",
       "      <td>-1</td>\n",
       "      <td>-1</td>\n",
       "      <td>3</td>\n",
       "      <td>20</td>\n",
       "      <td>0.0</td>\n",
       "      <td>0.0</td>\n",
       "      <td>0</td>\n",
       "      <td>0</td>\n",
       "      <td>0.0</td>\n",
       "      <td>BENIGN</td>\n",
       "    </tr>\n",
       "  </tbody>\n",
       "</table>\n",
       "<p>2520751 rows × 48 columns</p>\n",
       "</div>"
      ],
      "text/plain": [
       "         Destination Port  Flow Duration  Total Fwd Packets  \\\n",
       "0                      22        1266342                 41   \n",
       "1                      22        1319353                 41   \n",
       "2                      22            160                  1   \n",
       "3                      22        1303488                 41   \n",
       "4                   35396             77                  1   \n",
       "...                   ...            ...                ...   \n",
       "2520746                53          32215                  4   \n",
       "2520747                53            324                  2   \n",
       "2520748             58030             82                  2   \n",
       "2520749                53        1048635                  6   \n",
       "2520750                53          94939                  4   \n",
       "\n",
       "         Total Length of Fwd Packets  Fwd Packet Length Max  \\\n",
       "0                               2664                    456   \n",
       "1                               2664                    456   \n",
       "2                                  0                      0   \n",
       "3                               2728                    456   \n",
       "4                                  0                      0   \n",
       "...                              ...                    ...   \n",
       "2520746                          112                     28   \n",
       "2520747                           84                     42   \n",
       "2520748                           31                     31   \n",
       "2520749                          192                     32   \n",
       "2520750                          188                     47   \n",
       "\n",
       "         Fwd Packet Length Min  Fwd Packet Length Mean  Bwd Packet Length Max  \\\n",
       "0                            0               64.975610                    976   \n",
       "1                            0               64.975610                    976   \n",
       "2                            0                0.000000                      0   \n",
       "3                            0               66.536585                    976   \n",
       "4                            0                0.000000                      0   \n",
       "...                        ...                     ...                    ...   \n",
       "2520746                     28               28.000000                     76   \n",
       "2520747                     42               42.000000                    181   \n",
       "2520748                      0               15.500000                      6   \n",
       "2520749                     32               32.000000                    128   \n",
       "2520750                     47               47.000000                    113   \n",
       "\n",
       "         Bwd Packet Length Min  Flow Bytes/s  ...  Init_Win_bytes_forward  \\\n",
       "0                            0  7.595105e+03  ...                   29200   \n",
       "1                            0  7.289937e+03  ...                   29200   \n",
       "2                            0  0.000000e+00  ...                     290   \n",
       "3                            0  7.182268e+03  ...                   29200   \n",
       "4                            0  0.000000e+00  ...                     243   \n",
       "...                        ...           ...  ...                     ...   \n",
       "2520746                     76  8.194940e+03  ...                      -1   \n",
       "2520747                    181  1.376543e+06  ...                      -1   \n",
       "2520748                      6  4.512195e+05  ...                    1006   \n",
       "2520749                    128  4.272221e+02  ...                      -1   \n",
       "2520750                    113  4.360695e+03  ...                      -1   \n",
       "\n",
       "         Init_Win_bytes_backward  act_data_pkt_fwd  min_seg_size_forward  \\\n",
       "0                            243                24                    32   \n",
       "1                            243                24                    32   \n",
       "2                            243                 0                    32   \n",
       "3                            243                24                    32   \n",
       "4                            290                 0                    32   \n",
       "...                          ...               ...                   ...   \n",
       "2520746                       -1                 3                    20   \n",
       "2520747                       -1                 1                    20   \n",
       "2520748                        0                 0                    32   \n",
       "2520749                       -1                 5                    20   \n",
       "2520750                       -1                 3                    20   \n",
       "\n",
       "         Active Mean  Active Std  Active Max  Active Min  Idle Std  \\\n",
       "0                0.0         0.0           0           0       0.0   \n",
       "1                0.0         0.0           0           0       0.0   \n",
       "2                0.0         0.0           0           0       0.0   \n",
       "3                0.0         0.0           0           0       0.0   \n",
       "4                0.0         0.0           0           0       0.0   \n",
       "...              ...         ...         ...         ...       ...   \n",
       "2520746          0.0         0.0           0           0       0.0   \n",
       "2520747          0.0         0.0           0           0       0.0   \n",
       "2520748          0.0         0.0           0           0       0.0   \n",
       "2520749          0.0         0.0           0           0       0.0   \n",
       "2520750          0.0         0.0           0           0       0.0   \n",
       "\n",
       "         Attack_Type  \n",
       "0             BENIGN  \n",
       "1             BENIGN  \n",
       "2             BENIGN  \n",
       "3             BENIGN  \n",
       "4             BENIGN  \n",
       "...              ...  \n",
       "2520746       BENIGN  \n",
       "2520747       BENIGN  \n",
       "2520748       BENIGN  \n",
       "2520749       BENIGN  \n",
       "2520750       BENIGN  \n",
       "\n",
       "[2520751 rows x 48 columns]"
      ]
     },
     "execution_count": 2,
     "metadata": {},
     "output_type": "execute_result"
    }
   ],
   "source": [
    "data = pd.read_csv(\"/kaggle/input/cleaned-data-2/cleaned_data2.csv\")\n",
    "data"
   ]
  },
  {
   "cell_type": "code",
   "execution_count": 3,
   "id": "899f786a",
   "metadata": {
    "execution": {
     "iopub.execute_input": "2025-05-13T14:55:22.737047Z",
     "iopub.status.busy": "2025-05-13T14:55:22.736115Z",
     "iopub.status.idle": "2025-05-13T14:55:27.467010Z",
     "shell.execute_reply": "2025-05-13T14:55:27.465936Z"
    },
    "papermill": {
     "duration": 4.738165,
     "end_time": "2025-05-13T14:55:27.468837",
     "exception": false,
     "start_time": "2025-05-13T14:55:22.730672",
     "status": "completed"
    },
    "tags": []
   },
   "outputs": [],
   "source": [
    "from sklearn.model_selection import train_test_split\n",
    "from sklearn.preprocessing import LabelEncoder\n",
    "\n",
    "# Separate features and target\n",
    "X = data.drop(columns=['Attack_Type'])\n",
    "y = data['Attack_Type']\n",
    "\n",
    "# Encode target labels (required for XGBoost multi-class)\n",
    "le = LabelEncoder()\n",
    "y_encoded = le.fit_transform(y)\n",
    "\n",
    "# Train-test split (stratify to maintain class balance)\n",
    "X_train, X_test, y_train, y_test = train_test_split(\n",
    "    X, y_encoded, test_size=0.3, random_state=42, stratify=y_encoded\n",
    ")\n"
   ]
  },
  {
   "cell_type": "code",
   "execution_count": 4,
   "id": "4948a720",
   "metadata": {
    "execution": {
     "iopub.execute_input": "2025-05-13T14:55:27.480879Z",
     "iopub.status.busy": "2025-05-13T14:55:27.480328Z",
     "iopub.status.idle": "2025-05-13T14:55:27.733563Z",
     "shell.execute_reply": "2025-05-13T14:55:27.732803Z"
    },
    "papermill": {
     "duration": 0.260575,
     "end_time": "2025-05-13T14:55:27.735178",
     "exception": false,
     "start_time": "2025-05-13T14:55:27.474603",
     "status": "completed"
    },
    "tags": []
   },
   "outputs": [],
   "source": [
    "from sklearn.pipeline import Pipeline\n",
    "from sklearn.preprocessing import RobustScaler\n",
    "from xgboost import XGBClassifier\n",
    "\n",
    "# Build the pipeline\n",
    "pipeline = Pipeline([\n",
    "    ('scaler', RobustScaler()),\n",
    "    ('xgb', XGBClassifier(\n",
    "        objective='multi:softmax',\n",
    "        eval_metric='mlogloss',\n",
    "        n_estimators=150,\n",
    "        max_depth=6,\n",
    "        learning_rate=0.1,\n",
    "        use_label_encoder=False,\n",
    "        n_jobs=-1,\n",
    "        random_state=42\n",
    "    ))\n",
    "])\n"
   ]
  },
  {
   "cell_type": "code",
   "execution_count": 5,
   "id": "2c88343e",
   "metadata": {
    "execution": {
     "iopub.execute_input": "2025-05-13T14:55:27.746185Z",
     "iopub.status.busy": "2025-05-13T14:55:27.745908Z",
     "iopub.status.idle": "2025-05-13T14:57:51.739924Z",
     "shell.execute_reply": "2025-05-13T14:57:51.739117Z"
    },
    "papermill": {
     "duration": 144.006407,
     "end_time": "2025-05-13T14:57:51.746580",
     "exception": false,
     "start_time": "2025-05-13T14:55:27.740173",
     "status": "completed"
    },
    "tags": []
   },
   "outputs": [
    {
     "data": {
      "text/html": [
       "<style>#sk-container-id-1 {color: black;background-color: white;}#sk-container-id-1 pre{padding: 0;}#sk-container-id-1 div.sk-toggleable {background-color: white;}#sk-container-id-1 label.sk-toggleable__label {cursor: pointer;display: block;width: 100%;margin-bottom: 0;padding: 0.3em;box-sizing: border-box;text-align: center;}#sk-container-id-1 label.sk-toggleable__label-arrow:before {content: \"▸\";float: left;margin-right: 0.25em;color: #696969;}#sk-container-id-1 label.sk-toggleable__label-arrow:hover:before {color: black;}#sk-container-id-1 div.sk-estimator:hover label.sk-toggleable__label-arrow:before {color: black;}#sk-container-id-1 div.sk-toggleable__content {max-height: 0;max-width: 0;overflow: hidden;text-align: left;background-color: #f0f8ff;}#sk-container-id-1 div.sk-toggleable__content pre {margin: 0.2em;color: black;border-radius: 0.25em;background-color: #f0f8ff;}#sk-container-id-1 input.sk-toggleable__control:checked~div.sk-toggleable__content {max-height: 200px;max-width: 100%;overflow: auto;}#sk-container-id-1 input.sk-toggleable__control:checked~label.sk-toggleable__label-arrow:before {content: \"▾\";}#sk-container-id-1 div.sk-estimator input.sk-toggleable__control:checked~label.sk-toggleable__label {background-color: #d4ebff;}#sk-container-id-1 div.sk-label input.sk-toggleable__control:checked~label.sk-toggleable__label {background-color: #d4ebff;}#sk-container-id-1 input.sk-hidden--visually {border: 0;clip: rect(1px 1px 1px 1px);clip: rect(1px, 1px, 1px, 1px);height: 1px;margin: -1px;overflow: hidden;padding: 0;position: absolute;width: 1px;}#sk-container-id-1 div.sk-estimator {font-family: monospace;background-color: #f0f8ff;border: 1px dotted black;border-radius: 0.25em;box-sizing: border-box;margin-bottom: 0.5em;}#sk-container-id-1 div.sk-estimator:hover {background-color: #d4ebff;}#sk-container-id-1 div.sk-parallel-item::after {content: \"\";width: 100%;border-bottom: 1px solid gray;flex-grow: 1;}#sk-container-id-1 div.sk-label:hover label.sk-toggleable__label {background-color: #d4ebff;}#sk-container-id-1 div.sk-serial::before {content: \"\";position: absolute;border-left: 1px solid gray;box-sizing: border-box;top: 0;bottom: 0;left: 50%;z-index: 0;}#sk-container-id-1 div.sk-serial {display: flex;flex-direction: column;align-items: center;background-color: white;padding-right: 0.2em;padding-left: 0.2em;position: relative;}#sk-container-id-1 div.sk-item {position: relative;z-index: 1;}#sk-container-id-1 div.sk-parallel {display: flex;align-items: stretch;justify-content: center;background-color: white;position: relative;}#sk-container-id-1 div.sk-item::before, #sk-container-id-1 div.sk-parallel-item::before {content: \"\";position: absolute;border-left: 1px solid gray;box-sizing: border-box;top: 0;bottom: 0;left: 50%;z-index: -1;}#sk-container-id-1 div.sk-parallel-item {display: flex;flex-direction: column;z-index: 1;position: relative;background-color: white;}#sk-container-id-1 div.sk-parallel-item:first-child::after {align-self: flex-end;width: 50%;}#sk-container-id-1 div.sk-parallel-item:last-child::after {align-self: flex-start;width: 50%;}#sk-container-id-1 div.sk-parallel-item:only-child::after {width: 0;}#sk-container-id-1 div.sk-dashed-wrapped {border: 1px dashed gray;margin: 0 0.4em 0.5em 0.4em;box-sizing: border-box;padding-bottom: 0.4em;background-color: white;}#sk-container-id-1 div.sk-label label {font-family: monospace;font-weight: bold;display: inline-block;line-height: 1.2em;}#sk-container-id-1 div.sk-label-container {text-align: center;}#sk-container-id-1 div.sk-container {/* jupyter's `normalize.less` sets `[hidden] { display: none; }` but bootstrap.min.css set `[hidden] { display: none !important; }` so we also need the `!important` here to be able to override the default hidden behavior on the sphinx rendered scikit-learn.org. See: https://github.com/scikit-learn/scikit-learn/issues/21755 */display: inline-block !important;position: relative;}#sk-container-id-1 div.sk-text-repr-fallback {display: none;}</style><div id=\"sk-container-id-1\" class=\"sk-top-container\"><div class=\"sk-text-repr-fallback\"><pre>Pipeline(steps=[(&#x27;scaler&#x27;, RobustScaler()),\n",
       "                (&#x27;xgb&#x27;,\n",
       "                 XGBClassifier(base_score=None, booster=None, callbacks=None,\n",
       "                               colsample_bylevel=None, colsample_bynode=None,\n",
       "                               colsample_bytree=None, device=None,\n",
       "                               early_stopping_rounds=None,\n",
       "                               enable_categorical=False, eval_metric=&#x27;mlogloss&#x27;,\n",
       "                               feature_types=None, gamma=None, grow_policy=None,\n",
       "                               importance_type=None,\n",
       "                               interaction_constraints=None, learning_rate=0.1,\n",
       "                               max_bin=None, max_cat_threshold=None,\n",
       "                               max_cat_to_onehot=None, max_delta_step=None,\n",
       "                               max_depth=6, max_leaves=None,\n",
       "                               min_child_weight=None, missing=nan,\n",
       "                               monotone_constraints=None, multi_strategy=None,\n",
       "                               n_estimators=150, n_jobs=-1,\n",
       "                               num_parallel_tree=None,\n",
       "                               objective=&#x27;multi:softmax&#x27;, ...))])</pre><b>In a Jupyter environment, please rerun this cell to show the HTML representation or trust the notebook. <br />On GitHub, the HTML representation is unable to render, please try loading this page with nbviewer.org.</b></div><div class=\"sk-container\" hidden><div class=\"sk-item sk-dashed-wrapped\"><div class=\"sk-label-container\"><div class=\"sk-label sk-toggleable\"><input class=\"sk-toggleable__control sk-hidden--visually\" id=\"sk-estimator-id-1\" type=\"checkbox\" ><label for=\"sk-estimator-id-1\" class=\"sk-toggleable__label sk-toggleable__label-arrow\">Pipeline</label><div class=\"sk-toggleable__content\"><pre>Pipeline(steps=[(&#x27;scaler&#x27;, RobustScaler()),\n",
       "                (&#x27;xgb&#x27;,\n",
       "                 XGBClassifier(base_score=None, booster=None, callbacks=None,\n",
       "                               colsample_bylevel=None, colsample_bynode=None,\n",
       "                               colsample_bytree=None, device=None,\n",
       "                               early_stopping_rounds=None,\n",
       "                               enable_categorical=False, eval_metric=&#x27;mlogloss&#x27;,\n",
       "                               feature_types=None, gamma=None, grow_policy=None,\n",
       "                               importance_type=None,\n",
       "                               interaction_constraints=None, learning_rate=0.1,\n",
       "                               max_bin=None, max_cat_threshold=None,\n",
       "                               max_cat_to_onehot=None, max_delta_step=None,\n",
       "                               max_depth=6, max_leaves=None,\n",
       "                               min_child_weight=None, missing=nan,\n",
       "                               monotone_constraints=None, multi_strategy=None,\n",
       "                               n_estimators=150, n_jobs=-1,\n",
       "                               num_parallel_tree=None,\n",
       "                               objective=&#x27;multi:softmax&#x27;, ...))])</pre></div></div></div><div class=\"sk-serial\"><div class=\"sk-item\"><div class=\"sk-estimator sk-toggleable\"><input class=\"sk-toggleable__control sk-hidden--visually\" id=\"sk-estimator-id-2\" type=\"checkbox\" ><label for=\"sk-estimator-id-2\" class=\"sk-toggleable__label sk-toggleable__label-arrow\">RobustScaler</label><div class=\"sk-toggleable__content\"><pre>RobustScaler()</pre></div></div></div><div class=\"sk-item\"><div class=\"sk-estimator sk-toggleable\"><input class=\"sk-toggleable__control sk-hidden--visually\" id=\"sk-estimator-id-3\" type=\"checkbox\" ><label for=\"sk-estimator-id-3\" class=\"sk-toggleable__label sk-toggleable__label-arrow\">XGBClassifier</label><div class=\"sk-toggleable__content\"><pre>XGBClassifier(base_score=None, booster=None, callbacks=None,\n",
       "              colsample_bylevel=None, colsample_bynode=None,\n",
       "              colsample_bytree=None, device=None, early_stopping_rounds=None,\n",
       "              enable_categorical=False, eval_metric=&#x27;mlogloss&#x27;,\n",
       "              feature_types=None, gamma=None, grow_policy=None,\n",
       "              importance_type=None, interaction_constraints=None,\n",
       "              learning_rate=0.1, max_bin=None, max_cat_threshold=None,\n",
       "              max_cat_to_onehot=None, max_delta_step=None, max_depth=6,\n",
       "              max_leaves=None, min_child_weight=None, missing=nan,\n",
       "              monotone_constraints=None, multi_strategy=None, n_estimators=150,\n",
       "              n_jobs=-1, num_parallel_tree=None, objective=&#x27;multi:softmax&#x27;, ...)</pre></div></div></div></div></div></div></div>"
      ],
      "text/plain": [
       "Pipeline(steps=[('scaler', RobustScaler()),\n",
       "                ('xgb',\n",
       "                 XGBClassifier(base_score=None, booster=None, callbacks=None,\n",
       "                               colsample_bylevel=None, colsample_bynode=None,\n",
       "                               colsample_bytree=None, device=None,\n",
       "                               early_stopping_rounds=None,\n",
       "                               enable_categorical=False, eval_metric='mlogloss',\n",
       "                               feature_types=None, gamma=None, grow_policy=None,\n",
       "                               importance_type=None,\n",
       "                               interaction_constraints=None, learning_rate=0.1,\n",
       "                               max_bin=None, max_cat_threshold=None,\n",
       "                               max_cat_to_onehot=None, max_delta_step=None,\n",
       "                               max_depth=6, max_leaves=None,\n",
       "                               min_child_weight=None, missing=nan,\n",
       "                               monotone_constraints=None, multi_strategy=None,\n",
       "                               n_estimators=150, n_jobs=-1,\n",
       "                               num_parallel_tree=None,\n",
       "                               objective='multi:softmax', ...))])"
      ]
     },
     "execution_count": 5,
     "metadata": {},
     "output_type": "execute_result"
    }
   ],
   "source": [
    "pipeline.fit(X_train, y_train)\n"
   ]
  },
  {
   "cell_type": "code",
   "execution_count": 6,
   "id": "b9c75332",
   "metadata": {
    "execution": {
     "iopub.execute_input": "2025-05-13T14:57:51.757177Z",
     "iopub.status.busy": "2025-05-13T14:57:51.756880Z",
     "iopub.status.idle": "2025-05-13T14:57:51.784546Z",
     "shell.execute_reply": "2025-05-13T14:57:51.783822Z"
    },
    "papermill": {
     "duration": 0.036419,
     "end_time": "2025-05-13T14:57:51.787752",
     "exception": false,
     "start_time": "2025-05-13T14:57:51.751333",
     "status": "completed"
    },
    "tags": []
   },
   "outputs": [
    {
     "data": {
      "text/plain": [
       "['xgb_pipeline1.pkl']"
      ]
     },
     "execution_count": 6,
     "metadata": {},
     "output_type": "execute_result"
    }
   ],
   "source": [
    "import joblib\n",
    "joblib.dump(pipeline, 'xgb_pipeline1.pkl')"
   ]
  },
  {
   "cell_type": "code",
   "execution_count": 7,
   "id": "fcf50811",
   "metadata": {
    "execution": {
     "iopub.execute_input": "2025-05-13T14:57:51.805595Z",
     "iopub.status.busy": "2025-05-13T14:57:51.804601Z",
     "iopub.status.idle": "2025-05-13T14:57:58.866937Z",
     "shell.execute_reply": "2025-05-13T14:57:58.865861Z"
    },
    "papermill": {
     "duration": 7.070379,
     "end_time": "2025-05-13T14:57:58.868457",
     "exception": false,
     "start_time": "2025-05-13T14:57:51.798078",
     "status": "completed"
    },
    "tags": []
   },
   "outputs": [
    {
     "name": "stdout",
     "output_type": "stream",
     "text": [
      "              precision    recall  f1-score   support\n",
      "\n",
      "      BENIGN       1.00      1.00      1.00    628518\n",
      "         Bot       0.96      0.72      0.82       584\n",
      " Brute Force       1.00      1.00      1.00      2745\n",
      "        DDoS       1.00      1.00      1.00     38404\n",
      "         DoS       1.00      1.00      1.00     58124\n",
      "    PortScan       0.99      1.00      0.99     27208\n",
      "  Web Attack       0.98      0.99      0.99       643\n",
      "\n",
      "    accuracy                           1.00    756226\n",
      "   macro avg       0.99      0.96      0.97    756226\n",
      "weighted avg       1.00      1.00      1.00    756226\n",
      "\n"
     ]
    }
   ],
   "source": [
    "from sklearn.metrics import classification_report, confusion_matrix\n",
    "\n",
    "# Make predictions\n",
    "y_pred = pipeline.predict(X_test)\n",
    "\n",
    "# Print classification report\n",
    "print(classification_report(y_test, y_pred, target_names=le.classes_))\n",
    "\n",
    "# Examine precision, recall, and f1-score for each class\n",
    "# Useful for imbalanced data\n",
    "# High precision = fewer false positives\n",
    "# High recall = fewer false negatives\n",
    "\n",
    "# Look for classes with low recall → model missing them\n",
    "# Look for classes with low precision → model confusing them with others\n"
   ]
  },
  {
   "cell_type": "code",
   "execution_count": 8,
   "id": "760560a0",
   "metadata": {
    "execution": {
     "iopub.execute_input": "2025-05-13T14:57:58.879350Z",
     "iopub.status.busy": "2025-05-13T14:57:58.879049Z",
     "iopub.status.idle": "2025-05-13T14:57:59.966275Z",
     "shell.execute_reply": "2025-05-13T14:57:59.965304Z"
    },
    "papermill": {
     "duration": 1.094972,
     "end_time": "2025-05-13T14:57:59.968254",
     "exception": false,
     "start_time": "2025-05-13T14:57:58.873282",
     "status": "completed"
    },
    "tags": []
   },
   "outputs": [
    {
     "data": {
      "image/png": "[encoded data removed]",
      "text/plain": [
       "<Figure size 1000x800 with 2 Axes>"
      ]
     },
     "metadata": {},
     "output_type": "display_data"
    }
   ],
   "source": [
    "import seaborn as sns\n",
    "import matplotlib.pyplot as plt\n",
    "import numpy as np\n",
    "\n",
    "cm = confusion_matrix(y_test, y_pred)\n",
    "plt.figure(figsize=(10, 8))\n",
    "sns.heatmap(cm, annot=True, fmt='d', xticklabels=le.classes_, yticklabels=le.classes_, cmap='Blues')\n",
    "plt.xlabel('Predicted')\n",
    "plt.ylabel('Actual')\n",
    "plt.title('Confusion Matrix')\n",
    "plt.show()\n",
    "\n",
    "# Helps visualize which classes are most confused\n",
    "# Focus on off-diagonal values — that’s where misclassifications happen\n"
   ]
  },
  {
   "cell_type": "code",
   "execution_count": 9,
   "id": "e4e4557c",
   "metadata": {
    "execution": {
     "iopub.execute_input": "2025-05-13T14:57:59.981703Z",
     "iopub.status.busy": "2025-05-13T14:57:59.981146Z",
     "iopub.status.idle": "2025-05-13T14:58:00.365296Z",
     "shell.execute_reply": "2025-05-13T14:58:00.364256Z"
    },
    "papermill": {
     "duration": 0.39247,
     "end_time": "2025-05-13T14:58:00.366873",
     "exception": false,
     "start_time": "2025-05-13T14:57:59.974403",
     "status": "completed"
    },
    "tags": []
   },
   "outputs": [
    {
     "data": {
      "image/png": "[encoded data removed]",
      "text/plain": [
       "<Figure size 640x480 with 1 Axes>"
      ]
     },
     "metadata": {},
     "output_type": "display_data"
    }
   ],
   "source": [
    "import pandas as pd\n",
    "\n",
    "# See how imbalanced the classes are\n",
    "pd.Series(le.inverse_transform(y_train)).value_counts().plot(kind='bar', title='Training Set Class Distribution')\n",
    "plt.xlabel('Class')\n",
    "plt.ylabel('Count')\n",
    "plt.show()\n",
    "\n",
    "# Compare this to classification report: classes with fewer samples usually have lower recall\n"
   ]
  },
  {
   "cell_type": "markdown",
   "id": "40ace71c",
   "metadata": {
    "papermill": {
     "duration": 0.005859,
     "end_time": "2025-05-13T14:58:00.379186",
     "exception": false,
     "start_time": "2025-05-13T14:58:00.373327",
     "status": "completed"
    },
    "tags": []
   },
   "source": [
    "The imbalance is too great. It might be the cause of bad results on the \"web attack\" class. We will try downsampling of the benign class."
   ]
  },
  {
   "cell_type": "code",
   "execution_count": 10,
   "id": "a85e09de",
   "metadata": {
    "execution": {
     "iopub.execute_input": "2025-05-13T14:58:00.392727Z",
     "iopub.status.busy": "2025-05-13T14:58:00.392358Z",
     "iopub.status.idle": "2025-05-13T14:58:02.209122Z",
     "shell.execute_reply": "2025-05-13T14:58:02.207821Z"
    },
    "papermill": {
     "duration": 1.825528,
     "end_time": "2025-05-13T14:58:02.210746",
     "exception": false,
     "start_time": "2025-05-13T14:58:00.385218",
     "status": "completed"
    },
    "tags": []
   },
   "outputs": [
    {
     "name": "stdout",
     "output_type": "stream",
     "text": [
      "\"BENIGN\" was encoded to: 0\n",
      "Original dataset size: 1764525\n",
      "Original BENIGN count: 1466539\n",
      "Original non-BENIGN count: 297986\n",
      "Separated BENIGN count: 1466539\n",
      "Separated non-BENIGN count: 297986\n",
      "Downsampling BENIGN class to 439961 samples (30% of original)\n",
      "\n",
      "Final verification:\n",
      "Downsampled dataset size: 737947\n",
      "Downsampled BENIGN count: 439961\n",
      "Downsampled non-BENIGN count: 297986\n"
     ]
    }
   ],
   "source": [
    "from sklearn.utils import resample, shuffle\n",
    "import numpy as np\n",
    "import pandas as pd\n",
    "\n",
    "# Get the encoded value for \"BENIGN\"\n",
    "benign_label = le.transform([\"BENIGN\"])[0]\n",
    "print(f'\"BENIGN\" was encoded to: {benign_label}')\n",
    "\n",
    "# Print original data sizes\n",
    "print(\"Original dataset size:\", len(X_train))\n",
    "print(\"Original BENIGN count:\", sum(y_train == benign_label))\n",
    "print(\"Original non-BENIGN count:\", sum(y_train != benign_label))\n",
    "\n",
    "# Separate BENIGN and non-BENIGN samples\n",
    "benign_indices = np.where(y_train == benign_label)[0]\n",
    "non_benign_indices = np.where(y_train != benign_label)[0]\n",
    "\n",
    "benign_train = X_train.iloc[benign_indices]\n",
    "benign_labels = y_train[benign_indices]\n",
    "non_benign_train = X_train.iloc[non_benign_indices]\n",
    "non_benign_labels = y_train[non_benign_indices]\n",
    "\n",
    "print(\"Separated BENIGN count:\", len(benign_train))\n",
    "print(\"Separated non-BENIGN count:\", len(non_benign_train))\n",
    "\n",
    "# Downsample BENIGN class (keep 30%)\n",
    "n_samples = int(len(benign_train) * 0.3)\n",
    "print(f\"Downsampling BENIGN class to {n_samples} samples (30% of original)\")\n",
    "\n",
    "benign_train_downsampled, benign_labels_downsampled = resample(\n",
    "    benign_train,\n",
    "    benign_labels,\n",
    "    replace=False,\n",
    "    n_samples=n_samples,\n",
    "    random_state=42\n",
    ")\n",
    "\n",
    "# Combine downsampled BENIGN with other classes\n",
    "X_train_downsampled = pd.concat([benign_train_downsampled, non_benign_train])\n",
    "y_train_downsampled = np.concatenate([benign_labels_downsampled, non_benign_labels])\n",
    "\n",
    "# Shuffle the new training set\n",
    "X_train_downsampled, y_train_downsampled = shuffle(X_train_downsampled, y_train_downsampled, random_state=42)\n",
    "\n",
    "# Final verification\n",
    "print(\"\\nFinal verification:\")\n",
    "print(\"Downsampled dataset size:\", len(X_train_downsampled))\n",
    "print(\"Downsampled BENIGN count:\", sum(y_train_downsampled == benign_label))\n",
    "print(\"Downsampled non-BENIGN count:\", sum(y_train_downsampled != benign_label))\n"
   ]
  },
  {
   "cell_type": "code",
   "execution_count": 11,
   "id": "106fff59",
   "metadata": {
    "execution": {
     "iopub.execute_input": "2025-05-13T14:58:02.225614Z",
     "iopub.status.busy": "2025-05-13T14:58:02.225261Z",
     "iopub.status.idle": "2025-05-13T14:58:02.230815Z",
     "shell.execute_reply": "2025-05-13T14:58:02.229640Z"
    },
    "papermill": {
     "duration": 0.014901,
     "end_time": "2025-05-13T14:58:02.232330",
     "exception": false,
     "start_time": "2025-05-13T14:58:02.217429",
     "status": "completed"
    },
    "tags": []
   },
   "outputs": [],
   "source": [
    "from sklearn.pipeline import Pipeline\n",
    "from sklearn.preprocessing import RobustScaler\n",
    "from xgboost import XGBClassifier\n",
    "\n",
    "# Build the pipeline\n",
    "pipeline = Pipeline([\n",
    "    ('scaler', RobustScaler()),\n",
    "    ('xgb', XGBClassifier(\n",
    "        objective='multi:softmax',\n",
    "        eval_metric='mlogloss',\n",
    "        n_estimators=150,\n",
    "        max_depth=6,\n",
    "        learning_rate=0.1,\n",
    "        use_label_encoder=False,\n",
    "        n_jobs=-1,\n",
    "        random_state=42\n",
    "    ))\n",
    "])\n"
   ]
  },
  {
   "cell_type": "code",
   "execution_count": 12,
   "id": "37e0d6a5",
   "metadata": {
    "execution": {
     "iopub.execute_input": "2025-05-13T14:58:02.247958Z",
     "iopub.status.busy": "2025-05-13T14:58:02.247639Z",
     "iopub.status.idle": "2025-05-13T14:59:04.626167Z",
     "shell.execute_reply": "2025-05-13T14:59:04.625314Z"
    },
    "papermill": {
     "duration": 62.394611,
     "end_time": "2025-05-13T14:59:04.634199",
     "exception": false,
     "start_time": "2025-05-13T14:58:02.239588",
     "status": "completed"
    },
    "tags": []
   },
   "outputs": [
    {
     "data": {
      "text/html": [
       "<style>#sk-container-id-2 {color: black;background-color: white;}#sk-container-id-2 pre{padding: 0;}#sk-container-id-2 div.sk-toggleable {background-color: white;}#sk-container-id-2 label.sk-toggleable__label {cursor: pointer;display: block;width: 100%;margin-bottom: 0;padding: 0.3em;box-sizing: border-box;text-align: center;}#sk-container-id-2 label.sk-toggleable__label-arrow:before {content: \"▸\";float: left;margin-right: 0.25em;color: #696969;}#sk-container-id-2 label.sk-toggleable__label-arrow:hover:before {color: black;}#sk-container-id-2 div.sk-estimator:hover label.sk-toggleable__label-arrow:before {color: black;}#sk-container-id-2 div.sk-toggleable__content {max-height: 0;max-width: 0;overflow: hidden;text-align: left;background-color: #f0f8ff;}#sk-container-id-2 div.sk-toggleable__content pre {margin: 0.2em;color: black;border-radius: 0.25em;background-color: #f0f8ff;}#sk-container-id-2 input.sk-toggleable__control:checked~div.sk-toggleable__content {max-height: 200px;max-width: 100%;overflow: auto;}#sk-container-id-2 input.sk-toggleable__control:checked~label.sk-toggleable__label-arrow:before {content: \"▾\";}#sk-container-id-2 div.sk-estimator input.sk-toggleable__control:checked~label.sk-toggleable__label {background-color: #d4ebff;}#sk-container-id-2 div.sk-label input.sk-toggleable__control:checked~label.sk-toggleable__label {background-color: #d4ebff;}#sk-container-id-2 input.sk-hidden--visually {border: 0;clip: rect(1px 1px 1px 1px);clip: rect(1px, 1px, 1px, 1px);height: 1px;margin: -1px;overflow: hidden;padding: 0;position: absolute;width: 1px;}#sk-container-id-2 div.sk-estimator {font-family: monospace;background-color: #f0f8ff;border: 1px dotted black;border-radius: 0.25em;box-sizing: border-box;margin-bottom: 0.5em;}#sk-container-id-2 div.sk-estimator:hover {background-color: #d4ebff;}#sk-container-id-2 div.sk-parallel-item::after {content: \"\";width: 100%;border-bottom: 1px solid gray;flex-grow: 1;}#sk-container-id-2 div.sk-label:hover label.sk-toggleable__label {background-color: #d4ebff;}#sk-container-id-2 div.sk-serial::before {content: \"\";position: absolute;border-left: 1px solid gray;box-sizing: border-box;top: 0;bottom: 0;left: 50%;z-index: 0;}#sk-container-id-2 div.sk-serial {display: flex;flex-direction: column;align-items: center;background-color: white;padding-right: 0.2em;padding-left: 0.2em;position: relative;}#sk-container-id-2 div.sk-item {position: relative;z-index: 1;}#sk-container-id-2 div.sk-parallel {display: flex;align-items: stretch;justify-content: center;background-color: white;position: relative;}#sk-container-id-2 div.sk-item::before, #sk-container-id-2 div.sk-parallel-item::before {content: \"\";position: absolute;border-left: 1px solid gray;box-sizing: border-box;top: 0;bottom: 0;left: 50%;z-index: -1;}#sk-container-id-2 div.sk-parallel-item {display: flex;flex-direction: column;z-index: 1;position: relative;background-color: white;}#sk-container-id-2 div.sk-parallel-item:first-child::after {align-self: flex-end;width: 50%;}#sk-container-id-2 div.sk-parallel-item:last-child::after {align-self: flex-start;width: 50%;}#sk-container-id-2 div.sk-parallel-item:only-child::after {width: 0;}#sk-container-id-2 div.sk-dashed-wrapped {border: 1px dashed gray;margin: 0 0.4em 0.5em 0.4em;box-sizing: border-box;padding-bottom: 0.4em;background-color: white;}#sk-container-id-2 div.sk-label label {font-family: monospace;font-weight: bold;display: inline-block;line-height: 1.2em;}#sk-container-id-2 div.sk-label-container {text-align: center;}#sk-container-id-2 div.sk-container {/* jupyter's `normalize.less` sets `[hidden] { display: none; }` but bootstrap.min.css set `[hidden] { display: none !important; }` so we also need the `!important` here to be able to override the default hidden behavior on the sphinx rendered scikit-learn.org. See: https://github.com/scikit-learn/scikit-learn/issues/21755 */display: inline-block !important;position: relative;}#sk-container-id-2 div.sk-text-repr-fallback {display: none;}</style><div id=\"sk-container-id-2\" class=\"sk-top-container\"><div class=\"sk-text-repr-fallback\"><pre>Pipeline(steps=[(&#x27;scaler&#x27;, RobustScaler()),\n",
       "                (&#x27;xgb&#x27;,\n",
       "                 XGBClassifier(base_score=None, booster=None, callbacks=None,\n",
       "                               colsample_bylevel=None, colsample_bynode=None,\n",
       "                               colsample_bytree=None, device=None,\n",
       "                               early_stopping_rounds=None,\n",
       "                               enable_categorical=False, eval_metric=&#x27;mlogloss&#x27;,\n",
       "                               feature_types=None, gamma=None, grow_policy=None,\n",
       "                               importance_type=None,\n",
       "                               interaction_constraints=None, learning_rate=0.1,\n",
       "                               max_bin=None, max_cat_threshold=None,\n",
       "                               max_cat_to_onehot=None, max_delta_step=None,\n",
       "                               max_depth=6, max_leaves=None,\n",
       "                               min_child_weight=None, missing=nan,\n",
       "                               monotone_constraints=None, multi_strategy=None,\n",
       "                               n_estimators=150, n_jobs=-1,\n",
       "                               num_parallel_tree=None,\n",
       "                               objective=&#x27;multi:softmax&#x27;, ...))])</pre><b>In a Jupyter environment, please rerun this cell to show the HTML representation or trust the notebook. <br />On GitHub, the HTML representation is unable to render, please try loading this page with nbviewer.org.</b></div><div class=\"sk-container\" hidden><div class=\"sk-item sk-dashed-wrapped\"><div class=\"sk-label-container\"><div class=\"sk-label sk-toggleable\"><input class=\"sk-toggleable__control sk-hidden--visually\" id=\"sk-estimator-id-4\" type=\"checkbox\" ><label for=\"sk-estimator-id-4\" class=\"sk-toggleable__label sk-toggleable__label-arrow\">Pipeline</label><div class=\"sk-toggleable__content\"><pre>Pipeline(steps=[(&#x27;scaler&#x27;, RobustScaler()),\n",
       "                (&#x27;xgb&#x27;,\n",
       "                 XGBClassifier(base_score=None, booster=None, callbacks=None,\n",
       "                               colsample_bylevel=None, colsample_bynode=None,\n",
       "                               colsample_bytree=None, device=None,\n",
       "                               early_stopping_rounds=None,\n",
       "                               enable_categorical=False, eval_metric=&#x27;mlogloss&#x27;,\n",
       "                               feature_types=None, gamma=None, grow_policy=None,\n",
       "                               importance_type=None,\n",
       "                               interaction_constraints=None, learning_rate=0.1,\n",
       "                               max_bin=None, max_cat_threshold=None,\n",
       "                               max_cat_to_onehot=None, max_delta_step=None,\n",
       "                               max_depth=6, max_leaves=None,\n",
       "                               min_child_weight=None, missing=nan,\n",
       "                               monotone_constraints=None, multi_strategy=None,\n",
       "                               n_estimators=150, n_jobs=-1,\n",
       "                               num_parallel_tree=None,\n",
       "                               objective=&#x27;multi:softmax&#x27;, ...))])</pre></div></div></div><div class=\"sk-serial\"><div class=\"sk-item\"><div class=\"sk-estimator sk-toggleable\"><input class=\"sk-toggleable__control sk-hidden--visually\" id=\"sk-estimator-id-5\" type=\"checkbox\" ><label for=\"sk-estimator-id-5\" class=\"sk-toggleable__label sk-toggleable__label-arrow\">RobustScaler</label><div class=\"sk-toggleable__content\"><pre>RobustScaler()</pre></div></div></div><div class=\"sk-item\"><div class=\"sk-estimator sk-toggleable\"><input class=\"sk-toggleable__control sk-hidden--visually\" id=\"sk-estimator-id-6\" type=\"checkbox\" ><label for=\"sk-estimator-id-6\" class=\"sk-toggleable__label sk-toggleable__label-arrow\">XGBClassifier</label><div class=\"sk-toggleable__content\"><pre>XGBClassifier(base_score=None, booster=None, callbacks=None,\n",
       "              colsample_bylevel=None, colsample_bynode=None,\n",
       "              colsample_bytree=None, device=None, early_stopping_rounds=None,\n",
       "              enable_categorical=False, eval_metric=&#x27;mlogloss&#x27;,\n",
       "              feature_types=None, gamma=None, grow_policy=None,\n",
       "              importance_type=None, interaction_constraints=None,\n",
       "              learning_rate=0.1, max_bin=None, max_cat_threshold=None,\n",
       "              max_cat_to_onehot=None, max_delta_step=None, max_depth=6,\n",
       "              max_leaves=None, min_child_weight=None, missing=nan,\n",
       "              monotone_constraints=None, multi_strategy=None, n_estimators=150,\n",
       "              n_jobs=-1, num_parallel_tree=None, objective=&#x27;multi:softmax&#x27;, ...)</pre></div></div></div></div></div></div></div>"
      ],
      "text/plain": [
       "Pipeline(steps=[('scaler', RobustScaler()),\n",
       "                ('xgb',\n",
       "                 XGBClassifier(base_score=None, booster=None, callbacks=None,\n",
       "                               colsample_bylevel=None, colsample_bynode=None,\n",
       "                               colsample_bytree=None, device=None,\n",
       "                               early_stopping_rounds=None,\n",
       "                               enable_categorical=False, eval_metric='mlogloss',\n",
       "                               feature_types=None, gamma=None, grow_policy=None,\n",
       "                               importance_type=None,\n",
       "                               interaction_constraints=None, learning_rate=0.1,\n",
       "                               max_bin=None, max_cat_threshold=None,\n",
       "                               max_cat_to_onehot=None, max_delta_step=None,\n",
       "                               max_depth=6, max_leaves=None,\n",
       "                               min_child_weight=None, missing=nan,\n",
       "                               monotone_constraints=None, multi_strategy=None,\n",
       "                               n_estimators=150, n_jobs=-1,\n",
       "                               num_parallel_tree=None,\n",
       "                               objective='multi:softmax', ...))])"
      ]
     },
     "execution_count": 12,
     "metadata": {},
     "output_type": "execute_result"
    }
   ],
   "source": [
    "pipeline.fit(X_train_downsampled, y_train_downsampled)"
   ]
  },
  {
   "cell_type": "code",
   "execution_count": 13,
   "id": "26afe6c1",
   "metadata": {
    "execution": {
     "iopub.execute_input": "2025-05-13T14:59:04.648929Z",
     "iopub.status.busy": "2025-05-13T14:59:04.648625Z",
     "iopub.status.idle": "2025-05-13T14:59:04.673283Z",
     "shell.execute_reply": "2025-05-13T14:59:04.672582Z"
    },
    "papermill": {
     "duration": 0.033859,
     "end_time": "2025-05-13T14:59:04.674812",
     "exception": false,
     "start_time": "2025-05-13T14:59:04.640953",
     "status": "completed"
    },
    "tags": []
   },
   "outputs": [
    {
     "data": {
      "text/plain": [
       "['xgb_pipeline2.pkl']"
      ]
     },
     "execution_count": 13,
     "metadata": {},
     "output_type": "execute_result"
    }
   ],
   "source": [
    "import joblib\n",
    "joblib.dump(pipeline, 'xgb_pipeline2.pkl')"
   ]
  },
  {
   "cell_type": "markdown",
   "id": "ad60d596",
   "metadata": {
    "papermill": {
     "duration": 0.006706,
     "end_time": "2025-05-13T14:59:04.688499",
     "exception": false,
     "start_time": "2025-05-13T14:59:04.681793",
     "status": "completed"
    },
    "tags": []
   },
   "source": []
  },
  {
   "cell_type": "code",
   "execution_count": 14,
   "id": "d569bfab",
   "metadata": {
    "execution": {
     "iopub.execute_input": "2025-05-13T14:59:04.703197Z",
     "iopub.status.busy": "2025-05-13T14:59:04.702891Z",
     "iopub.status.idle": "2025-05-13T14:59:12.172633Z",
     "shell.execute_reply": "2025-05-13T14:59:12.171544Z"
    },
    "papermill": {
     "duration": 7.478753,
     "end_time": "2025-05-13T14:59:12.174147",
     "exception": false,
     "start_time": "2025-05-13T14:59:04.695394",
     "status": "completed"
    },
    "tags": []
   },
   "outputs": [
    {
     "name": "stdout",
     "output_type": "stream",
     "text": [
      "              precision    recall  f1-score   support\n",
      "\n",
      "      BENIGN       1.00      1.00      1.00    628518\n",
      "         Bot       0.66      0.97      0.79       584\n",
      " Brute Force       1.00      1.00      1.00      2745\n",
      "        DDoS       1.00      1.00      1.00     38404\n",
      "         DoS       1.00      1.00      1.00     58124\n",
      "    PortScan       0.99      1.00      0.99     27208\n",
      "  Web Attack       0.98      0.99      0.98       643\n",
      "\n",
      "    accuracy                           1.00    756226\n",
      "   macro avg       0.95      0.99      0.97    756226\n",
      "weighted avg       1.00      1.00      1.00    756226\n",
      "\n"
     ]
    }
   ],
   "source": [
    "from sklearn.metrics import classification_report, confusion_matrix\n",
    "\n",
    "# Make predictions\n",
    "y_pred = pipeline.predict(X_test)\n",
    "\n",
    "# Print classification report\n",
    "print(classification_report(y_test, y_pred, target_names=le.classes_))\n",
    "\n",
    "# Examine precision, recall, and f1-score for each class\n",
    "# Useful for imbalanced data\n",
    "# High precision = fewer false positives\n",
    "# High recall = fewer false negatives\n",
    "\n",
    "# Look for classes with low recall → model missing them\n",
    "# Look for classes with low precision → model confusing them with others\n"
   ]
  },
  {
   "cell_type": "code",
   "execution_count": 15,
   "id": "49fea815",
   "metadata": {
    "execution": {
     "iopub.execute_input": "2025-05-13T14:59:12.189509Z",
     "iopub.status.busy": "2025-05-13T14:59:12.188715Z",
     "iopub.status.idle": "2025-05-13T14:59:12.618251Z",
     "shell.execute_reply": "2025-05-13T14:59:12.617249Z"
    },
    "papermill": {
     "duration": 0.438651,
     "end_time": "2025-05-13T14:59:12.619730",
     "exception": false,
     "start_time": "2025-05-13T14:59:12.181079",
     "status": "completed"
    },
    "tags": []
   },
   "outputs": [
    {
     "data": {
      "image/png": "[encoded data removed]",
      "text/plain": [
       "<Figure size 1000x800 with 2 Axes>"
      ]
     },
     "metadata": {},
     "output_type": "display_data"
    }
   ],
   "source": [
    "import seaborn as sns\n",
    "import matplotlib.pyplot as plt\n",
    "import numpy as np\n",
    "\n",
    "cm = confusion_matrix(y_test, y_pred)\n",
    "plt.figure(figsize=(10, 8))\n",
    "sns.heatmap(cm, annot=True, fmt='d', xticklabels=le.classes_, yticklabels=le.classes_, cmap='Blues')\n",
    "plt.xlabel('Predicted')\n",
    "plt.ylabel('Actual')\n",
    "plt.title('Confusion Matrix')\n",
    "plt.show()\n",
    "\n",
    "# Helps visualize which classes are most confused\n",
    "# Focus on off-diagonal values — that’s where misclassifications happen\n"
   ]
  },
  {
   "cell_type": "code",
   "execution_count": 16,
   "id": "c9ea7004",
   "metadata": {
    "execution": {
     "iopub.execute_input": "2025-05-13T14:59:12.636882Z",
     "iopub.status.busy": "2025-05-13T14:59:12.636503Z",
     "iopub.status.idle": "2025-05-13T14:59:12.851971Z",
     "shell.execute_reply": "2025-05-13T14:59:12.851038Z"
    },
    "papermill": {
     "duration": 0.225745,
     "end_time": "2025-05-13T14:59:12.853559",
     "exception": false,
     "start_time": "2025-05-13T14:59:12.627814",
     "status": "completed"
    },
    "tags": []
   },
   "outputs": [
    {
     "data": {
      "image/png": "[encoded data removed]",
      "text/plain": [
       "<Figure size 640x480 with 1 Axes>"
      ]
     },
     "metadata": {},
     "output_type": "display_data"
    }
   ],
   "source": [
    "import pandas as pd\n",
    "\n",
    "# See how imbalanced the classes are\n",
    "pd.Series(le.inverse_transform(y_train_downsampled)).value_counts().plot(kind='bar', title='Training Set Class Distribution')\n",
    "plt.xlabel('Class')\n",
    "plt.ylabel('Count')\n",
    "plt.show()\n",
    "\n",
    "# Compare this to classification report: classes with fewer samples usually have lower recall\n"
   ]
  },
  {
   "cell_type": "code",
   "execution_count": 17,
   "id": "5ad9299a",
   "metadata": {
    "execution": {
     "iopub.execute_input": "2025-05-13T14:59:12.872062Z",
     "iopub.status.busy": "2025-05-13T14:59:12.871763Z",
     "iopub.status.idle": "2025-05-13T14:59:12.987293Z",
     "shell.execute_reply": "2025-05-13T14:59:12.986272Z"
    },
    "papermill": {
     "duration": 0.126629,
     "end_time": "2025-05-13T14:59:12.988928",
     "exception": false,
     "start_time": "2025-05-13T14:59:12.862299",
     "status": "completed"
    },
    "tags": []
   },
   "outputs": [
    {
     "name": "stdout",
     "output_type": "stream",
     "text": [
      "['BENIGN' 'PortScan' 'Web Attack' 'Brute Force' 'DDoS' 'Bot' 'DoS']\n"
     ]
    }
   ],
   "source": [
    "print(data[\"Attack_Type\"].unique())"
   ]
  },
  {
   "cell_type": "markdown",
   "id": "06e1e912",
   "metadata": {
    "papermill": {
     "duration": 0.008974,
     "end_time": "2025-05-13T14:59:13.006798",
     "exception": false,
     "start_time": "2025-05-13T14:59:12.997824",
     "status": "completed"
    },
    "tags": []
   },
   "source": [
    "The model before undersampling performed better. Therefore,we will take it. "
   ]
  },
  {
   "cell_type": "code",
   "execution_count": null,
   "id": "c49ff92e",
   "metadata": {
    "papermill": {
     "duration": 0.008349,
     "end_time": "2025-05-13T14:59:13.023625",
     "exception": false,
     "start_time": "2025-05-13T14:59:13.015276",
     "status": "completed"
    },
    "tags": []
   },
   "outputs": [],
   "source": []
  }
 ],
 "metadata": {
  "kaggle": {
   "accelerator": "none",
   "dataSources": [
    {
     "datasetId": 7384233,
     "sourceId": 11762273,
     "sourceType": "datasetVersion"
    },
    {
     "datasetId": 7401296,
     "sourceId": 11787692,
     "sourceType": "datasetVersion"
    }
   ],
   "dockerImageVersionId": 31012,
   "isGpuEnabled": false,
   "isInternetEnabled": true,
   "language": "python",
   "sourceType": "notebook"
  },
  "kernelspec": {
   "display_name": "Python 3",
   "language": "python",
   "name": "python3"
  },
  "language_info": {
   "codemirror_mode": {
    "name": "ipython",
    "version": 3
   },
   "file_extension": ".py",
   "mimetype": "text/x-python",
   "name": "python",
   "nbconvert_exporter": "python",
   "pygments_lexer": "ipython3",
   "version": "3.11.11"
  },
  "papermill": {
   "default_parameters": {},
   "duration": 258.165244,
   "end_time": "2025-05-13T14:59:13.752666",
   "environment_variables": {},
   "exception": null,
   "input_path": "__notebook__.ipynb",
   "output_path": "__notebook__.ipynb",
   "parameters": {},
   "start_time": "2025-05-13T14:54:55.587422",
   "version": "2.6.0"
  }
 },
 "nbformat": 4,
 "nbformat_minor": 5
}

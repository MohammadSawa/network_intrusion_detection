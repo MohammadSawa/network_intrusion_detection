{
 "cells": [
  {
   "cell_type": "code",
   "execution_count": 1,
   "id": "c54cc747",
   "metadata": {
    "_cell_guid": "b1076dfc-b9ad-4769-8c92-a6c4dae69d19",
    "_uuid": "8f2839f25d086af736a60e9eeb907d3b93b6e0e5",
    "execution": {
     "iopub.execute_input": "2025-05-12T21:16:58.935454Z",
     "iopub.status.busy": "2025-05-12T21:16:58.934582Z",
     "iopub.status.idle": "2025-05-12T21:17:01.139034Z",
     "shell.execute_reply": "2025-05-12T21:17:01.137535Z"
    },
    "papermill": {
     "duration": 2.211555,
     "end_time": "2025-05-12T21:17:01.140809",
     "exception": false,
     "start_time": "2025-05-12T21:16:58.929254",
     "status": "completed"
    },
    "tags": []
   },
   "outputs": [
    {
     "name": "stdout",
     "output_type": "stream",
     "text": [
      "/kaggle/input/cicids2017-cleaned-data/cleaned_data.csv\n",
      "/kaggle/input/cleaned-data2/cleaned_data2.csv\n"
     ]
    }
   ],
   "source": [
    "# This Python 3 environment comes with many helpful analytics libraries installed\n",
    "# It is defined by the kaggle/python Docker image: https://github.com/kaggle/docker-python\n",
    "# For example, here's several helpful packages to load\n",
    "\n",
    "import numpy as np # linear algebra\n",
    "import pandas as pd # data processing, CSV file I/O (e.g. pd.read_csv)\n",
    "\n",
    "# Input data files are available in the read-only \"../input/\" directory\n",
    "# For example, running this (by clicking run or pressing Shift+Enter) will list all files under the input directory\n",
    "\n",
    "import os\n",
    "for dirname, _, filenames in os.walk('/kaggle/input'):\n",
    "    for filename in filenames:\n",
    "        print(os.path.join(dirname, filename))\n",
    "\n",
    "# You can write up to 20GB to the current directory (/kaggle/working/) that gets preserved as output when you create a version using \"Save & Run All\" \n",
    "# You can also write temporary files to /kaggle/temp/, but they won't be saved outside of the current session"
   ]
  },
  {
   "cell_type": "code",
   "execution_count": 2,
   "id": "12cdf7c5",
   "metadata": {
    "execution": {
     "iopub.execute_input": "2025-05-12T21:17:01.150572Z",
     "iopub.status.busy": "2025-05-12T21:17:01.149112Z",
     "iopub.status.idle": "2025-05-12T21:17:01.154963Z",
     "shell.execute_reply": "2025-05-12T21:17:01.153954Z"
    },
    "papermill": {
     "duration": 0.012338,
     "end_time": "2025-05-12T21:17:01.157191",
     "exception": false,
     "start_time": "2025-05-12T21:17:01.144853",
     "status": "completed"
    },
    "tags": []
   },
   "outputs": [],
   "source": [
    "# !pip install --quiet --upgrade scikit-learn imbalanced-learn\n",
    "# import os\n",
    "# os._exit(0)  # This will restart the kernel"
   ]
  },
  {
   "cell_type": "code",
   "execution_count": 3,
   "id": "aaab50f5",
   "metadata": {
    "execution": {
     "iopub.execute_input": "2025-05-12T21:17:01.164636Z",
     "iopub.status.busy": "2025-05-12T21:17:01.164337Z",
     "iopub.status.idle": "2025-05-12T21:17:20.827696Z",
     "shell.execute_reply": "2025-05-12T21:17:20.826651Z"
    },
    "papermill": {
     "duration": 19.669151,
     "end_time": "2025-05-12T21:17:20.829575",
     "exception": false,
     "start_time": "2025-05-12T21:17:01.160424",
     "status": "completed"
    },
    "tags": []
   },
   "outputs": [],
   "source": [
    "data = pd.read_csv(\"/kaggle/input/cleaned-data2/cleaned_data2.csv\")"
   ]
  },
  {
   "cell_type": "code",
   "execution_count": 4,
   "id": "13d2ca99",
   "metadata": {
    "execution": {
     "iopub.execute_input": "2025-05-12T21:17:20.837375Z",
     "iopub.status.busy": "2025-05-12T21:17:20.836994Z",
     "iopub.status.idle": "2025-05-12T21:17:23.393438Z",
     "shell.execute_reply": "2025-05-12T21:17:23.392272Z"
    },
    "papermill": {
     "duration": 2.562659,
     "end_time": "2025-05-12T21:17:23.395663",
     "exception": false,
     "start_time": "2025-05-12T21:17:20.833004",
     "status": "completed"
    },
    "tags": []
   },
   "outputs": [],
   "source": [
    "from sklearn.pipeline import Pipeline\n",
    "from sklearn.preprocessing import RobustScaler\n",
    "from sklearn.ensemble import RandomForestClassifier\n",
    "from sklearn.model_selection import train_test_split"
   ]
  },
  {
   "cell_type": "code",
   "execution_count": 5,
   "id": "fbbd5595",
   "metadata": {
    "execution": {
     "iopub.execute_input": "2025-05-12T21:17:23.408182Z",
     "iopub.status.busy": "2025-05-12T21:17:23.407155Z",
     "iopub.status.idle": "2025-05-12T21:17:28.821361Z",
     "shell.execute_reply": "2025-05-12T21:17:28.819997Z"
    },
    "papermill": {
     "duration": 5.422582,
     "end_time": "2025-05-12T21:17:28.823459",
     "exception": false,
     "start_time": "2025-05-12T21:17:23.400877",
     "status": "completed"
    },
    "tags": []
   },
   "outputs": [],
   "source": [
    "from sklearn.model_selection import train_test_split\n",
    "\n",
    "# Define features and target\n",
    "X = data.drop(columns=['Attack_Type'])  # Replace with your actual target column name\n",
    "y = data['Attack_Type']\n",
    "\n",
    "X_train, X_test, y_train, y_test = train_test_split(\n",
    "    X, y, stratify=y, test_size=0.3, random_state=42\n",
    ")\n"
   ]
  },
  {
   "cell_type": "code",
   "execution_count": 6,
   "id": "fbbec26f",
   "metadata": {
    "execution": {
     "iopub.execute_input": "2025-05-12T21:17:28.833411Z",
     "iopub.status.busy": "2025-05-12T21:17:28.832025Z",
     "iopub.status.idle": "2025-05-12T21:17:28.836940Z",
     "shell.execute_reply": "2025-05-12T21:17:28.836144Z"
    },
    "papermill": {
     "duration": 0.011913,
     "end_time": "2025-05-12T21:17:28.838654",
     "exception": false,
     "start_time": "2025-05-12T21:17:28.826741",
     "status": "completed"
    },
    "tags": []
   },
   "outputs": [],
   "source": [
    "# # Apply SMOTE before fitting\n",
    "# X_train_resampled, y_train_resampled = SMOTE().fit_resample(X_train, y_train)\n"
   ]
  },
  {
   "cell_type": "code",
   "execution_count": 7,
   "id": "e978e6dd",
   "metadata": {
    "execution": {
     "iopub.execute_input": "2025-05-12T21:17:28.846218Z",
     "iopub.status.busy": "2025-05-12T21:17:28.845757Z",
     "iopub.status.idle": "2025-05-12T21:17:28.851021Z",
     "shell.execute_reply": "2025-05-12T21:17:28.849997Z"
    },
    "papermill": {
     "duration": 0.011026,
     "end_time": "2025-05-12T21:17:28.852738",
     "exception": false,
     "start_time": "2025-05-12T21:17:28.841712",
     "status": "completed"
    },
    "tags": []
   },
   "outputs": [],
   "source": [
    "random_forest_pipeline = Pipeline([\n",
    "    ('scaler', RobustScaler()),\n",
    "    ('clf', RandomForestClassifier(\n",
    "        n_estimators=100,\n",
    "        class_weight='balanced',\n",
    "        random_state=42,\n",
    "        n_jobs=-1\n",
    "    ))\n",
    "])"
   ]
  },
  {
   "cell_type": "code",
   "execution_count": 8,
   "id": "0e7b758e",
   "metadata": {
    "execution": {
     "iopub.execute_input": "2025-05-12T21:17:28.860701Z",
     "iopub.status.busy": "2025-05-12T21:17:28.860377Z",
     "iopub.status.idle": "2025-05-12T21:22:15.567387Z",
     "shell.execute_reply": "2025-05-12T21:22:15.564556Z"
    },
    "papermill": {
     "duration": 286.717116,
     "end_time": "2025-05-12T21:22:15.572999",
     "exception": false,
     "start_time": "2025-05-12T21:17:28.855883",
     "status": "completed"
    },
    "tags": []
   },
   "outputs": [
    {
     "data": {
      "text/html": [
       "<style>#sk-container-id-1 {color: black;background-color: white;}#sk-container-id-1 pre{padding: 0;}#sk-container-id-1 div.sk-toggleable {background-color: white;}#sk-container-id-1 label.sk-toggleable__label {cursor: pointer;display: block;width: 100%;margin-bottom: 0;padding: 0.3em;box-sizing: border-box;text-align: center;}#sk-container-id-1 label.sk-toggleable__label-arrow:before {content: \"▸\";float: left;margin-right: 0.25em;color: #696969;}#sk-container-id-1 label.sk-toggleable__label-arrow:hover:before {color: black;}#sk-container-id-1 div.sk-estimator:hover label.sk-toggleable__label-arrow:before {color: black;}#sk-container-id-1 div.sk-toggleable__content {max-height: 0;max-width: 0;overflow: hidden;text-align: left;background-color: #f0f8ff;}#sk-container-id-1 div.sk-toggleable__content pre {margin: 0.2em;color: black;border-radius: 0.25em;background-color: #f0f8ff;}#sk-container-id-1 input.sk-toggleable__control:checked~div.sk-toggleable__content {max-height: 200px;max-width: 100%;overflow: auto;}#sk-container-id-1 input.sk-toggleable__control:checked~label.sk-toggleable__label-arrow:before {content: \"▾\";}#sk-container-id-1 div.sk-estimator input.sk-toggleable__control:checked~label.sk-toggleable__label {background-color: #d4ebff;}#sk-container-id-1 div.sk-label input.sk-toggleable__control:checked~label.sk-toggleable__label {background-color: #d4ebff;}#sk-container-id-1 input.sk-hidden--visually {border: 0;clip: rect(1px 1px 1px 1px);clip: rect(1px, 1px, 1px, 1px);height: 1px;margin: -1px;overflow: hidden;padding: 0;position: absolute;width: 1px;}#sk-container-id-1 div.sk-estimator {font-family: monospace;background-color: #f0f8ff;border: 1px dotted black;border-radius: 0.25em;box-sizing: border-box;margin-bottom: 0.5em;}#sk-container-id-1 div.sk-estimator:hover {background-color: #d4ebff;}#sk-container-id-1 div.sk-parallel-item::after {content: \"\";width: 100%;border-bottom: 1px solid gray;flex-grow: 1;}#sk-container-id-1 div.sk-label:hover label.sk-toggleable__label {background-color: #d4ebff;}#sk-container-id-1 div.sk-serial::before {content: \"\";position: absolute;border-left: 1px solid gray;box-sizing: border-box;top: 0;bottom: 0;left: 50%;z-index: 0;}#sk-container-id-1 div.sk-serial {display: flex;flex-direction: column;align-items: center;background-color: white;padding-right: 0.2em;padding-left: 0.2em;position: relative;}#sk-container-id-1 div.sk-item {position: relative;z-index: 1;}#sk-container-id-1 div.sk-parallel {display: flex;align-items: stretch;justify-content: center;background-color: white;position: relative;}#sk-container-id-1 div.sk-item::before, #sk-container-id-1 div.sk-parallel-item::before {content: \"\";position: absolute;border-left: 1px solid gray;box-sizing: border-box;top: 0;bottom: 0;left: 50%;z-index: -1;}#sk-container-id-1 div.sk-parallel-item {display: flex;flex-direction: column;z-index: 1;position: relative;background-color: white;}#sk-container-id-1 div.sk-parallel-item:first-child::after {align-self: flex-end;width: 50%;}#sk-container-id-1 div.sk-parallel-item:last-child::after {align-self: flex-start;width: 50%;}#sk-container-id-1 div.sk-parallel-item:only-child::after {width: 0;}#sk-container-id-1 div.sk-dashed-wrapped {border: 1px dashed gray;margin: 0 0.4em 0.5em 0.4em;box-sizing: border-box;padding-bottom: 0.4em;background-color: white;}#sk-container-id-1 div.sk-label label {font-family: monospace;font-weight: bold;display: inline-block;line-height: 1.2em;}#sk-container-id-1 div.sk-label-container {text-align: center;}#sk-container-id-1 div.sk-container {/* jupyter's `normalize.less` sets `[hidden] { display: none; }` but bootstrap.min.css set `[hidden] { display: none !important; }` so we also need the `!important` here to be able to override the default hidden behavior on the sphinx rendered scikit-learn.org. See: https://github.com/scikit-learn/scikit-learn/issues/21755 */display: inline-block !important;position: relative;}#sk-container-id-1 div.sk-text-repr-fallback {display: none;}</style><div id=\"sk-container-id-1\" class=\"sk-top-container\"><div class=\"sk-text-repr-fallback\"><pre>Pipeline(steps=[(&#x27;scaler&#x27;, RobustScaler()),\n",
       "                (&#x27;clf&#x27;,\n",
       "                 RandomForestClassifier(class_weight=&#x27;balanced&#x27;, n_jobs=-1,\n",
       "                                        random_state=42))])</pre><b>In a Jupyter environment, please rerun this cell to show the HTML representation or trust the notebook. <br />On GitHub, the HTML representation is unable to render, please try loading this page with nbviewer.org.</b></div><div class=\"sk-container\" hidden><div class=\"sk-item sk-dashed-wrapped\"><div class=\"sk-label-container\"><div class=\"sk-label sk-toggleable\"><input class=\"sk-toggleable__control sk-hidden--visually\" id=\"sk-estimator-id-1\" type=\"checkbox\" ><label for=\"sk-estimator-id-1\" class=\"sk-toggleable__label sk-toggleable__label-arrow\">Pipeline</label><div class=\"sk-toggleable__content\"><pre>Pipeline(steps=[(&#x27;scaler&#x27;, RobustScaler()),\n",
       "                (&#x27;clf&#x27;,\n",
       "                 RandomForestClassifier(class_weight=&#x27;balanced&#x27;, n_jobs=-1,\n",
       "                                        random_state=42))])</pre></div></div></div><div class=\"sk-serial\"><div class=\"sk-item\"><div class=\"sk-estimator sk-toggleable\"><input class=\"sk-toggleable__control sk-hidden--visually\" id=\"sk-estimator-id-2\" type=\"checkbox\" ><label for=\"sk-estimator-id-2\" class=\"sk-toggleable__label sk-toggleable__label-arrow\">RobustScaler</label><div class=\"sk-toggleable__content\"><pre>RobustScaler()</pre></div></div></div><div class=\"sk-item\"><div class=\"sk-estimator sk-toggleable\"><input class=\"sk-toggleable__control sk-hidden--visually\" id=\"sk-estimator-id-3\" type=\"checkbox\" ><label for=\"sk-estimator-id-3\" class=\"sk-toggleable__label sk-toggleable__label-arrow\">RandomForestClassifier</label><div class=\"sk-toggleable__content\"><pre>RandomForestClassifier(class_weight=&#x27;balanced&#x27;, n_jobs=-1, random_state=42)</pre></div></div></div></div></div></div></div>"
      ],
      "text/plain": [
       "Pipeline(steps=[('scaler', RobustScaler()),\n",
       "                ('clf',\n",
       "                 RandomForestClassifier(class_weight='balanced', n_jobs=-1,\n",
       "                                        random_state=42))])"
      ]
     },
     "execution_count": 8,
     "metadata": {},
     "output_type": "execute_result"
    }
   ],
   "source": [
    "random_forest_pipeline.fit(X_train, y_train)"
   ]
  },
  {
   "cell_type": "code",
   "execution_count": 9,
   "id": "0bc183a8",
   "metadata": {
    "execution": {
     "iopub.execute_input": "2025-05-12T21:22:15.596884Z",
     "iopub.status.busy": "2025-05-12T21:22:15.595876Z",
     "iopub.status.idle": "2025-05-12T21:22:15.848093Z",
     "shell.execute_reply": "2025-05-12T21:22:15.847021Z"
    },
    "papermill": {
     "duration": 0.268514,
     "end_time": "2025-05-12T21:22:15.850233",
     "exception": false,
     "start_time": "2025-05-12T21:22:15.581719",
     "status": "completed"
    },
    "tags": []
   },
   "outputs": [
    {
     "data": {
      "text/plain": [
       "['rf_pipeline_without_smote.pkl']"
      ]
     },
     "execution_count": 9,
     "metadata": {},
     "output_type": "execute_result"
    }
   ],
   "source": [
    "import joblib\n",
    "joblib.dump(random_forest_pipeline, \"rf_pipeline_without_smote.pkl\")"
   ]
  },
  {
   "cell_type": "code",
   "execution_count": 10,
   "id": "c6fd2142",
   "metadata": {
    "execution": {
     "iopub.execute_input": "2025-05-12T21:22:15.871398Z",
     "iopub.status.busy": "2025-05-12T21:22:15.871004Z",
     "iopub.status.idle": "2025-05-12T21:22:58.562034Z",
     "shell.execute_reply": "2025-05-12T21:22:58.560975Z"
    },
    "papermill": {
     "duration": 42.706605,
     "end_time": "2025-05-12T21:22:58.566924",
     "exception": false,
     "start_time": "2025-05-12T21:22:15.860319",
     "status": "completed"
    },
    "tags": []
   },
   "outputs": [
    {
     "name": "stdout",
     "output_type": "stream",
     "text": [
      "              precision    recall  f1-score   support\n",
      "\n",
      "      BENIGN     0.9990    0.9993    0.9992    628518\n",
      "         Bot     0.8672    0.7825    0.8227       584\n",
      " Brute Force     1.0000    0.9964    0.9982      2745\n",
      "        DDoS     0.9999    0.9997    0.9998     38404\n",
      "         DoS     0.9983    0.9969    0.9976     58124\n",
      "    PortScan     0.9895    0.9895    0.9895     27208\n",
      "  Web Attack     0.9843    0.9751    0.9797       643\n",
      "\n",
      "    accuracy                         0.9986    756226\n",
      "   macro avg     0.9769    0.9628    0.9695    756226\n",
      "weighted avg     0.9986    0.9986    0.9986    756226\n",
      "\n"
     ]
    }
   ],
   "source": [
    "from sklearn.metrics import classification_report, confusion_matrix, ConfusionMatrixDisplay\n",
    "\n",
    "y_pred = random_forest_pipeline.predict(X_test)\n",
    "\n",
    "# Classification report\n",
    "print(classification_report(y_test, y_pred, digits=4))\n"
   ]
  },
  {
   "cell_type": "code",
   "execution_count": 11,
   "id": "571480c8",
   "metadata": {
    "execution": {
     "iopub.execute_input": "2025-05-12T21:22:58.575037Z",
     "iopub.status.busy": "2025-05-12T21:22:58.574710Z",
     "iopub.status.idle": "2025-05-12T21:23:05.329959Z",
     "shell.execute_reply": "2025-05-12T21:23:05.329003Z"
    },
    "papermill": {
     "duration": 6.761538,
     "end_time": "2025-05-12T21:23:05.331971",
     "exception": false,
     "start_time": "2025-05-12T21:22:58.570433",
     "status": "completed"
    },
    "tags": []
   },
   "outputs": [
    {
     "data": {
      "text/plain": [
       "<sklearn.metrics._plot.confusion_matrix.ConfusionMatrixDisplay at 0x78ddeaa89a10>"
      ]
     },
     "execution_count": 11,
     "metadata": {},
     "output_type": "execute_result"
    },
    {
     "data": {
      "image/png": "[encoded data removed]",
      "text/plain": [
       "<Figure size 640x480 with 2 Axes>"
      ]
     },
     "metadata": {},
     "output_type": "display_data"
    }
   ],
   "source": [
    "\n",
    "# Confusion matrix\n",
    "ConfusionMatrixDisplay.from_predictions(y_test, y_pred, xticks_rotation='vertical')\n"
   ]
  },
  {
   "cell_type": "code",
   "execution_count": 12,
   "id": "5797ce02",
   "metadata": {
    "execution": {
     "iopub.execute_input": "2025-05-12T21:23:05.342994Z",
     "iopub.status.busy": "2025-05-12T21:23:05.342425Z",
     "iopub.status.idle": "2025-05-12T21:23:28.925266Z",
     "shell.execute_reply": "2025-05-12T21:23:28.924224Z"
    },
    "papermill": {
     "duration": 23.590159,
     "end_time": "2025-05-12T21:23:28.927022",
     "exception": false,
     "start_time": "2025-05-12T21:23:05.336863",
     "status": "completed"
    },
    "tags": []
   },
   "outputs": [
    {
     "name": "stdout",
     "output_type": "stream",
     "text": [
      "Macro F1-score: 0.9695\n",
      "Macro Precision: 0.9769\n",
      "Macro Recall: 0.9628\n"
     ]
    }
   ],
   "source": [
    "from sklearn.metrics import f1_score, precision_score, recall_score\n",
    "\n",
    "# Macro-averaged scores (handles imbalance)\n",
    "f1 = f1_score(y_test, y_pred, average='macro')\n",
    "precision = precision_score(y_test, y_pred, average='macro')\n",
    "recall = recall_score(y_test, y_pred, average='macro')\n",
    "\n",
    "print(f\"Macro F1-score: {f1:.4f}\")\n",
    "print(f\"Macro Precision: {precision:.4f}\")\n",
    "print(f\"Macro Recall: {recall:.4f}\")\n"
   ]
  },
  {
   "cell_type": "code",
   "execution_count": null,
   "id": "b189a1be",
   "metadata": {
    "papermill": {
     "duration": 0.005111,
     "end_time": "2025-05-12T21:23:28.937067",
     "exception": false,
     "start_time": "2025-05-12T21:23:28.931956",
     "status": "completed"
    },
    "tags": []
   },
   "outputs": [],
   "source": []
  }
 ],
 "metadata": {
  "kaggle": {
   "accelerator": "none",
   "dataSources": [
    {
     "datasetId": 7384233,
     "sourceId": 11762273,
     "sourceType": "datasetVersion"
    },
    {
     "datasetId": 7401586,
     "sourceId": 11788061,
     "sourceType": "datasetVersion"
    }
   ],
   "dockerImageVersionId": 31012,
   "isGpuEnabled": false,
   "isInternetEnabled": true,
   "language": "python",
   "sourceType": "notebook"
  },
  "kernelspec": {
   "display_name": "Python 3",
   "language": "python",
   "name": "python3"
  },
  "language_info": {
   "codemirror_mode": {
    "name": "ipython",
    "version": 3
   },
   "file_extension": ".py",
   "mimetype": "text/x-python",
   "name": "python",
   "nbconvert_exporter": "python",
   "pygments_lexer": "ipython3",
   "version": "3.11.11"
  },
  "papermill": {
   "default_parameters": {},
   "duration": 396.174501,
   "end_time": "2025-05-12T21:23:29.764631",
   "environment_variables": {},
   "exception": null,
   "input_path": "__notebook__.ipynb",
   "output_path": "__notebook__.ipynb",
   "parameters": {},
   "start_time": "2025-05-12T21:16:53.590130",
   "version": "2.6.0"
  }
 },
 "nbformat": 4,
 "nbformat_minor": 5
}
